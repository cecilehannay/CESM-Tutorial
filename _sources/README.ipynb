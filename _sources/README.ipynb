{
 "cells": [
  {
   "cell_type": "markdown",
   "metadata": {
    "tags": []
   },
   "source": [
    "# Welcome to the CESM Tutorial!\n",
    "\n",
    "This tutorial is an introduction to running the [Community Earth Systems Model (CESM)](https://www.cesm.ucar.edu).  Our approach with this material is to give you short, self-contained training sessions that contain interactive examples of how to run and use the model and its tools.  If you're new to Jupyter notebooks, we'll have a very brief primer below.\n",
    "\n",
    "We know everyone has a different level of familiarity with CESM, supercomputers, Jupyter notebooks and earth system science in general -- we want you to comfortably explore this material at your *own pace*.  Chapters can be done in any order, so feel free to jump around if you like.  The default order should bring you up to speed from simpler to more complex lessons, and is a good starting point.\n",
    "\n",
    "We're happy to answer any questions you have, or talk in more detail about your research needs, and we're always happy to get feedback on how to improve this material for future lessons, so please share your thoughts.  Most of all, we're excited for your interest in earth system modeling, and look forward to helping you get started!\n",
    "\n",
    "\n",
    "<div>"
   ]
  }
 ],
 "metadata": {
  "kernelspec": {
   "display_name": "Bash",
   "language": "bash",
   "name": "bash"
  },
  "language_info": {
   "codemirror_mode": "shell",
   "file_extension": ".sh",
   "mimetype": "text/x-sh",
   "name": "bash"
  }
 },
 "nbformat": 4,
 "nbformat_minor": 4
}
