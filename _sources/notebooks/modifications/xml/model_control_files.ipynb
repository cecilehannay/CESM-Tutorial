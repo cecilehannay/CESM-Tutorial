{
 "cells": [
  {
   "cell_type": "markdown",
   "id": "f406f992-92bd-4b17-9bd3-b99c5c8abaf3",
   "metadata": {},
   "source": [
    "# How to Modify Model Control Files (*.xml)\n",
    "\n",
    "Now let's learn how to edit and search for variables in an *.xml file\n",
    "\n",
    "We will use **xmlchange** to modify xml variables and use **xmlquery** to search xml variables."
   ]
  },
  {
   "cell_type": "markdown",
   "id": "0f82a5d4-62f5-462f-b162-bf4854a5e8d0",
   "metadata": {},
   "source": [
    "***\n",
    "<br>"
   ]
  },
  {
   "cell_type": "markdown",
   "id": "37497e69-075a-4099-a65d-e1c5cf91086e",
   "metadata": {},
   "source": [
    "## 1. Editing with xmlchange"
   ]
  },
  {
   "cell_type": "markdown",
   "id": "c1f5f422-194f-4bc9-85a1-5610a266b6c6",
   "metadata": {},
   "source": [
    "When modifying an *.xml file, we highly recommend using the **xmlchange** tool. This is done using the syntax `./xmlchange VARIABLE=VALUE` in your case directory. "
   ]
  },
  {
   "cell_type": "markdown",
   "id": "057cc9f0-14fc-46f7-b3a5-9eca551dbe16",
   "metadata": {},
   "source": [
    "P.S. The xml files can be edited manually with your favorate editor (vi, emacs, etc.), but users should take care not to introduce any formatting errors that could lead to incomplete env settings."
   ]
  },
  {
   "cell_type": "markdown",
   "id": "9f827660-20ac-40b5-a67b-62fc89d93384",
   "metadata": {},
   "source": [
    "### Example 1"
   ]
  },
  {
   "cell_type": "markdown",
   "id": "2c4a7c72-2021-445f-80e4-84539d782e6f",
   "metadata": {},
   "source": [
    "If you want to change the length of your run to one month, edit env_run.xml via the xmlchange tool by typing on the command line: "
   ]
  },
  {
   "cell_type": "code",
   "execution_count": 5,
   "id": "b50fa749-df58-4906-a52d-1e7f8c9b4159",
   "metadata": {},
   "outputs": [],
   "source": [
    "./xmlchange STOP_OPTION=nmonths,STOP_N=1"
   ]
  },
  {
   "cell_type": "markdown",
   "id": "3221a454-5c83-40c0-ab4e-744a63fa9971",
   "metadata": {},
   "source": [
    "<div class=\"alert alert-warning\">\n",
    "    \n",
    "   <summary>\n",
    "        <img src=\"https://freesvg.org/img/bulb_on.png\" width=\"20px\">\n",
    "       <font face=\"Times New Roman\" color='blue' size=\"4\">Tips!</font>\n",
    "    </summary>\n",
    "When using xmlchange to modify multiple envoronment variables, use comma (and no space!) in between variables.\n",
    "    \n",
    "You can always find help by typing `./xmlchange --help`\n",
    "    \n",
    "</div>"
   ]
  },
  {
   "cell_type": "markdown",
   "id": "bfcc9eca-86f5-4ad0-a481-3f8b481e5a6c",
   "metadata": {},
   "source": [
    "### Exercise 1"
   ]
  },
  {
   "cell_type": "markdown",
   "id": "bab2a8f3-4cee-4bba-a8fe-570ac306871d",
   "metadata": {},
   "source": [
    "You want to mannually resubmit an initial case that previously had a CONTINUE_RUN value of FALSE, change it to TRUE."
   ]
  },
  {
   "cell_type": "code",
   "execution_count": null,
   "id": "f1a4057a-5d35-4715-ba7a-ffea058a802b",
   "metadata": {},
   "outputs": [],
   "source": [
    "# Enter you command here\n"
   ]
  },
  {
   "cell_type": "markdown",
   "id": "eb5cf8e0-a6e1-4dbd-9aa7-2ffc3b59a01f",
   "metadata": {},
   "source": [
    "<div class=\"alert alert-success\">\n",
    "   \n",
    "<details>   \n",
    "   <summary>\n",
    "        <img src=\"https://freesvg.org/img/help-browser.png\" width=\"20px\">\n",
    "       <font face=\"Times New Roman\" color='blue' size=\"4\">Click here for a solution to Exercise #1</font>\n",
    "    </summary>\n",
    "Use xmlchange to modify the variable value:\n",
    "<br>\n",
    "./xmlchange CONTINUE_RUN=TRUE \n",
    "</details>\n",
    "</div>"
   ]
  },
  {
   "cell_type": "markdown",
   "id": "b4cdce13-52a4-4dcc-bd19-93db33339402",
   "metadata": {},
   "source": [
    "<br>\n",
    "<br>\n",
    "\n",
    "***"
   ]
  },
  {
   "cell_type": "markdown",
   "id": "9dcd9f04-8a62-40bb-8901-c709edab0764",
   "metadata": {},
   "source": [
    "## 2. Searching xml variables with xmlquery"
   ]
  },
  {
   "cell_type": "markdown",
   "id": "85e1421c-8386-4d7b-aa51-a0d0240d3a8b",
   "metadata": {},
   "source": [
    "We recommend using the **xmlquery** tool in your case directory to query xml variables."
   ]
  },
  {
   "cell_type": "markdown",
   "id": "8fbf22fb-5dc2-4e14-9cf2-9850cbbd7495",
   "metadata": {},
   "source": [
    "### Example 2"
   ]
  },
  {
   "cell_type": "markdown",
   "id": "01d3cdf9-7eb5-4dc4-9745-1efb571f0efb",
   "metadata": {},
   "source": [
    "To find out the run type of your job, search for xml variable \"RUN_TYPE\": "
   ]
  },
  {
   "cell_type": "code",
   "execution_count": null,
   "id": "7df01a11-c3e6-492b-b48b-87d29df2ca57",
   "metadata": {},
   "outputs": [],
   "source": [
    "./xmlquery RUN_TYPE"
   ]
  },
  {
   "cell_type": "markdown",
   "id": "67864bd6-d229-4b28-b976-6e18883b042b",
   "metadata": {},
   "source": [
    "<div class=\"alert alert-warning\">\n",
    "    \n",
    "   <summary>\n",
    "        <img src=\"https://freesvg.org/img/bulb_on.png\" width=\"20px\">\n",
    "       <font face=\"Times New Roman\" color='blue' size=\"4\">Tips!</font>\n",
    "    </summary>\n",
    "\n",
    "You can always find help by typing `./xmlquery --help` \n",
    "</div>"
   ]
  },
  {
   "cell_type": "markdown",
   "id": "b01a2599-923a-4a78-ae97-42904f679e52",
   "metadata": {},
   "source": [
    "This will return the default RUN_TYPE value:\n",
    ">RUN_TYPE: hybrid"
   ]
  },
  {
   "cell_type": "markdown",
   "id": "8493330e-84bf-4099-a2c3-7c09873630a0",
   "metadata": {},
   "source": [
    "### Exercise 2\n"
   ]
  },
  {
   "cell_type": "markdown",
   "id": "9adc30a9-549b-4a68-a25a-743fab747aa6",
   "metadata": {},
   "source": [
    "Let's check if the variables in Exercise 1 are properly modified."
   ]
  },
  {
   "cell_type": "markdown",
   "id": "f6e50e3d-e75f-4cbc-ad33-a0c4ee887b50",
   "metadata": {},
   "source": [
    "Query for the value of STOP_N, STOP_OPTION, and CONTINUE_RUN:"
   ]
  },
  {
   "cell_type": "code",
   "execution_count": 14,
   "id": "75ce0014-102b-4bdd-af03-a0f3007882d2",
   "metadata": {},
   "outputs": [],
   "source": [
    "# Enter your command here: "
   ]
  },
  {
   "cell_type": "markdown",
   "id": "2a664275-f370-4438-af52-7ed9c8526517",
   "metadata": {},
   "source": [
    "<div class=\"alert alert-success\">\n",
    "   \n",
    "<details>   \n",
    "   <summary>\n",
    "        <img src=\"https://freesvg.org/img/help-browser.png\" width=\"20px\">\n",
    "       <font face=\"Times New Roman\" color='blue' size=\"4\">Click here for a solution to Exercise #2</font>\n",
    "    </summary>\n",
    "Use xmlquery to search the variables:\n",
    "<br>\n",
    "./xmlquery STOP_N,STOP_OPTION,CONTINUE_RUN \n",
    "</details>\n",
    "</div>"
   ]
  },
  {
   "cell_type": "markdown",
   "id": "ba5e3006-7d70-4e3f-bdf9-351f766bd7ca",
   "metadata": {},
   "source": [
    "<br><br> If you see: \n",
    ">STOP_N: 1 <br> \n",
    ">STOP_OPTION: nmonths <br>\n",
    ">CONTINUE_RUN: TRUE <br>\n",
    "\n",
    "Great!  You have successfully modified these variables. \n",
    "<br><br>\n",
    "\n",
    "***\n",
    "<br>"
   ]
  },
  {
   "cell_type": "markdown",
   "id": "55f9f962-c8ae-4685-ae6d-9d4a75f1d5b5",
   "metadata": {},
   "source": [
    "## 3. Use the subgroup functionality of xmlchange"
   ]
  },
  {
   "cell_type": "markdown",
   "id": "a3e50d72-dac9-42be-95a7-71e1d8759ea1",
   "metadata": {},
   "source": [
    "Now let's first try to find out the wallclock time of your job, search for xml variable \"JOB_WALLCLOCK_TIME\": "
   ]
  },
  {
   "cell_type": "code",
   "execution_count": null,
   "id": "18f79c46-cf58-45bc-9c16-824fb8ca7e05",
   "metadata": {},
   "outputs": [],
   "source": [
    "./xmlquery JOB_WALLCLOCK_TIME"
   ]
  },
  {
   "cell_type": "markdown",
   "id": "f190bd81-be55-481a-820a-522d7f77fb08",
   "metadata": {},
   "source": [
    "<div class=\"alert alert-warning\">\n",
    "    \n",
    "   <summary>\n",
    "        <img src=\"https://freesvg.org/img/bulb_on.png\" width=\"20px\">\n",
    "       <font face=\"Times New Roman\" color='blue' size=\"4\">Tips!</font>\n",
    "    </summary>\n",
    "If you are unsure about the full name of the xml variable, you can query variables with a partial match, using --partial-match or -p\n",
    "\n",
    "For example: `./xmlquery -p WALLCLOCK`\n",
    "    \n",
    "</div>"
   ]
  },
  {
   "cell_type": "markdown",
   "id": "1279be11-3868-4aac-9132-042d7efd515b",
   "metadata": {},
   "source": [
    "<br>\n",
    "You will find that the query of wallclock time returns multiple instances:"
   ]
  },
  {
   "cell_type": "markdown",
   "id": "fea58693-2073-42e9-a219-568119f870f0",
   "metadata": {},
   "source": [
    ">Results in group case.run <br>\n",
    ">JOB_WALLCLOCK_TIME: 00:30:00\n",
    "\n",
    ">Results in group case.st_archive<br>\n",
    ">JOB_WALLCLOCK_TIME: 00:30:00"
   ]
  },
  {
   "cell_type": "markdown",
   "id": "84969b59-8664-4104-a292-76c5e6d36d7f",
   "metadata": {},
   "source": [
    "The variable \"JOB-WALLCLOCK_TIME\" has two instances in two different subgroups: case.run and case.st_archive. <br>\n",
    "\n",
    "Then how do we specify which instance we want to modify?\n",
    "\n",
    "For variables that have multiple instances, we can use the **\"subgroups\"** functionality in xmlchange.\n",
    "For example, if we want to change the default WALLCLOCK time from 30 minutes to 1 hour for the short term archiver subgroup, type in the following command:"
   ]
  },
  {
   "cell_type": "code",
   "execution_count": null,
   "id": "7fddb0ef-92cc-4c41-99de-f6da2486126c",
   "metadata": {},
   "outputs": [],
   "source": [
    "./xmlchange --subgroup case.st_archive JOB_WALLCLOCK_TIME=01:00:00"
   ]
  },
  {
   "cell_type": "markdown",
   "id": "be11b2ed-b3a5-49ea-a350-bc4fa7f2e609",
   "metadata": {},
   "source": [
    "Try it your self! Type in the command above and use xmlquery to check if your modifications are correctly applied. "
   ]
  }
 ],
 "metadata": {
  "kernelspec": {
   "display_name": "Python 3 (ipykernel)",
   "language": "python",
   "name": "python3"
  },
  "language_info": {
   "codemirror_mode": {
    "name": "ipython",
    "version": 3
   },
   "file_extension": ".py",
   "mimetype": "text/x-python",
   "name": "python",
   "nbconvert_exporter": "python",
   "pygments_lexer": "ipython3",
   "version": "3.9.12"
  }
 },
 "nbformat": 4,
 "nbformat_minor": 5
}
