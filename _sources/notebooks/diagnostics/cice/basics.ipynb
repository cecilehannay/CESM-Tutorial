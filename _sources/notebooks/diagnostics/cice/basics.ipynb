{
 "cells": [
  {
   "cell_type": "markdown",
   "id": "33070195-2d5f-4ee3-b6cb-a658209b1f4d",
   "metadata": {},
   "source": [
    "# Basic Plotting"
   ]
  },
  {
   "cell_type": "markdown",
   "id": "55f2ff0c-2b84-4c10-bde3-bc23722cb0ab",
   "metadata": {},
   "source": [
    "These are examples of typical variables and plots that we look at in our sea ice diagnostics package. The most current version of the sea ice diagnostics are in the CESM Postprocessing. More information here: [CESM Postprocessing](https://github.com/NCAR/CESM_postprocessing)."
   ]
  },
  {
   "cell_type": "markdown",
   "id": "0a9043ca-ec38-4bc9-84e9-54e375c8f4e6",
   "metadata": {},
   "source": [
    "In Exercise 1, you will learn about plotting sea ice area and other variables on a polar projection."
   ]
  },
  {
   "cell_type": "markdown",
   "id": "3d56ba02-c652-4a97-a466-d3633e53aeb1",
   "metadata": {},
   "source": [
    "The first step is to import the libraries needed to plot the data. Here we will use `xarray` as a tool to read the netCDF file. We will use `numpy` for some basic math calculations. For plotting the data we will need `matplotlib`, `pop_tools`, `geocat` and `cartopy`."
   ]
  },
  {
   "cell_type": "markdown",
   "id": "98894413-8550-49ba-b5ff-c027900b253a",
   "metadata": {},
   "source": [
    "## Exercise 1: Plot Sea Ice Concentration on a polar projection."
   ]
  },
  {
   "cell_type": "code",
   "execution_count": null,
   "id": "7e7f10ae-61c8-45f1-9d5c-9be60632b556",
   "metadata": {},
   "outputs": [],
   "source": [
    "import xarray as xr\n",
    "import numpy as np\n",
    "import matplotlib.pyplot as plt\n",
    "import matplotlib.path as mpath\n",
    "from matplotlib.gridspec import GridSpec\n",
    "import pop_tools\n",
    "import cartopy.crs as ccrs\n",
    "import cartopy.feature as cfeature\n",
    "import nc_time_axis\n",
    "import cftime\n",
    "import os"
   ]
  },
  {
   "cell_type": "markdown",
   "id": "c0dd3647-5e9e-4d57-8cfb-4e0f073a269c",
   "metadata": {},
   "source": [
    "The next few steps read in sea ice concentration or (`aice`) from one of the CESM2 large ensemble historical runs. Note this operation points to multiple files on the campaign file system, so we are using the `xarray` function `open_mfdataset` for a multifile dataset. We will also print the `aice` dataset to get an idea of the metadata and dimensions. Note that we could use the 10 year simulation from the tutorial. However, 10 years is very short and is not a very interesting timeseries. Instead we can use one of the CESM2 Large Ensemble historical simulations. [Rodgers et al. 2021](https://doi.org/10.5194/esd-12-1393-2021)"
   ]
  },
  {
   "cell_type": "code",
   "execution_count": null,
   "id": "d3f591cc-dd67-4a3f-abe7-bfc740743db1",
   "metadata": {},
   "outputs": [],
   "source": [
    "\n",
    "### Here we point to the CESM2-LE datasets on campaign disk\n",
    "\n",
    "monthly_output_path = \"/glade/campaign/cgd/cesm/CESM2-LE/ice/proc/tseries/month_1\"\n",
    "run_name = \"b.e21.BHISTcmip6.f09_g17.LE2-1001.001\"\n",
    "\n",
    "### For this we will use the sea ice concentration (aice) and ice thickness (hi)\n",
    "\n",
    "var_names = ['aice',\n",
    "             'hi',\n",
    "            ]\n",
    "\n",
    "### This piece of code opens the files and combines them into a single xarray dataset\n",
    "\n",
    "da_list = []\n",
    "\n",
    "for var_name in var_names:\n",
    "    files = os.path.join(monthly_output_path, var_name,\n",
    "                         run_name + \".cice.h.\" + var_name + \".*\")\n",
    "    ds_in = xr.open_mfdataset(files)\n",
    "    da_list.append(ds_in[var_name])\n",
    "    del ds_in\n",
    "\n",
    "ds = xr.merge(da_list)\n",
    "\n",
    "del da_list\n",
    "\n",
    "aice = ds['aice']\n",
    "\n",
    "print(aice)"
   ]
  },
  {
   "cell_type": "markdown",
   "id": "ded5a0a7-9e8f-4e00-8f5e-383c68cdb201",
   "metadata": {},
   "source": [
    "The next step is to read in some grid information for the `gx1v7` dipole grid used in POP and CICE. We will read in three main variables: `tarea`, `TLAT`, and `TLON`. These are the areas of the gridcells along with the latitudes and longitudes of the gridcell centers. Also, we will print the latitude array `TLAT` to see the metadata."
   ]
  },
  {
   "cell_type": "code",
   "execution_count": null,
   "id": "19cf3c69-1a1d-467e-8071-e2be50d33150",
   "metadata": {},
   "outputs": [],
   "source": [
    "# get pop grid grid cell areas\n",
    "grid = pop_tools.get_grid('POP_gx1v7')\n",
    "\n",
    "# convert tarea to m^2\n",
    "with xr.set_options(keep_attrs=True):\n",
    "    grid['TAREA'] = grid['TAREA']/(1e4)\n",
    "grid['TAREA'].attrs['units'] = 'm^2'\n",
    "\n",
    "grid\n",
    "\n",
    "grid['TLONG']"
   ]
  },
  {
   "cell_type": "markdown",
   "id": "b89ce1e7-cad5-4b14-a95b-58de981e73c7",
   "metadata": {},
   "source": [
    "We will merge in three main variables: `tarea`, `TLAT`, and `TLON`. These are the areas of the gridcells along with the latitudes and longitudes of the gridcell centers. Note that this overwrites the dataset object from above."
   ]
  },
  {
   "cell_type": "code",
   "execution_count": null,
   "id": "4e6d86e3-2876-4c79-9cc8-8c02f935deb9",
   "metadata": {},
   "outputs": [],
   "source": [
    "ds = xr.merge([aice.drop(['TLAT', 'TLON', 'ULAT', 'ULON']),\n",
    "               grid[['TLAT', 'TLONG', 'TAREA']].rename_dims({'nlat':'nj','nlon':'ni'})],\n",
    "              compat='identical', combine_attrs='no_conflicts')\n",
    "grid['TLAT']"
   ]
  },
  {
   "cell_type": "markdown",
   "id": "101ce439-4fd7-412b-9f1d-1e7f34060747",
   "metadata": {},
   "source": [
    "The next step is to set up the northern hemisphere polar stereographic projection for plotting the sea ice concentration `aice`. We are using a \"rainbow\" colormap here and cutting off the plot with a circular boundary. Note that we are only plotting the first timeslice of the `aice` array here."
   ]
  },
  {
   "cell_type": "code",
   "execution_count": null,
   "id": "28a0da20-6bad-45d7-a61a-43d55ea2acd2",
   "metadata": {},
   "outputs": [],
   "source": [
    "# make circular boundary for polar stereographic circular plots\n",
    "theta = np.linspace(0, 2*np.pi, 100)\n",
    "center, radius = [0.5, 0.5], 0.5\n",
    "verts = np.vstack([np.sin(theta), np.cos(theta)]).T\n",
    "circle = mpath.Path(verts * radius + center)\n",
    "\n",
    "# define the colormap\n",
    "cmap = plt.cm.get_cmap('rainbow')  \n",
    "\n",
    "# set up the figure with a North Polar Stereographic projection\n",
    "fig = plt.figure(figsize=(20,20))\n",
    "ax = fig.add_subplot(1,3,1, projection=ccrs.NorthPolarStereo())\n",
    "ax.set_boundary(circle, transform=ax.transAxes)\n",
    "ax.add_feature(cfeature.LAND,zorder=100,edgecolor='k')\n",
    "\n",
    "# sets the latitude / longitude boundaries of the plot\n",
    "ax.set_extent([0.005, 360, 90, 55], crs=ccrs.PlateCarree())\n",
    "\n",
    "#Plot the first timeslice of aice\n",
    "this=ax.pcolormesh(ds['TLONG'],\n",
    "                   ds['TLAT'],\n",
    "                   ds['aice'].sel({'time':'1850-02-01 00:00:00'}).squeeze(),\n",
    "                   cmap=cmap,vmax=1,vmin=0,\n",
    "                   transform=ccrs.PlateCarree())\n",
    "plt.colorbar(this,orientation='vertical',fraction=0.04,pad=0.01)\n",
    "plt.title('Sea Ice Concentration',fontsize=20)"
   ]
  },
  {
   "cell_type": "markdown",
   "id": "a3322115-5a8a-4f2a-9c70-d3cff886c3ad",
   "metadata": {},
   "source": [
    "<div class=\"alert alert-success\">   \n",
    "<details>\n",
    "<summary><font face=\"Times New Roman\" color='blue'>Click here for the solution</font></summary><br>\n",
    "\n",
    "![plot example](../../../images/diagnostics/cice/basics_plot_1.png)\n",
    "\n",
    "*<p style=\"text-align: center;\"> Figure: Plotting solution. </p>*\n",
    "    \n",
    "</details>\n",
    "</div>"
   ]
  },
  {
   "cell_type": "markdown",
   "id": "9ea89d98-5973-4617-a612-3739fb6adb2c",
   "metadata": {},
   "source": [
    "Questions\n",
    "\n",
    "1. Why do we use February 1 to display the January monthly average? What does this mean for selecting e.g. September values?\n",
    "\n",
    "2. Try other colormaps here. Some examples to try: `viridis`, `plasma`, `Blues`. Try reversing the colormaps. Hint: add the string `_r` to the colormap name.\n",
    "\n",
    "3. Try a different timeslice from aice. Note the number of timeslices in the metadata you printed above. Note that the calendar goes from 1850-01 to 2015-12 as these are monthly mean time slices. Can you compute an annual mean over the 165 years and plot that? Can you compute the September mean over the 165 years and plot that?\n",
    "\n",
    "Hint: Use aice.mean(dim='time')\n",
    "\n",
    "4. Try sea ice thickness `hi` now. What happens to the colorbar? Try increasing the maximum value `vmax`. Note that you have to change the files that are read in.\n",
    "\n",
    "Hint: Do a search and replace on `aice` with `hi`.\n",
    "\n",
    "5. Now how about the Southern Hemisphere?\n"
   ]
  },
  {
   "cell_type": "markdown",
   "id": "863b66a4-802d-4f63-9770-db9d9c0003da",
   "metadata": {},
   "source": [
    "<div class=\"alert alert-success\">   \n",
    "<details>\n",
    "<summary><font face=\"Times New Roman\" color='blue'>Click here for the solution</font></summary><br>\n",
    "\n",
    "1. Colormaps\n",
    "```\n",
    "cmap = plt.cm.get_cmap('viridis')\n",
    "cmap = plt.cm.get_cmap('plasma')\n",
    "cmap = plt.cm.get_cmap('Blues')\n",
    "cmap = plt.cm.get_cmap('Blues_r')\n",
    "```\n",
    "<br>\n",
    "\n",
    "2. Means\n",
    "```\n",
    "this=ax.pcolormesh(ds['TLONG'],\n",
    "                   ds['TLAT'],\n",
    "                   ds['aice'].sel({'time':'1850-10-01 00:00:00'}).squeeze(),\n",
    "                   cmap=cmap,vmax=1,vmin=0,\n",
    "                   transform=ccrs.PlateCarree())\n",
    "\n",
    "this=ax.pcolormesh(ds['TLONG'],\n",
    "                   ds['TLAT'],\n",
    "                   ds['aice'].mean(dim='time'),\n",
    "                   cmap=cmap,vmax=1,vmin=0,\n",
    "                   transform=ccrs.PlateCarree())\n",
    "\n",
    "this=ax.pcolormesh(ds['TLONG'],\n",
    "                   ds['TLAT'],\n",
    "                   ds['aice'].sel(time=ds.time.dt.month.isin([10])).mean(dim='time'),\n",
    "                   cmap=cmap,vmax=1,vmin=0,\n",
    "                   transform=ccrs.PlateCarree())\n",
    "```\n",
    "<br>\n",
    "\n",
    "3. Ice Thickness\n",
    "```\n",
    "- change all occurences of `aice` to `hi`\n",
    "- Try `vmax = 5`\n",
    "```\n",
    "\n",
    "4. Southern Hemisphere\n",
    "```\n",
    "ax = fig.add_subplot(1,3,1, projection=ccrs.SouthPolarStereo())\n",
    "\n",
    "ax.set_extent([0.005, 360, -90, -55], crs=ccrs.PlateCarree())\n",
    "```\n",
    "\n",
    "</details>\n",
    "</div>"
   ]
  },
  {
   "cell_type": "markdown",
   "id": "42b295a0-4675-4d4e-814f-5aac53b90973",
   "metadata": {},
   "source": [
    "## Exercise 2: Plot a time series of total sea ice area."
   ]
  },
  {
   "cell_type": "markdown",
   "id": "9aa682c3-d6ed-4188-885f-d34268deac50",
   "metadata": {},
   "source": [
    "The first step is to compute the ice area in each grid cell by multiplying the grid cell areas by the ice area fraction. Then we subset to just grid cells in the Northern hemisphere (using `where`). Finally, we sum over all of the grid cells. We can do these operations in a single line:"
   ]
  },
  {
   "cell_type": "code",
   "execution_count": null,
   "id": "ab1c8910-677e-4345-8f06-ec3f7a4a9f07",
   "metadata": {},
   "outputs": [],
   "source": [
    "ds_area = (ds.TAREA*ds.aice).where(ds.TLAT>0).sum(dim=['nj','ni'])"
   ]
  },
  {
   "cell_type": "code",
   "execution_count": null,
   "id": "2d177fa4-70c3-4f58-8b2f-4b9193ee3cbe",
   "metadata": {},
   "outputs": [],
   "source": [
    "ds_area.plot()"
   ]
  },
  {
   "cell_type": "markdown",
   "id": "8d7a8183-ab18-4fbc-a542-43d01a53f75f",
   "metadata": {},
   "source": [
    "<div class=\"alert alert-success\">   \n",
    "<details>\n",
    "<summary><font face=\"Times New Roman\" color='blue'>Click here for the solution</font></summary><br>\n",
    "\n",
    "![plot example](../../../images/diagnostics/cice/basics_plot_2.png)\n",
    "\n",
    "*<p style=\"text-align: center;\"> Figure: Plotting solution. </p>*\n",
    "    \n",
    "</details>\n",
    "</div>"
   ]
  },
  {
   "cell_type": "markdown",
   "id": "9efb6f20-f442-42b6-a838-c0af66a98ba6",
   "metadata": {},
   "source": [
    "This plot looks very noisy! Why do you think this is? Hint: you have plotted how many years of monthly mean data? Let's try just plotting September instead.\n",
    "\n",
    "Refresher question: Why do we use month 10 (`ds_area.time.dt.month.isin([10])`) to reference September data?"
   ]
  },
  {
   "cell_type": "code",
   "execution_count": null,
   "id": "90d62f0a-e43b-4bad-a759-0133bc2860aa",
   "metadata": {},
   "outputs": [],
   "source": [
    "ds_area.sel(time=ds_area.time.dt.month.isin([10])).plot()"
   ]
  },
  {
   "cell_type": "markdown",
   "id": "83148fbe-aa53-41fe-b8fd-aeb7c2a5dc0c",
   "metadata": {},
   "source": [
    "<div class=\"alert alert-success\">   \n",
    "<details>\n",
    "<summary><font face=\"Times New Roman\" color='blue'>Click here for the solution</font></summary><br>\n",
    "\n",
    "![plot example](../../../images/diagnostics/cice/basics_plot_3.png)\n",
    "\n",
    "*<p style=\"text-align: center;\"> Figure: Plotting solution. </p>*\n",
    "    \n",
    "</details>\n",
    "</div>"
   ]
  },
  {
   "cell_type": "markdown",
   "id": "5ea1c8b6-19b9-441d-ae08-82db58ddb90a",
   "metadata": {},
   "source": [
    "Now let's plot the observational data on top. The NSIDC Sea Ice Index will be the values we want. These are computed from satellite observations. More information can be found here [Sea Ice Index](https://nsidc.org/data/seaice_index)."
   ]
  },
  {
   "cell_type": "code",
   "execution_count": null,
   "id": "de2232e9-2705-4894-b98a-a93082ae7f79",
   "metadata": {
    "tags": []
   },
   "outputs": [],
   "source": [
    "##### Add the data values manually from the datafile.\n",
    "##### Create an xarray object with the NSIDC values and the years from 1979 to 2022.\n",
    "\n",
    "seaice_index = [4.58,4.87,4.44,4.43,4.7,4.11,4.23,4.72,5.64,5.36,4.86,4.55,4.51,5.43,4.58,5.13,4.43,5.62,\\\n",
    "                4.89,4.3,4.29,4.35,4.59,4.03,4.05,4.39,4.07,4.01,2.82,3.26,3.76,3.34,3.21,2.41,3.78,3.74,\\\n",
    "                3.42,2.91,3.35,3.35,3.17,2.83,3.47,3.47]\n",
    "\n",
    "# Convert to m^2\n",
    "seaice_index = np.array(seaice_index)\n",
    "seaice_index *= 1e12\n",
    "\n",
    "nsidc_time = [cftime.datetime(y, 10, 15) for y in range(1979,2023)]\n",
    "\n",
    "nsidc_index = xr.DataArray(data=seaice_index,coords={\"time\":nsidc_time})\n",
    "\n",
    "nsidc_index\n"
   ]
  },
  {
   "cell_type": "code",
   "execution_count": null,
   "id": "00fc5097-af7d-4cf2-94ab-bb4e0a63960c",
   "metadata": {},
   "outputs": [],
   "source": [
    "ds_area.sel(time=ds_area.time.dt.month.isin([10])).plot()\n",
    "nsidc_index.plot()"
   ]
  },
  {
   "cell_type": "markdown",
   "id": "6193d89f-ce8a-48df-aaf1-cb291f360dcc",
   "metadata": {},
   "source": [
    "<div class=\"alert alert-success\">   \n",
    "<details>\n",
    "<summary><font face=\"Times New Roman\" color='blue'>Click here for the solution</font></summary><br>\n",
    "\n",
    "![plot example](../../../images/diagnostics/cice/basics_plot_4.png)\n",
    "\n",
    "*<p style=\"text-align: center;\"> Figure: Plotting solution. </p>*\n",
    "    \n",
    "</details>\n",
    "</div>"
   ]
  },
  {
   "cell_type": "markdown",
   "id": "56739796-c40b-4984-9a59-271cb399df5b",
   "metadata": {},
   "source": [
    "Why do you think the observed (orange) does not correspond to the model? The answer is that the model is 1 of 100 ensemble realizations of the 20th century and will not necessarily correspond to the observed realization."
   ]
  },
  {
   "cell_type": "markdown",
   "id": "5ded2ffd-8560-49fa-969f-22f0480018ed",
   "metadata": {},
   "source": [
    "Things to try:\n",
    "\n",
    "1. Try plotting the March total area time series. Hint: The first March is slice 2.\n",
    "\n",
    "2. Try computing total ice volume and plotting it. Hint: Use the variable `hi` in place of `aice`. Note that volume is units of $m^3$. So, you might want to scale the volume by $1.0e-13$.\n",
    "\n",
    "3. What does the Southern Hemisphere sea ice area and volume look like?"
   ]
  },
  {
   "cell_type": "markdown",
   "id": "be845b70-9592-4b30-a018-b470c8304ae5",
   "metadata": {},
   "source": [
    "<div class=\"alert alert-success\">   \n",
    "<details>\n",
    "<summary><font face=\"Times New Roman\" color='blue'>Click here for the solution</font></summary><br>\n",
    "\n",
    "1. March total area.\n",
    "```\n",
    "ds_area.sel(time=ds_area.time.dt.month.isin([4])).plot()\n",
    "```\n",
    "<br>\n",
    "\n",
    "2. Ice Volume\n",
    "```\n",
    "ds_vol = (ds.TAREA*ds.hi).where(ds.TLAT>0).sum(dim=['nj','ni'])\n",
    "```\n",
    "<br>\n",
    "    \n",
    "3. Southern Hemisphere\n",
    "```\n",
    "ds_area = (ds.TAREA*ds.aice).where(ds.TLAT<0).sum(dim=['nj','ni'])\n",
    "```\n",
    "    \n",
    "</details>\n",
    "</div>"
   ]
  },
  {
   "cell_type": "code",
   "execution_count": null,
   "id": "25cf9352-2ee8-4b2b-ae7f-d7edc764977a",
   "metadata": {},
   "outputs": [],
   "source": []
  }
 ],
 "metadata": {
  "kernelspec": {
   "display_name": "NPL 2023a",
   "language": "python",
   "name": "npl-2023a"
  },
  "language_info": {
   "codemirror_mode": {
    "name": "ipython",
    "version": 3
   },
   "file_extension": ".py",
   "mimetype": "text/x-python",
   "name": "python",
   "nbconvert_exporter": "python",
   "pygments_lexer": "ipython3",
   "version": "3.9.16"
  }
 },
 "nbformat": 4,
 "nbformat_minor": 5
}
