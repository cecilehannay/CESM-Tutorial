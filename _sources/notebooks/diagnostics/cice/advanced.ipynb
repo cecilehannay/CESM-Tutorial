{
 "cells": [
  {
   "cell_type": "markdown",
   "id": "bb50f4e0-22b4-4eff-99ac-01733347aacc",
   "metadata": {},
   "source": [
    "# Advanced Plotting"
   ]
  },
  {
   "cell_type": "markdown",
   "id": "bc842f8d-b0fe-41c2-be03-052eba873e72",
   "metadata": {},
   "source": [
    "This provides some additional examples of more advanced sea ice fields. Here we introduce the concept of the subgridscale ice thickness distribution (ITD). This means we have a fraction of ice in each grid cell that is binned into thickness categories."
   ]
  },
  {
   "cell_type": "code",
   "execution_count": null,
   "id": "504d66c5-830c-43a2-a34a-abe8c62da585",
   "metadata": {},
   "outputs": [],
   "source": [
    "import xarray as xr\n",
    "import numpy as np\n",
    "import matplotlib.pyplot as plt\n",
    "import matplotlib.path as mpath\n",
    "from matplotlib.gridspec import GridSpec\n",
    "import pop_tools\n",
    "import cartopy.crs as ccrs\n",
    "import cartopy.feature as cfeature\n",
    "import os"
   ]
  },
  {
   "cell_type": "markdown",
   "id": "14fbb751-1804-4ff7-ad07-3c292e59e895",
   "metadata": {},
   "source": [
    "For these exercises we will need to import multiple variables, below is an example of one way to do so."
   ]
  },
  {
   "cell_type": "code",
   "execution_count": null,
   "id": "3389a570-582d-4520-8fe7-4bdcd3d400e5",
   "metadata": {},
   "outputs": [],
   "source": [
    "monthly_output_path = \"/glade/campaign/cgd/cesm/CESM2-LE/ice/proc/tseries/month_1\"\n",
    "run_name = \"b.e21.BHISTcmip6.f09_g17.LE2-1001.001\"\n",
    "\n",
    "var_names = ['aice',\n",
    "             'aicen',\n",
    "             'vsnon',\n",
    "             'hs',\n",
    "             'fsens',\n",
    "             'fsens_ai',\n",
    "            ]\n",
    "\n",
    "da_list = []\n",
    "\n",
    "for var_name in var_names:\n",
    "    files = os.path.join(monthly_output_path, var_name,\n",
    "                         run_name + \".cice.h.\" + var_name + \".*\")\n",
    "    ds_in = xr.open_mfdataset(files)\n",
    "    da_list.append(ds_in[var_name])\n",
    "    del ds_in\n",
    "\n",
    "ds = xr.merge(da_list)\n",
    "\n",
    "del da_list"
   ]
  },
  {
   "cell_type": "markdown",
   "id": "fe88ed04-642c-4fe2-87aa-cd4edc1e5b4d",
   "metadata": {},
   "source": [
    "The next step is to read in some grid information for the `gx1v7` dipole grid used in POP and CICE. We will read in three main variables: `tarea`, `TLAT`, and `TLON`. These are the areas of the gridcells along with the latitudes and longitudes of the gridcell centers. Also, we will print the latitude array `TLAT` to see the metadata."
   ]
  },
  {
   "cell_type": "code",
   "execution_count": null,
   "id": "24f47162-9166-46d4-b026-515b6f892c8f",
   "metadata": {},
   "outputs": [],
   "source": [
    "# get pop grid grid cell areas\n",
    "grid = pop_tools.get_grid('POP_gx1v7')\n",
    "\n",
    "# convert tarea to m^2\n",
    "with xr.set_options(keep_attrs=True):\n",
    "    grid['TAREA'] = grid['TAREA']/(1e4)\n",
    "grid['TAREA'].attrs['units'] = 'm^2'"
   ]
  },
  {
   "cell_type": "markdown",
   "id": "785ff8b7-fdd0-4216-a059-038cbfe4e282",
   "metadata": {},
   "source": [
    "We will merge in three main variables: `tarea`, `TLAT`, and `TLON`. These are the areas of the gridcells along with the latitudes and longitudes of the gridcell centers. Note that this overwrites the dataset object from above."
   ]
  },
  {
   "cell_type": "code",
   "execution_count": null,
   "id": "da0d7049-59fc-4bda-90f4-211ed1ae387d",
   "metadata": {},
   "outputs": [],
   "source": [
    "ds = xr.merge([ds.drop(['TLAT', 'TLON', 'ULAT', 'ULON']),\n",
    "               grid[['TLAT', 'TLONG', 'TAREA']].rename_dims({'nlat':'nj','nlon':'ni'})],\n",
    "              compat='identical', combine_attrs='no_conflicts')"
   ]
  },
  {
   "cell_type": "code",
   "execution_count": null,
   "id": "b6c35032-3dd2-43b6-988e-14f03e497c28",
   "metadata": {},
   "outputs": [],
   "source": [
    "ds"
   ]
  },
  {
   "cell_type": "markdown",
   "id": "faf06e07-ee8a-4a61-a487-c0a445622e86",
   "metadata": {},
   "source": [
    "## Example 1: Plot per-category ice area\n",
    "\n",
    "Compare the dataset in this notebook with `aice` in the basics notebook. Notice that in this case we have an additional category dimension `nc`. `aicen` is the per-category ice area fraction. We demonstrate plotting a per-category variable below. We also plot the full sea ice concentration in the final plot."
   ]
  },
  {
   "cell_type": "code",
   "execution_count": null,
   "id": "ffb5f043-03ea-4483-90d2-26409072b9b5",
   "metadata": {},
   "outputs": [],
   "source": [
    "# make circular boundary for polar stereographic circular plots\n",
    "theta = np.linspace(0, 2*np.pi, 100)\n",
    "center, radius = [0.5, 0.5], 0.5\n",
    "verts = np.vstack([np.sin(theta), np.cos(theta)]).T\n",
    "circle = mpath.Path(verts * radius + center)\n",
    "\n",
    "cmap = plt.cm.get_cmap('Blues_r')  \n",
    "\n",
    "# create figure with subplots\n",
    "fig, axs = plt.subplots(3, 2, figsize=(20,30),\n",
    "                       subplot_kw={'projection':ccrs.NorthPolarStereo()})\n",
    "axs = np.ravel(axs)\n",
    "\n",
    "# this creates a subplot for each ITD category\n",
    "for i in ds.nc.values:\n",
    "    ax = axs[i]\n",
    "    ax.set_boundary(circle, transform=ax.transAxes)\n",
    "    ax.add_feature(cfeature.LAND,zorder=100,edgecolor='k')\n",
    "    ax.set_extent([0.005, 360, 90, 55], crs=ccrs.PlateCarree())\n",
    "    this=ax.pcolormesh(ds['TLONG'],\n",
    "                       ds['TLAT'],\n",
    "                       ds['aicen'].sel({'time':'1850-02-01 00:00:00',\n",
    "                                        'nc':i}).squeeze(),\n",
    "                       cmap=cmap,vmax=1,vmin=0,\n",
    "                       transform=ccrs.PlateCarree())\n",
    "    plt.colorbar(this,orientation='vertical',fraction=0.04,pad=0.01)\n",
    "    ax.set_title('Area Fraction Category ' + str(i+1))\n",
    "\n",
    "# gridcell mean aice in the final subplot\n",
    "ax = axs[-1]\n",
    "ax.set_boundary(circle, transform=ax.transAxes)\n",
    "ax.add_feature(cfeature.LAND,zorder=100,edgecolor='k')\n",
    "ax.set_extent([0.005, 360, 90, 55], crs=ccrs.PlateCarree())\n",
    "this=ax.pcolormesh(ds['TLONG'],\n",
    "                   ds['TLAT'],\n",
    "                   ds['aice'].sel({'time':'1850-02-01 00:00:00'}).squeeze(),\n",
    "                   cmap=cmap,vmax=1,vmin=0,\n",
    "                   transform=ccrs.PlateCarree())\n",
    "plt.colorbar(this,orientation='vertical',fraction=0.04,pad=0.01)\n",
    "ax.set_title('Sea Ice Concentration')"
   ]
  },
  {
   "cell_type": "markdown",
   "id": "0d50b7e3-6a20-432f-9c0e-2222b85604ed",
   "metadata": {},
   "source": [
    "## Example 2: Plot per-category snow thickness\n",
    "\n",
    "Internally, the model actually stores the snow **volume** for each category, not the thickness. To get the thickness we need to divide `vsnon` by `aicen` (the per category area.\n",
    "\n",
    "We will also plot the grid cell mean snow thickness. How does this compare with the per-category values?"
   ]
  },
  {
   "cell_type": "code",
   "execution_count": null,
   "id": "ed4b81e5-c6b5-466d-9784-74bd7bbace8a",
   "metadata": {},
   "outputs": [],
   "source": [
    "ds['hsn'] = ds['vsnon'] / ds['aicen']"
   ]
  },
  {
   "cell_type": "code",
   "execution_count": null,
   "id": "889b2691-b6b3-4363-b3fa-e4d96e4309aa",
   "metadata": {},
   "outputs": [],
   "source": [
    "# Max snow depth for colorbars\n",
    "hs_max = 0.5 \n",
    "\n",
    "# make circular boundary for polar stereographic circular plots\n",
    "theta = np.linspace(0, 2*np.pi, 100)\n",
    "center, radius = [0.5, 0.5], 0.5\n",
    "verts = np.vstack([np.sin(theta), np.cos(theta)]).T\n",
    "circle = mpath.Path(verts * radius + center)\n",
    "\n",
    "cmap = plt.cm.get_cmap('Blues_r')  \n",
    "\n",
    "\n",
    "fig, axs = plt.subplots(3, 2, figsize=(20,30),\n",
    "                       subplot_kw={'projection':ccrs.NorthPolarStereo()})\n",
    "axs = np.ravel(axs)\n",
    "\n",
    "for i in ds.nc.values:\n",
    "    ax = axs[i]\n",
    "    ax.set_boundary(circle, transform=ax.transAxes)\n",
    "    ax.add_feature(cfeature.LAND,zorder=100,edgecolor='k')\n",
    "    ax.set_extent([0.005, 360, 90, 55], crs=ccrs.PlateCarree())\n",
    "    this=ax.pcolormesh(ds['TLONG'],\n",
    "                       ds['TLAT'],\n",
    "                       ds['hsn'].sel({'time':'1850-02-01 00:00:00',\n",
    "                                        'nc':i}).squeeze(),\n",
    "                       cmap=cmap,vmax=hs_max,vmin=0,\n",
    "                       transform=ccrs.PlateCarree())\n",
    "    plt.colorbar(this,orientation='vertical',fraction=0.04,pad=0.01)\n",
    "    ax.set_title('Snow Depth (m) Category ' + str(i+1))\n",
    "\n",
    "# gridcell mean snow volume in the final subplot\n",
    "ax = axs[-1]\n",
    "ax.set_boundary(circle, transform=ax.transAxes)\n",
    "ax.add_feature(cfeature.LAND,zorder=100,edgecolor='k')\n",
    "ax.set_extent([0.005, 360, 90, 55], crs=ccrs.PlateCarree())\n",
    "this=ax.pcolormesh(ds['TLONG'],\n",
    "                   ds['TLAT'],\n",
    "                   ds['hs'].sel({'time':'1850-02-01 00:00:00'}).squeeze(),\n",
    "                   cmap=cmap,vmax=hs_max,vmin=0,\n",
    "                   transform=ccrs.PlateCarree())\n",
    "plt.colorbar(this,orientation='vertical',fraction=0.04,pad=0.01)\n",
    "ax.set_title('Average Snow Depth (m)')"
   ]
  },
  {
   "cell_type": "markdown",
   "id": "e85aa3e0-6a08-4592-b616-2dc711b28230",
   "metadata": {},
   "source": [
    "## Example 3: Ice area related tracer\n",
    "\n",
    "The default CICE outputs are averaged over the entire grid cell, including the open water. Thus if a grid cell happened to be half covered in 1-m-thick ice and half open water then `hi` would be 0.5 m. Some tracers are written out just for the ice-covered area of the grid cell. These are indicated by have `_ai` appended to the variable name.\n",
    "\n",
    "Below is an example of this for the sensible heat flux."
   ]
  },
  {
   "cell_type": "code",
   "execution_count": null,
   "id": "41e55cf3-f620-41f9-8b10-2f9d38c03fe4",
   "metadata": {},
   "outputs": [],
   "source": [
    "ds['fsens_diff'] = ds['fsens_ai'] - ds['fsens']"
   ]
  },
  {
   "cell_type": "code",
   "execution_count": null,
   "id": "5055a66c-9826-4e9e-8429-bbd43ced1ab5",
   "metadata": {},
   "outputs": [],
   "source": [
    "# Min and max\n",
    "mins = [-60, -60, -30, 0]\n",
    "maxs = [60, 60, 30, 1]\n",
    "\n",
    "# make circular boundary for polar stereographic circular plots\n",
    "theta = np.linspace(0, 2*np.pi, 100)\n",
    "center, radius = [0.5, 0.5], 0.5\n",
    "verts = np.vstack([np.sin(theta), np.cos(theta)]).T\n",
    "circle = mpath.Path(verts * radius + center)\n",
    "\n",
    "cmap = plt.cm.get_cmap('RdBu')  \n",
    "\n",
    "vars_to_plt = ['fsens_ai', 'fsens', 'fsens_diff', 'aice']\n",
    "\n",
    "fig, axs = plt.subplots(2, 2, figsize=(20,20),\n",
    "                       subplot_kw={'projection':ccrs.NorthPolarStereo()})\n",
    "axs = np.ravel(axs)\n",
    "\n",
    "# set up the plots for sensible heat flux over the sea ice, gridcell mean sensible heat flux,\n",
    "# difference, and the gridcell mean ice concentration aice\n",
    "\n",
    "for i in np.arange(4):\n",
    "    if i == 3:\n",
    "        cmap = plt.cm.get_cmap('Blues_r')\n",
    "    ax = axs[i]\n",
    "    ax.set_boundary(circle, transform=ax.transAxes)\n",
    "    ax.add_feature(cfeature.LAND,zorder=100,edgecolor='k')\n",
    "    ax.set_extent([0.005, 360, 90, 55], crs=ccrs.PlateCarree())\n",
    "    this=ax.pcolormesh(ds['TLONG'],\n",
    "                       ds['TLAT'],\n",
    "                       ds[vars_to_plt[i]].sel({'time':'1850-02-01 00:00:00'}\n",
    "                                             ).squeeze(),\n",
    "                       cmap=cmap,vmax=maxs[i],vmin=mins[i],\n",
    "                       transform=ccrs.PlateCarree())\n",
    "    plt.colorbar(this,orientation='vertical',fraction=0.04,pad=0.01)\n",
    "    ax.set_title(vars_to_plt[i])\n",
    "\n"
   ]
  },
  {
   "cell_type": "markdown",
   "id": "186fccb6-b41c-4fb6-b613-5a6c24a6773b",
   "metadata": {},
   "source": [
    "Where are the differences most pronounced and why?"
   ]
  },
  {
   "cell_type": "markdown",
   "id": "097273a5-204d-438f-8f68-19d7f4b75e04",
   "metadata": {},
   "source": [
    "## Example 4: Remapping a sea ice gridded field\n",
    "\n",
    "The sea ice and ocean grids usually have a transformation where the grid North Pole is moved into land to avoid instability problems with converging meridians [Orthogonal Grids - Murray 1996](https://doi.org/10.1006/jcph.1996.0136). In the CESM we use the POP dipole and tripole grids and will soon be using the MOM6 tripole grids. While matplotlib can actually use the 2D latitude and longitude fields to make plots, it is sometimes necessary to remap or regrid the data onto a standard latitude-longitude grid. This can be using using the ESMF remapping tools [xESMF](https://xesmf.readthedocs.io/en/latest/) for python."
   ]
  },
  {
   "cell_type": "markdown",
   "id": "e8d2c0c2-b13b-41f1-9ff4-6324f8018f4b",
   "metadata": {},
   "source": [
    "Let's first plot the raw field so the dipole grid can be visualized."
   ]
  },
  {
   "cell_type": "code",
   "execution_count": null,
   "id": "50a62138-19cc-4a3b-8a6e-011bc508dbb8",
   "metadata": {},
   "outputs": [],
   "source": [
    "aice = ds['aice']\n",
    "\n",
    "aice"
   ]
  },
  {
   "cell_type": "code",
   "execution_count": null,
   "id": "9b3429a1-e2b6-419b-bd13-7ef651b5a5a0",
   "metadata": {},
   "outputs": [],
   "source": [
    "fig, ax = plt.subplots(figsize=(12,8))\n",
    "ax.set_facecolor('0.5') # Fill in model land by making the axis background whatever color you want\n",
    "im1 = ax.pcolormesh(ds.coords['ni'],ds.coords['nj'],aice[0],cmap='Blues_r',vmin=0,vmax=1)\n",
    "cbar = plt.colorbar(im1)\n",
    "cbar.set_label('Sea Ice Concentration',fontsize=18)\n",
    "plt.xticks([]);\n",
    "plt.yticks([]);"
   ]
  },
  {
   "cell_type": "markdown",
   "id": "fa913808-0583-480b-a087-23593d036389",
   "metadata": {},
   "source": [
    "See how the Northern Hemisphere looks weird? Greenland is stretched completely across the top edge of the plot. Next we will import the `xesmf` library and create a \"destination\" grid. This is just a simple one-degree by one-degree latitude longitude grid."
   ]
  },
  {
   "cell_type": "code",
   "execution_count": null,
   "id": "9ca157eb-230d-45c4-8116-654bd9bc2919",
   "metadata": {},
   "outputs": [],
   "source": [
    "import xesmf as xe"
   ]
  },
  {
   "cell_type": "code",
   "execution_count": null,
   "id": "1392cd38-64bd-4139-a957-ad38e030dc2c",
   "metadata": {},
   "outputs": [],
   "source": [
    "# Setting up a target grid to only regrid the sea ice data\n",
    "lat=np.arange(-90,90,1.0) \n",
    "lon=np.arange(0,361,1.0)\n",
    "#create a meshgrid (2D fields of lats and lons)\n",
    "lon2d,lat2d=np.meshgrid(lon,lat) \n",
    "#set up the target grid as an xarray Dataset\n",
    "target_grid=xr.Dataset({'lat': (['y', 'x'], lat2d),'lon': (['y', 'x'], lon2d)})\n",
    "\n",
    "target_grid"
   ]
  },
  {
   "cell_type": "markdown",
   "id": "098c750b-9a23-43b6-a879-b3a0a6908b54",
   "metadata": {},
   "source": [
    "Now we need to create a Dataset. For some reason the regridder does not accept a DataArray."
   ]
  },
  {
   "cell_type": "code",
   "execution_count": null,
   "id": "9048bc8e-5df6-468e-a38b-763e158d9aad",
   "metadata": {},
   "outputs": [],
   "source": [
    "# Define the dataset and a variable `aice` with dimensions time, nj, and ni. Also, fill the\n",
    "# lat and lon arrays from the POPgrid dataset.\n",
    "\n",
    "ds_siconc_ocean               = xr.Dataset()\n",
    "ds_siconc_ocean['aice']     = (('time','nj','ni'),ds['aice'].values)\n",
    "ds_siconc_ocean.coords['lat'] = (('nj','ni'),grid['TLAT'].values)\n",
    "ds_siconc_ocean.coords['lon'] = (('nj','ni'),grid['TLONG'].values)\n",
    "sic_ocean                     = ds_siconc_ocean['aice']"
   ]
  },
  {
   "cell_type": "markdown",
   "id": "e7684c0a-19d4-45cc-95f0-045a9355290b",
   "metadata": {},
   "source": [
    "Next we will use xesmf to regrid from the POP gx1v7 grid to the one degree by one degree grid."
   ]
  },
  {
   "cell_type": "code",
   "execution_count": null,
   "id": "7dbe677b-bdde-464a-8e31-c3f8e651dedd",
   "metadata": {},
   "outputs": [],
   "source": [
    "#input grid, output grid, method, keyword arguments\n",
    "regridder=xe.Regridder(sic_ocean[0,:,:], target_grid, 'nearest_s2d',periodic=True,reuse_weights=False)"
   ]
  },
  {
   "cell_type": "markdown",
   "id": "dba1a8bd-ac35-4bcf-b3ae-201575ec4f56",
   "metadata": {},
   "source": [
    "Now that we have the mapping or regridder. We can translate the Xarray Dataset from gx1v7 to one-degree."
   ]
  },
  {
   "cell_type": "code",
   "execution_count": null,
   "id": "4f66e319-147a-44d4-8d07-6db65e6295b8",
   "metadata": {},
   "outputs": [],
   "source": [
    "sic_rg = regridder(sic_ocean)"
   ]
  },
  {
   "cell_type": "code",
   "execution_count": null,
   "id": "a523793f-1e06-47b1-b960-98c20125c3ea",
   "metadata": {},
   "outputs": [],
   "source": [
    "# Plot the first slice of the new dataset.\n",
    "fig, ax = plt.subplots(figsize=(12,8))\n",
    "ax.set_facecolor('0.5') # Fill in model land by making the axis background whatever color you want\n",
    "im4 = ax.pcolormesh(lon,lat,sic_rg[0,:,:],cmap='Blues_r',vmin=0,vmax=1)\n",
    "cbar = plt.colorbar(im4)\n",
    "cbar.set_label('Sea Ice Concentration [%]',fontsize=18)\n",
    "plt.xticks([]);\n",
    "plt.yticks([]);"
   ]
  },
  {
   "cell_type": "markdown",
   "id": "eb0894f7-21c8-472d-8b6b-a9b24990ab19",
   "metadata": {},
   "source": [
    "What do you notice about the top of the domain in the plot? Now this could be differenced against an observational dataset on a one-degree grid."
   ]
  }
 ],
 "metadata": {
  "kernelspec": {
   "display_name": "NPL 2023a",
   "language": "python",
   "name": "npl-2023a"
  },
  "language_info": {
   "codemirror_mode": {
    "name": "ipython",
    "version": 3
   },
   "file_extension": ".py",
   "mimetype": "text/x-python",
   "name": "python",
   "nbconvert_exporter": "python",
   "pygments_lexer": "ipython3",
   "version": "3.9.16"
  }
 },
 "nbformat": 4,
 "nbformat_minor": 5
}
