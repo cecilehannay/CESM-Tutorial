{
 "cells": [
  {
   "cell_type": "markdown",
   "id": "f406f992-92bd-4b17-9bd3-b99c5c8abaf3",
   "metadata": {},
   "source": [
    "# CAM"
   ]
  },
  {
   "cell_type": "markdown",
   "id": "30ca3a26-9666-433a-b9d6-852999d9455e",
   "metadata": {},
   "source": [
    "## Basic Plotting"
   ]
  },
  {
   "cell_type": "markdown",
   "id": "b6f4905b-cd2a-454e-89cf-ccc585c90247",
   "metadata": {
    "tags": []
   },
   "source": [
    "### Learning Goals\n",
    "\n",
    "- Making a lat-lon plot\n",
    "- Making a zonal plot\n",
    "- Making a lat-height plot"
   ]
  },
  {
   "cell_type": "markdown",
   "id": "e73ce5d6-d2b1-4f32-b64f-337a1b02e2d0",
   "metadata": {},
   "source": [
    "_______________\n",
    "\n",
    "### Exercise 1: "
   ]
  },
  {
   "cell_type": "markdown",
   "id": "27dafcc2-beec-4d75-920f-a60f46fff27b",
   "metadata": {},
   "source": [
    "_______________\n",
    "## Advanced Plotting"
   ]
  },
  {
   "cell_type": "markdown",
   "id": "c494a32c-cd81-4a0a-b290-eb0835919532",
   "metadata": {
    "tags": []
   },
   "source": [
    "### Learning Goals\n",
    "\n",
    "- blabla"
   ]
  },
  {
   "cell_type": "markdown",
   "id": "a0b087c1-2182-40ef-87e4-fadb0d73c23b",
   "metadata": {},
   "source": [
    "______________\n",
    "## Regridding\n"
   ]
  },
  {
   "cell_type": "markdown",
   "id": "ec9e8578-a1f6-4a36-a92e-5b09908af9a8",
   "metadata": {},
   "source": [
    "### Learning Goals\n",
    "\n",
    "- blabla"
   ]
  }
 ],
 "metadata": {
  "kernelspec": {
   "display_name": "Python 3 (ipykernel)",
   "language": "python",
   "name": "python3"
  },
  "language_info": {
   "codemirror_mode": {
    "name": "ipython",
    "version": 3
   },
   "file_extension": ".py",
   "mimetype": "text/x-python",
   "name": "python",
   "nbconvert_exporter": "python",
   "pygments_lexer": "ipython3",
   "version": "3.9.12"
  }
 },
 "nbformat": 4,
 "nbformat_minor": 5
}
