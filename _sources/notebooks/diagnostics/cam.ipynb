{
 "cells": [
  {
   "cell_type": "markdown",
   "id": "f406f992-92bd-4b17-9bd3-b99c5c8abaf3",
   "metadata": {},
   "source": [
    "# CAM"
   ]
  },
  {
   "cell_type": "markdown",
   "id": "30ca3a26-9666-433a-b9d6-852999d9455e",
   "metadata": {},
   "source": [
    "## Basic Plotting"
   ]
  },
  {
   "cell_type": "markdown",
   "id": "b6f4905b-cd2a-454e-89cf-ccc585c90247",
   "metadata": {
    "tags": []
   },
   "source": [
    "### Learning Goals\n",
    "\n",
    "- Making polar projection plots\n",
    "- Understanding sea ice variables such as concentration and thickness\n",
    "- Masking and area averaging\n",
    "- Computing total sea ice area or volume"
   ]
  },
  {
   "cell_type": "markdown",
   "id": "e73ce5d6-d2b1-4f32-b64f-337a1b02e2d0",
   "metadata": {},
   "source": [
    "_______________\n",
    "\n",
    "### Exercise 1: Making polar projection plots of sea ice concentration.\n",
    "\n",
    "Here we will use some custom python tools to produce a polar projection plot of sea ice concentration. Some things to try include changing the colormap, plotting sea ice thickness instead of concentration, changing hemispheres."
   ]
  },
  {
   "cell_type": "markdown",
   "id": "815e0869-0518-4cf9-9417-cd9b08965ca1",
   "metadata": {},
   "source": [
    "_______________\n",
    "\n",
    "### Exercise 2: Compute total sea ice area and plot versus time.\n",
    "\n",
    "Here will we learn how to compute the total sea ice area for the northern hemisphere. Then plot this versus time. Some exercises will be plotting the monthly mean sea ice area, plotting just September or March mean sea ice area, computing sea ice volume and plotting that.\n"
   ]
  },
  {
   "cell_type": "markdown",
   "id": "27dafcc2-beec-4d75-920f-a60f46fff27b",
   "metadata": {},
   "source": [
    "_______________\n",
    "## Advanced Plotting"
   ]
  },
  {
   "cell_type": "markdown",
   "id": "c494a32c-cd81-4a0a-b290-eb0835919532",
   "metadata": {
    "tags": []
   },
   "source": [
    "### Learning Goals\n",
    "\n",
    "- Using sea ice thickness distribution (ITD) category information\n",
    "- Using sea ice tracers"
   ]
  },
  {
   "cell_type": "markdown",
   "id": "850641b7-2a63-4a20-8a26-d18a400c6160",
   "metadata": {},
   "source": [
    "_______________\n",
    "\n",
    "### Exercise 1: Plot per-category ice area\n",
    "\n",
    "Here you will plot a field that uses the subgridscale ice thickness distribution (ITD) categories."
   ]
  },
  {
   "cell_type": "markdown",
   "id": "9fc458d8-6ea2-461f-b4d3-6808accfca41",
   "metadata": {},
   "source": [
    "_______________\n",
    "\n",
    "### Exercise 2: Plot per-category snow thickness\n",
    "\n",
    "Here is another example of an ITD related field, the snow thickness. Actual snow thickness is derived from the snow volume (per unit area)."
   ]
  },
  {
   "cell_type": "markdown",
   "id": "4a75149d-ef7b-4b89-91b5-4daec351d95c",
   "metadata": {},
   "source": [
    "_______________\n",
    "\n",
    "### Exercise 3: Plot ice area related tracer\n",
    "\n",
    "In this exercise you will learn about a variable related to the ice covered area of a grid cell instead of the grid cell mean.\n"
   ]
  },
  {
   "cell_type": "markdown",
   "id": "a0b087c1-2182-40ef-87e4-fadb0d73c23b",
   "metadata": {},
   "source": [
    "______________\n",
    "## Regridding\n"
   ]
  },
  {
   "cell_type": "markdown",
   "id": "ec9e8578-a1f6-4a36-a92e-5b09908af9a8",
   "metadata": {},
   "source": [
    "### Learning Goals\n",
    "\n",
    "- blabla"
   ]
  },
  {
   "cell_type": "markdown",
   "id": "69fe37c0-01d2-4c68-82ef-c1a7499646a4",
   "metadata": {},
   "source": [
    "_______________\n",
    "\n",
    "### Exercise 1: Plot \n"
   ]
  }
 ],
 "metadata": {
  "kernelspec": {
   "display_name": "Python 3 (ipykernel)",
   "language": "python",
   "name": "python3"
  },
  "language_info": {
   "codemirror_mode": {
    "name": "ipython",
    "version": 3
   },
   "file_extension": ".py",
   "mimetype": "text/x-python",
   "name": "python",
   "nbconvert_exporter": "python",
   "pygments_lexer": "ipython3",
   "version": "3.9.12"
  }
 },
 "nbformat": 4,
 "nbformat_minor": 5
}
