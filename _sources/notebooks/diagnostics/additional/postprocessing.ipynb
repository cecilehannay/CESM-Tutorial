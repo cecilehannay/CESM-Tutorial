{
 "cells": [
  {
   "cell_type": "markdown",
   "id": "f406f992-92bd-4b17-9bd3-b99c5c8abaf3",
   "metadata": {},
   "source": [
    "# Postprocessing data"
   ]
  },
  {
   "cell_type": "markdown",
   "id": "5bd5c142-f778-4570-8edc-cc760139f30e",
   "metadata": {},
   "source": [
    "Once the CESM model has been run and the output data has been transfered to the short term archive Directory the real job of understanding how the simulation ran and what it means from a scientific perspective begins. A wide range of tools exist for postprocessing and analyzing data with techniques and methods exist. One of the first things you have to decide is how to store your files."
   ]
  },
  {
   "cell_type": "markdown",
   "id": "b6f4905b-cd2a-454e-89cf-ccc585c90247",
   "metadata": {
    "tags": []
   },
   "source": [
    "## History vs. Timeseries files\n",
    "\n",
    "When you run the CESM model the default output is history files, or files for a single timestep that include all variables for a given component and time frequency. However, most CESM community experiment data will be provided as timeseries files, or files that are a single variable over many timesteps. It is important you understand how to use both types of files, and for you to know that for some tasks (e.g. debugging) you should be using history files instead of timeseries files. However, it is much more efficient to store timeseries files because the overall size is smaller once the files have been processed into timeseries format.\n",
    "\n",
    "CESM does not currently have a supported tool for the community to create timeseries files. We can recommend you investigate using [NCO tools](https://ncar.github.io/CESM-Tutorial/notebooks/resources/netcdf.html#netcdf-operators-nco) in coordination with scripts. We hope to have a better way to create timeseries files by community members soon. Until then, we'll give you a sheepish grin.\n"
   ]
  },
  {
   "cell_type": "markdown",
   "id": "e73ce5d6-d2b1-4f32-b64f-337a1b02e2d0",
   "metadata": {},
   "source": [
    "<center><img src=\"../../../images/diagnostics/sheepish_grin.png\"></center>\n",
    "\n",
    "*<p style=\"text-align: center;\"> Figure: Baaaa. </p>*"
   ]
  },
  {
   "cell_type": "code",
   "execution_count": null,
   "id": "e961b1bd-a1c8-4e54-bafc-46dcf78454f1",
   "metadata": {},
   "outputs": [],
   "source": []
  }
 ],
 "metadata": {
  "kernelspec": {
   "display_name": "Python 3 (ipykernel)",
   "language": "python",
   "name": "python3"
  },
  "language_info": {
   "codemirror_mode": {
    "name": "ipython",
    "version": 3
   },
   "file_extension": ".py",
   "mimetype": "text/x-python",
   "name": "python",
   "nbconvert_exporter": "python",
   "pygments_lexer": "ipython3",
   "version": "3.9.12"
  }
 },
 "nbformat": 4,
 "nbformat_minor": 5
}
