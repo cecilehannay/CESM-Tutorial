{
 "cells": [
  {
   "cell_type": "markdown",
   "id": "989fe00b-ac80-497c-a432-36d0ae227636",
   "metadata": {},
   "source": [
    "# Basic Plotting"
   ]
  },
  {
   "cell_type": "markdown",
   "id": "cb535d76-8352-4736-b74f-4577b32a3aa9",
   "metadata": {
    "tags": []
   },
   "source": [
    "## Setting up the notebook\n",
    "- here we load modules needed for our analysis\n",
    "- use the kernel NPL 2023a, it can be found in the drop down menu on the upper right"
   ]
  },
  {
   "cell_type": "code",
   "execution_count": null,
   "id": "fe59e1e9-a503-4c89-803e-01dee0fadd75",
   "metadata": {},
   "outputs": [],
   "source": [
    "# loading modules\n",
    "\n",
    "# %load_ext watermark # this is so that in the end we can check which module versions we used\n",
    "%load_ext autoreload\n",
    "\n",
    "import warnings \n",
    "warnings.filterwarnings(\"ignore\")\n",
    "\n",
    "import datetime\n",
    "import glob\n",
    "import os\n",
    "import warnings\n",
    "import dask\n",
    "import dask_jobqueue\n",
    "import distributed\n",
    "import matplotlib as mpl\n",
    "import matplotlib.pyplot as plt\n",
    "import numpy as np\n",
    "import pandas as pd\n",
    "import xarray as xr\n",
    "import xgcm\n",
    "from matplotlib import ticker, cm\n",
    "import pop_tools\n",
    "from cartopy import crs as ccrs, feature as cfeature\n",
    "import cartopy"
   ]
  },
  {
   "cell_type": "markdown",
   "id": "7bb804be-f371-40a6-915d-803d3cc67151",
   "metadata": {},
   "source": [
    "### Define some functions\n",
    "These functions will be used more than once to read data and add a cyclic point. These could go in a package if you like."
   ]
  },
  {
   "cell_type": "code",
   "execution_count": null,
   "id": "5cc3a601-4a26-4a26-9761-f5ba830e353d",
   "metadata": {},
   "outputs": [],
   "source": [
    "# define function to get you the data you want relatively quickly \n",
    "\n",
    "def read_dat(files, variables, pop=False):\n",
    "    def preprocess(ds):\n",
    "        return ds[variables].reset_coords(drop=True) # reset coords means they are reset as variables\n",
    "\n",
    "    ds = xr.open_mfdataset(files, parallel=True, preprocess=preprocess,\n",
    "                           chunks={'time':1, 'nlon': -1, 'nlat':-1},\n",
    "                           combine='by_coords')\n",
    "    if pop==True:\n",
    "        file0 = xr.open_dataset(files[0])\n",
    "        ds.update(file0[['ULONG', 'ULAT', 'TLONG', 'TLAT']])\n",
    "        file0.close()\n",
    "\n",
    "    ds\n",
    "    return ds\n",
    "\n",
    "# define function to be able to plot POP output properly on cartopy projections\n",
    "def pop_add_cyclic(ds):\n",
    "    \n",
    "    nj = ds.TLAT.shape[0]\n",
    "    ni = ds.TLONG.shape[1]\n",
    "\n",
    "    xL = int(ni/2 - 1)\n",
    "    xR = int(xL + ni)\n",
    "\n",
    "    tlon = ds.TLONG.data\n",
    "    tlat = ds.TLAT.data\n",
    "    \n",
    "    tlon = np.where(np.greater_equal(tlon, min(tlon[:,0])), tlon-360., tlon)    \n",
    "    lon  = np.concatenate((tlon, tlon + 360.), 1)\n",
    "    lon = lon[:, xL:xR]\n",
    "\n",
    "    if ni == 320:\n",
    "        lon[367:-3, 0] = lon[367:-3, 0] + 360.        \n",
    "    lon = lon - 360.\n",
    "    \n",
    "    lon = np.hstack((lon, lon[:, 0:1] + 360.))\n",
    "    if ni == 320:\n",
    "        lon[367:, -1] = lon[367:, -1] - 360.\n",
    "\n",
    "    #-- trick cartopy into doing the right thing:\n",
    "    #   it gets confused when the cyclic coords are identical\n",
    "    lon[:, 0] = lon[:, 0] - 1e-8\n",
    "\n",
    "    #-- periodicity\n",
    "    lat = np.concatenate((tlat, tlat), 1)\n",
    "    lat = lat[:, xL:xR]\n",
    "    lat = np.hstack((lat, lat[:,0:1]))\n",
    "\n",
    "    TLAT = xr.DataArray(lat, dims=('nlat', 'nlon'))\n",
    "    TLONG = xr.DataArray(lon, dims=('nlat', 'nlon'))\n",
    "    \n",
    "    dso = xr.Dataset({'TLAT': TLAT, 'TLONG': TLONG})\n",
    "\n",
    "    # copy vars\n",
    "    varlist = [v for v in ds.data_vars if v not in ['TLAT', 'TLONG']]\n",
    "    for v in varlist:\n",
    "        v_dims = ds[v].dims\n",
    "        if not ('nlat' in v_dims and 'nlon' in v_dims):\n",
    "            dso[v] = ds[v]\n",
    "        else:\n",
    "            # determine and sort other dimensions\n",
    "            other_dims = set(v_dims) - {'nlat', 'nlon'}\n",
    "            other_dims = tuple([d for d in v_dims if d in other_dims])\n",
    "            lon_dim = ds[v].dims.index('nlon')\n",
    "            field = ds[v].data\n",
    "            field = np.concatenate((field, field), lon_dim)\n",
    "            field = field[..., :, xL:xR]\n",
    "            field = np.concatenate((field, field[..., :, 0:1]), lon_dim)       \n",
    "            dso[v] = xr.DataArray(field, dims=other_dims+('nlat', 'nlon'), \n",
    "                                  attrs=ds[v].attrs)\n",
    "\n",
    "\n",
    "    # copy coords\n",
    "    for v, da in ds.coords.items():\n",
    "        if not ('nlat' in da.dims and 'nlon' in da.dims):\n",
    "            dso = dso.assign_coords(**{v: da})\n",
    "                \n",
    "            \n",
    "    return dso"
   ]
  },
  {
   "cell_type": "markdown",
   "id": "657b093a-e719-4f68-92a4-907a3ecf89bb",
   "metadata": {},
   "source": [
    "### Setting up the cluster\n",
    "Remember to: \n",
    "- change the project number\n",
    "- potentially change the walltime depending on what you want to do "
   ]
  },
  {
   "cell_type": "code",
   "execution_count": null,
   "id": "3ca107e9-941f-4398-8df5-d6587064492f",
   "metadata": {},
   "outputs": [],
   "source": [
    "if \"client\" in locals():\n",
    "    client.close()\n",
    "    del client\n",
    "if \"cluster\" in locals():\n",
    "    cluster.close()\n",
    "\n",
    "cluster = dask_jobqueue.PBSCluster(\n",
    "    cores=2,  # The number of cores you want\n",
    "    memory=\"23GB\",  # Amount of memory\n",
    "    processes=1,  # How many processes\n",
    "    queue=\"casper\",  # The type of queue to utilize (/glade/u/apps/dav/opt/usr/bin/execcasper)\n",
    "    # log_directory=\"/glade/scratch/deppenme/dask/\",  # Use your local directory\n",
    "    resource_spec=\"select=1:ncpus=1:mem=23GB\",  # Specify resources\n",
    "    project=\"ncgd0011\",  # Input your project ID here / THIS WILL BE DIFFERENT FOR YOU \n",
    "    walltime=\"02:00:00\",  # Amount of wall time\n",
    "    interface=\"ib0\",  # Interface to use\n",
    ")\n",
    "# cluster.adapt(maximum_jobs=24, minimum_jobs=2) # If you want to force everything to be quicker, increase the number of minimum jobs, \n",
    "# # but sometimes then it will take a while until you get them assigned, so it's a trade-off\n",
    "cluster.scale(12) # I changed this because currently dask is flaky, this might have to be adjusted during the tutorial\n",
    "client = distributed.Client(cluster)\n",
    "client"
   ]
  },
  {
   "cell_type": "markdown",
   "id": "884e8473-6d10-46e9-9a43-2175ae8631a0",
   "metadata": {},
   "source": [
    "### Get the data "
   ]
  },
  {
   "cell_type": "code",
   "execution_count": null,
   "id": "54df9c48-a330-4bbf-9505-570acd78065a",
   "metadata": {},
   "outputs": [],
   "source": [
    "# path to the data\n",
    "pth = '/glade/scratch/gmarques/archive/gpop.e23.GJRA.TL319/ocn/hist/'"
   ]
  },
  {
   "cell_type": "markdown",
   "id": "ad58f537-556f-406b-a223-a2474ae87361",
   "metadata": {},
   "source": [
    "##### Details on files \n",
    "- gpop.e23.GJRA.TL319.pop.h.0001-01.nc : one timestep year ???? and month -?? for a number of 2D and 3D variables and constants\n",
    "- gpop.e23.GJRA.TL319.pop.h.nday1.0001-01-01.nc : daily timestep output for one month for SST, SST variance, SSS and (max) mixed layer depth\n",
    "- gpop.e23.GJRA.TL319.pop.h.once.nc : (background) mixing values\n",
    "- gpop.e23.GJRA.TL319.pop.hv.nc: viscosities"
   ]
  },
  {
   "cell_type": "code",
   "execution_count": null,
   "id": "4a0dd260-76ab-4de7-931d-1cc343d82384",
   "metadata": {},
   "outputs": [],
   "source": [
    "%%time\n",
    "# how quick this is depends among other things on the availability of workers on casper\n",
    "# you can check progress by clicking on the link for the cluster above which will show you the dask dashboard  \n",
    "flist = glob.glob(pth + 'gpop.e23.GJRA.TL319.pop.h.00??-??.nc')  #also might want to use just some years not all \n",
    "ds_t_shf = read_dat(flist, ['TEMP', 'SHF'], pop=True)\n",
    "ds_t_shf = ds_t_shf.sortby(ds_t_shf.time)\n",
    "tlist = np.asarray([time.replace(year=time.year+1957) for time in ds_t_shf.time.values]) # this makes sure the time axis is useful\n",
    "ds_t_shf['time'] = tlist\n",
    "ds_t_shf[\"time\"] = ds_t_shf.indexes[\"time\"].to_datetimeindex()"
   ]
  },
  {
   "cell_type": "markdown",
   "id": "ec0ade1b-407c-4bae-b4a7-62fdee617961",
   "metadata": {},
   "source": [
    "## Exercise 1\n",
    "Means of global Surface Heat Flux and Sea Surface Temperature"
   ]
  },
  {
   "cell_type": "code",
   "execution_count": null,
   "id": "b5d20c79-d1d1-4c62-8300-fade14d8e588",
   "metadata": {
    "tags": []
   },
   "outputs": [],
   "source": [
    "%%time\n",
    "fig, ax = plt.subplots(1, 2, figsize=(12,3), sharex=True, sharey=True)\n",
    "\n",
    "ds_t_shf.SHF.mean('time').plot(robust=True, ax=ax[0])\n",
    "ax[0].set_title(r'Surface Heat Flux [W/m$^2$]')\n",
    "\n",
    "ds_t_shf.TEMP.sel(z_t=0, method='nearest').mean('time').plot(robust=True, ax=ax[1], levels=np.arange(0,32,1))\n",
    "ax[1].set_title(r'Sea Surface Temperature [$^{\\circ}$C]')"
   ]
  },
  {
   "cell_type": "markdown",
   "id": "9b3d3721-a43b-4bde-9d15-7392173cc52b",
   "metadata": {},
   "source": [
    "<div class=\"alert alert-success\">   \n",
    "<details>\n",
    "<summary><font face=\"Times New Roman\" color='blue'>Click here for the solution</font></summary><br>\n",
    "\n",
    "![plot example](../../../images/diagnostics/pop/basics_plot_1.png)\n",
    "\n",
    "*<p style=\"text-align: center;\"> Figure: Plotting solution. </p>*\n",
    "    \n",
    "</details>\n",
    "</div>"
   ]
  },
  {
   "cell_type": "markdown",
   "id": "7429a2c4-9439-4cc7-b671-fe7b52847017",
   "metadata": {},
   "source": [
    "Other things to try plotting:\n",
    "- Sea surface height (SSH)\n",
    "- 50m temperatures (hint: check out POP's z-axis to and its values) \n",
    "- standard deviations instead of means "
   ]
  },
  {
   "cell_type": "markdown",
   "id": "829160aa-36f6-46b1-8cad-860bd3735dba",
   "metadata": {},
   "source": [
    "## Exercise 2\n",
    "\n",
    "Let's make some nicer plots! Have you noticed the x and y axes of the plots above? They are indices rather than longitudes and latitudes. POP output is on a curvilinear grid which means that the grid is not regularly (evenly) spaced. ```TLAT``` and ```TLONG``` are 2D variables depending on these indices, let's have a look at how to make maps."
   ]
  },
  {
   "cell_type": "code",
   "execution_count": null,
   "id": "8847b2d5-9290-422c-8772-40b0764937c5",
   "metadata": {},
   "outputs": [],
   "source": [
    "# learn what TLAT and TLONG look like \n",
    "fig, ax = plt.subplots(1, 2, figsize=(12,3), sharex=True, sharey=True)\n",
    "\n",
    "ds_t_shf.TLAT.plot(ax=ax[0], levels=np.arange(-90,95,5))\n",
    "ax[0].set_title('TLAT')\n",
    "ds_t_shf.TLONG.plot(ax=ax[1], levels=np.arange(0,370,10))\n",
    "ax[1].set_title('TLONG')"
   ]
  },
  {
   "cell_type": "markdown",
   "id": "88135e00-bfc9-4b81-88e6-712679ec3b29",
   "metadata": {},
   "source": [
    "<div class=\"alert alert-success\">   \n",
    "<details>\n",
    "<summary><font face=\"Times New Roman\" color='blue'>Click here for the solution</font></summary><br>\n",
    "\n",
    "![plot example](../../../images/diagnostics/pop/basics_plot_2.png)\n",
    "\n",
    "*<p style=\"text-align: center;\"> Figure: Plotting solution. </p>*\n",
    "    \n",
    "</details>\n",
    "</div>"
   ]
  },
  {
   "cell_type": "markdown",
   "id": "e1517969-1f19-4909-bf9a-f1b10e917700",
   "metadata": {},
   "source": [
    "**Take a moment to look at the details of the plot above!**\n",
    "\n",
    "Can you see the irregularity in TLAT? What does the discontinuity in TLONG mean? "
   ]
  },
  {
   "cell_type": "markdown",
   "id": "b93cd75a-97ce-4d82-85d4-5b0c223d2ee9",
   "metadata": {},
   "source": [
    "### Make global maps"
   ]
  },
  {
   "cell_type": "code",
   "execution_count": null,
   "id": "76c3a229-16cb-4001-833f-5f6ae18317c6",
   "metadata": {},
   "outputs": [],
   "source": [
    "# Alice added this from below\n",
    "ds_t_shf_cyc = pop_add_cyclic(ds_t_shf)"
   ]
  },
  {
   "cell_type": "code",
   "execution_count": null,
   "id": "527f3cbe-1724-49ba-a539-f333af917d0d",
   "metadata": {},
   "outputs": [],
   "source": [
    "%%time\n",
    "\n",
    "# initiate the figure\n",
    "fig = plt.figure(dpi=150, figsize=(12,3))\n",
    "\n",
    "# add the first subplot\n",
    "ax_shf = plt.subplot(1, 2, 1, projection=ccrs.Robinson(central_longitude=300.0))\n",
    "\n",
    "pc = ax_shf.contourf(ds_t_shf.TLONG, ds_t_shf.TLAT, ds_t_shf.SHF.mean('time'),\n",
    "                   transform=ccrs.PlateCarree(), cmap='RdYlBu_r', extend='both', levels=np.arange(-120,130,10))\n",
    "\n",
    "ax_shf.set_global() \n",
    "\n",
    "land = ax_shf.add_feature(\n",
    "    cartopy.feature.NaturalEarthFeature('physical', 'land', '110m',\n",
    "                                        linewidth=0.5,\n",
    "                                        edgecolor='black',\n",
    "                                        facecolor='darkgray'))\n",
    "\n",
    "shf_cbar = plt.colorbar(pc, shrink=0.55, ax=ax_shf);\n",
    "shf_cbar.set_label(r'[W/m$^{2}$]')\n",
    "\n",
    "ax_shf.set_title('Surface Heat Flux')\n",
    "\n",
    "# add the second subplot\n",
    "ax_sst = plt.subplot(1, 2, 2, projection=ccrs.Robinson(central_longitude=300.0))\n",
    "\n",
    "pc = ax_sst.contourf(ds_t_shf.TLONG, ds_t_shf.TLAT, ds_t_shf.TEMP.isel(z_t=0).mean('time'),\n",
    "                   transform=ccrs.PlateCarree(), cmap='RdYlBu_r', extend='both', levels=np.arange(0,31,1))\n",
    "\n",
    "ax_sst.set_global() \n",
    "\n",
    "land = ax_sst.add_feature(\n",
    "    cartopy.feature.NaturalEarthFeature('physical', 'land', '110m',\n",
    "                                        linewidth=0.5,\n",
    "                                        edgecolor='black',\n",
    "                                        facecolor='darkgray'))\n",
    "\n",
    "sst_cbar = plt.colorbar(pc, shrink=0.55, ax=ax_sst);\n",
    "sst_cbar.set_label(r'[$^{\\circ}$C]')\n",
    "ax_sst.set_title('Sea Surface Temperature')\n",
    "\n",
    "# plt.savefig('maps_shf_ssf_mean_global.png', bbox_inches='tight') # uncomment this to save your figure"
   ]
  },
  {
   "cell_type": "markdown",
   "id": "97823b3e-49d7-4c8e-97e7-b957f93b533a",
   "metadata": {},
   "source": [
    "<div class=\"alert alert-success\">   \n",
    "<details>\n",
    "<summary><font face=\"Times New Roman\" color='blue'>Click here for the solution</font></summary><br>\n",
    "\n",
    "![plot example](../../../images/diagnostics/pop/basics_plot_3.png)\n",
    "\n",
    "*<p style=\"text-align: center;\"> Figure: Plotting solution. </p>*\n",
    "    \n",
    "</details>\n",
    "</div>"
   ]
  },
  {
   "cell_type": "markdown",
   "id": "9a562d62-1efb-45e0-ab7b-5408c893ddbb",
   "metadata": {},
   "source": [
    "### Make regional maps"
   ]
  },
  {
   "cell_type": "code",
   "execution_count": null,
   "id": "8a419e0b-bb58-4740-9877-35a358acbd0b",
   "metadata": {},
   "outputs": [],
   "source": [
    "# define the extent of the map\n",
    "lonW = -140\n",
    "lonE = -40\n",
    "latS = 15\n",
    "latN = 65\n",
    "cLat = (latN + latS) / 2\n",
    "cLon = (lonW + lonE) / 2\n",
    "res = '110m'"
   ]
  },
  {
   "cell_type": "code",
   "execution_count": null,
   "id": "1dacb156-9942-43a3-9b57-1bd4fe6491aa",
   "metadata": {},
   "outputs": [],
   "source": [
    "# what does sea surface temperature around the US look like? (i.e. where would you like to go swimming..)\n",
    "fig = plt.figure(figsize=(11, 8.5))\n",
    "ax = plt.subplot(1, 1, 1, projection=ccrs.PlateCarree())\n",
    "ax.set_title('')\n",
    "gl = ax.gridlines(\n",
    "    draw_labels=True, linewidth=2, color='gray', alpha=0.5, linestyle='--'\n",
    ")\n",
    "ax.set_extent([lonW, lonE, latS, latN], crs=ccrs.PlateCarree())\n",
    "ax.coastlines(resolution=res, color='black')\n",
    "ax.add_feature(cfeature.STATES, linewidth=0.3, edgecolor='brown')\n",
    "ax.add_feature(cfeature.BORDERS, linewidth=0.5, edgecolor='blue');\n",
    "tdat = ax.pcolormesh(ds_t_shf.TLONG, ds_t_shf.TLAT, ds_t_shf.TEMP.isel(z_t=0, time=10), cmap='RdYlBu_r')\n",
    "plt.colorbar(tdat, ax=ax, shrink=0.5, pad=0.1)"
   ]
  },
  {
   "cell_type": "markdown",
   "id": "72f9a1c9-7bf1-4dd7-b193-dcb5baf8bf77",
   "metadata": {},
   "source": [
    "<div class=\"alert alert-success\">   \n",
    "<details>\n",
    "<summary><font face=\"Times New Roman\" color='blue'>Click here for the solution</font></summary><br>\n",
    "\n",
    "![plot example](../../../images/diagnostics/pop/basics_plot_4.png)\n",
    "\n",
    "*<p style=\"text-align: center;\"> Figure: Plotting solution. </p>*\n",
    "    \n",
    "</details>\n",
    "</div>"
   ]
  },
  {
   "cell_type": "markdown",
   "id": "cbda596b-5483-4221-b228-f87fbb0278cd",
   "metadata": {},
   "source": [
    "**Maybe ocean variables over the USA are not the best idea.. so let's look at another region**\n",
    "\n",
    "The Pacific for starters"
   ]
  },
  {
   "cell_type": "code",
   "execution_count": null,
   "id": "39a879e8-1dc0-4c9f-afae-c98a33fa7778",
   "metadata": {},
   "outputs": [],
   "source": [
    "# define the extent of the map\n",
    "lonW = -180\n",
    "lonE = -60\n",
    "latS = -30\n",
    "latN = 30\n",
    "cLat = (latN + latS) / 2\n",
    "cLon = (lonW + lonE) / 2\n",
    "res = '110m'"
   ]
  },
  {
   "cell_type": "code",
   "execution_count": null,
   "id": "fcce69d0-c184-4f2f-9b20-775c05489bdd",
   "metadata": {},
   "outputs": [],
   "source": [
    "fig = plt.figure(figsize=(11, 8.5))\n",
    "ax = plt.subplot(1, 1, 1, projection=ccrs.PlateCarree())\n",
    "ax.set_title('SST')\n",
    "gl = ax.gridlines(\n",
    "    draw_labels=True, linewidth=2, color='gray', alpha=0.5, linestyle='--'\n",
    ")\n",
    "ax.set_extent([lonW, lonE, latS, latN], crs=ccrs.PlateCarree())\n",
    "ax.coastlines(resolution=res, color='black')\n",
    "ax.add_feature(cfeature.STATES, linewidth=0.3, edgecolor='brown')\n",
    "ax.add_feature(cfeature.BORDERS, linewidth=0.5, edgecolor='blue');\n",
    "tdat = ax.pcolormesh(ds_t_shf.TLONG, ds_t_shf.TLAT, ds_t_shf.TEMP.isel(z_t=0, time=10), cmap='RdYlBu_r', vmin=15, vmax=31)\n",
    "cbar = plt.colorbar(tdat, ax=ax, shrink=0.5, pad=0.1, ticks=np.arange(15,35,5))\n",
    "cbar.set_label(r'[$^{\\circ}$C]')"
   ]
  },
  {
   "cell_type": "markdown",
   "id": "843c70eb-926e-4e86-92f9-3fd98aab069a",
   "metadata": {},
   "source": [
    "<div class=\"alert alert-success\">   \n",
    "<details>\n",
    "<summary><font face=\"Times New Roman\" color='blue'>Click here for the solution</font></summary><br>\n",
    "\n",
    "![plot example](../../../images/diagnostics/pop/basics_plot_5.png)\n",
    "\n",
    "*<p style=\"text-align: center;\"> Figure: Plotting solution. </p>*\n",
    "    \n",
    "</details>\n",
    "</div>"
   ]
  },
  {
   "cell_type": "markdown",
   "id": "e2a6c1f7-6b67-47bf-937b-0ea36a9e2399",
   "metadata": {},
   "source": [
    "**Things to try plotting** \n",
    "\n",
    "- Try looking at the Gulf of Maine, Gulf of Mexico, the California coast.. any region that interests you! \n",
    "- Try a different variable like 50m temperature or sea surface height."
   ]
  },
  {
   "cell_type": "markdown",
   "id": "6fd00b8a-9894-4745-a4ca-21e9d9ade96a",
   "metadata": {},
   "source": [
    "## Cyclical for contourf\n",
    "you need to make your dataset cyclical to be able to correctly contour(fill) your data (test with the above and compare to the below!)"
   ]
  },
  {
   "cell_type": "code",
   "execution_count": null,
   "id": "efe1c49f-f602-4dfb-bc10-12da1dc9300b",
   "metadata": {},
   "outputs": [],
   "source": [
    "ds_t_shf_cyc = pop_add_cyclic(ds_t_shf)"
   ]
  },
  {
   "cell_type": "code",
   "execution_count": null,
   "id": "71d64e38-7de2-4db4-9759-5e850b0a3aca",
   "metadata": {},
   "outputs": [],
   "source": [
    "# define the extent of the map\n",
    "lonW = -60\n",
    "lonE = 20\n",
    "latS = -30\n",
    "latN = 30\n",
    "cLat = (latN + latS) / 2\n",
    "cLon = (lonW + lonE) / 2\n",
    "res = '110m'"
   ]
  },
  {
   "cell_type": "code",
   "execution_count": null,
   "id": "fc6fd1db-1e65-4a23-984d-00e7406317cc",
   "metadata": {},
   "outputs": [],
   "source": [
    "fig = plt.figure(figsize=(11, 8.5))\n",
    "ax = plt.subplot(1, 1, 1, projection=ccrs.PlateCarree())\n",
    "ax.set_title('SST')\n",
    "gl = ax.gridlines(\n",
    "    draw_labels=True, linewidth=2, color='gray', alpha=0.5, linestyle='--'\n",
    ")\n",
    "ax.set_extent([lonW, lonE, latS, latN], crs=ccrs.PlateCarree())\n",
    "ax.coastlines(resolution=res, color='black')\n",
    "ax.stock_img() # something else than the boarders for a change\n",
    "tdat = ax.contourf(ds_t_shf_cyc.TLONG, ds_t_shf_cyc.TLAT, ds_t_shf_cyc.TEMP.isel(z_t=0, time=10), cmap='RdYlBu_r', levels=np.arange(10,31,1))\n",
    "cbar = plt.colorbar(tdat, ax=ax, shrink=0.5, pad=0.1, ticks=np.arange(15,35,5))\n",
    "cbar.set_label(r'[$^{\\circ}$C]')"
   ]
  },
  {
   "cell_type": "markdown",
   "id": "290222b7-135f-4cb7-bcfd-7ddfaef169c8",
   "metadata": {},
   "source": [
    "<div class=\"alert alert-success\">   \n",
    "<details>\n",
    "<summary><font face=\"Times New Roman\" color='blue'>Click here for the solution</font></summary><br>\n",
    "\n",
    "![plot example](../../../images/diagnostics/pop/basics_plot_6.png)\n",
    "\n",
    "*<p style=\"text-align: center;\"> Figure: Plotting solution. </p>*\n",
    "    \n",
    "</details>\n",
    "</div>"
   ]
  },
  {
   "cell_type": "markdown",
   "id": "f5e01632-7866-4aa3-bdca-c292c5d66389",
   "metadata": {},
   "source": [
    "## Exercise 3\n",
    "The difficulty here is that you can't easily select your lat and lon location, you need to find the nlon and nlat index first. As you could see from the ```TLAT``` and ```TLONG``` plots above, they don't behave regularly, so this is a bit of a challenge. Let's start with the equator (which is a bit easier than high up north)."
   ]
  },
  {
   "cell_type": "code",
   "execution_count": null,
   "id": "45ef4912-1b64-4dad-bc2d-e7ae0a92fda2",
   "metadata": {},
   "outputs": [],
   "source": [
    "# find the latitude that is the smallest, i.e. closest to the equator:\n",
    "abs(ds_t_shf.TLAT).argmin(dim='nlat')"
   ]
  },
  {
   "cell_type": "markdown",
   "id": "53e0a032-1b39-4f76-88a1-e67b15bc4d7c",
   "metadata": {},
   "source": [
    "**This shows you that the equator is not the same everywhere** \n",
    "but it is within one index and so might be just on the south or north of the equator, you can choose either. (there is no latitude where lat=0, can you imagine why?)"
   ]
  },
  {
   "cell_type": "code",
   "execution_count": null,
   "id": "f3fb6625-488b-4681-a336-485eee29523d",
   "metadata": {},
   "outputs": [],
   "source": [
    "# so let's say \n",
    "ind_eq = 180"
   ]
  },
  {
   "cell_type": "markdown",
   "id": "f0953a2a-ee77-4c2d-b5d4-e9dcd21c72c4",
   "metadata": {},
   "source": [
    "Let's now find some location we might be interested in, say 140$^{\\circ}$W"
   ]
  },
  {
   "cell_type": "code",
   "execution_count": null,
   "id": "402d8417-55d7-4cd4-af1a-728f0352a0b6",
   "metadata": {},
   "outputs": [],
   "source": [
    "ds_t_shf.TLONG.isel(nlat=ind_eq).plot()"
   ]
  },
  {
   "cell_type": "markdown",
   "id": "574c504b-5c2b-49d4-8118-5a9cb6ddf57a",
   "metadata": {},
   "source": [
    "<div class=\"alert alert-success\">   \n",
    "<details>\n",
    "<summary><font face=\"Times New Roman\" color='blue'>Click here for the solution</font></summary><br>\n",
    "\n",
    "![plot example](../../../images/diagnostics/pop/basics_plot_7.png)\n",
    "\n",
    "*<p style=\"text-align: center;\"> Figure: Plotting solution. </p>*\n",
    "    \n",
    "</details>\n",
    "</div>"
   ]
  },
  {
   "cell_type": "code",
   "execution_count": null,
   "id": "442fc568-4af4-49c3-98f0-83f4c32e3ef9",
   "metadata": {},
   "outputs": [],
   "source": [
    "# the longitude goes from 0-360, so if we want 140W which is -140 we would need to select 220\n",
    "ind_140w = abs(ds_t_shf.TLONG.isel(nlat=ind_eq)-220).argmin()"
   ]
  },
  {
   "cell_type": "markdown",
   "id": "2d30bf12-3bbb-4be5-a138-30dc2692f30d",
   "metadata": {},
   "source": [
    "#### First plot"
   ]
  },
  {
   "cell_type": "code",
   "execution_count": null,
   "id": "949a410b-c188-4bfa-ba3b-2be1b8839069",
   "metadata": {},
   "outputs": [],
   "source": [
    "fig, ax = plt.subplots(2, 1, figsize=(9,3))\n",
    "\n",
    "ds_t_shf.TEMP.isel(nlon=ind_140w, nlat=ind_eq).plot(y='z_t', ax=ax[0], ylim=(250e2,0), levels=np.arange(10,32,2), cmap='RdYlBu_r')\n",
    "\n",
    "ds_t_shf.TEMP.isel(nlon=ind_140w, nlat=ind_eq).plot(y='z_t', ax=ax[1], ylim=(5000e2,0), levels=np.arange(0,10.2,0.2), cmap='Blues')\n",
    "\n"
   ]
  },
  {
   "cell_type": "markdown",
   "id": "a0aaf85d-6350-410d-b158-e1c276ad6889",
   "metadata": {},
   "source": [
    "<div class=\"alert alert-success\">   \n",
    "<details>\n",
    "<summary><font face=\"Times New Roman\" color='blue'>Click here for the solution</font></summary><br>\n",
    "\n",
    "![plot example](../../../images/diagnostics/pop/basics_plot_8.png)\n",
    "\n",
    "*<p style=\"text-align: center;\"> Figure: Plotting solution. </p>*\n",
    "    \n",
    "</details>\n",
    "</div>"
   ]
  },
  {
   "cell_type": "markdown",
   "id": "d53404ea-6116-49a1-8173-71c57540f934",
   "metadata": {},
   "source": [
    "#### Make a nicer plot"
   ]
  },
  {
   "cell_type": "code",
   "execution_count": null,
   "id": "74211b70-e318-46b7-855c-4f7333e5fa97",
   "metadata": {},
   "outputs": [],
   "source": [
    "fig, (ax_upper, ax_lower) = plt.subplots(2, 1, gridspec_kw={'height_ratios': [1, 3]}, sharex=True)\n",
    "\n",
    "dat_upper = ax_upper.contourf(ds_t_shf.time, ds_t_shf.z_t/100, ds_t_shf.TEMP.isel(nlon=ind_140w, nlat=ind_eq).T, \n",
    "                              levels=np.arange(10,32,1), cmap='RdYlBu_r', extend='both')\n",
    "ax_upper.set_ylim(300,0)\n",
    "plt.colorbar(dat_upper, ax=ax_upper)\n",
    "\n",
    "dat_lower = ax_lower.contourf(ds_t_shf.time, ds_t_shf.z_t/100, ds_t_shf.TEMP.isel(nlon=ind_140w, nlat=ind_eq).T, levels=np.arange(0,10.5,0.5), cmap='Blues', \n",
    "                 extend='both')\n",
    "ax_lower.set_ylim(4000,300)\n",
    "plt.colorbar(dat_lower, ax=ax_lower, shrink=0.7)\n"
   ]
  },
  {
   "cell_type": "markdown",
   "id": "efe789d3-a585-4fb6-bd6e-0de87c9c86a1",
   "metadata": {},
   "source": [
    "<div class=\"alert alert-success\">   \n",
    "<details>\n",
    "<summary><font face=\"Times New Roman\" color='blue'>Click here for the solution</font></summary><br>\n",
    "\n",
    "![plot example](../../../images/diagnostics/pop/basics_plot_9.png)\n",
    "\n",
    "*<p style=\"text-align: center;\"> Figure: Plotting solution. </p>*\n",
    "    \n",
    "</details>\n",
    "</div>"
   ]
  },
  {
   "cell_type": "markdown",
   "id": "e6feb3cc-5731-42b4-8bdf-4b57f083c3e6",
   "metadata": {},
   "source": [
    "### Exercise 4"
   ]
  },
  {
   "cell_type": "code",
   "execution_count": null,
   "id": "64360723-834c-4d44-82b7-2f813c61c53c",
   "metadata": {},
   "outputs": [],
   "source": [
    "%%time\n",
    "# let's load these calculated quantities so that we don't have to calculate them time and time again \n",
    "t_0n140w_mean = ds_t_shf.TEMP.isel(nlon=ind_140w, nlat=ind_eq).mean('time').load()\n",
    "t_0n140w_std = ds_t_shf.TEMP.isel(nlon=ind_140w, nlat=ind_eq).std('time').load()"
   ]
  },
  {
   "cell_type": "code",
   "execution_count": null,
   "id": "2b2438a1-8422-466c-809c-c7053c907473",
   "metadata": {},
   "outputs": [],
   "source": [
    "# plot the mean profile\n",
    "t_0n140w_mean.plot(y='z_t', ylim=(300e2,0), label='mean')\n",
    "plt.xlim(10,28)\n",
    "plt.title('T at 0$^{\\circ}$N, 140$^{\\circ}$W')\n",
    "\n",
    "# let's add some error bars --> standard deviation \n",
    "\n",
    "plt.fill_betweenx(ds_t_shf.z_t, t_0n140w_mean-t_0n140w_std, t_0n140w_mean+t_0n140w_std, color='black', alpha=0.2, edgecolor=None, label='std')\n",
    "\n",
    "plt.legend()"
   ]
  },
  {
   "cell_type": "markdown",
   "id": "bddc4521-24ea-488d-9606-928c56429cc2",
   "metadata": {},
   "source": [
    "<div class=\"alert alert-success\">   \n",
    "<details>\n",
    "<summary><font face=\"Times New Roman\" color='blue'>Click here for the solution</font></summary><br>\n",
    "\n",
    "![plot example](../../../images/diagnostics/pop/basics_plot_10.png)\n",
    "\n",
    "*<p style=\"text-align: center;\"> Figure: Plotting solution. </p>*\n",
    "    \n",
    "</details>\n",
    "</div>"
   ]
  },
  {
   "cell_type": "code",
   "execution_count": null,
   "id": "2f969f6f-7638-4605-b28e-a1809df231b3",
   "metadata": {},
   "outputs": [],
   "source": []
  }
 ],
 "metadata": {
  "kernelspec": {
   "display_name": "NPL 2023a",
   "language": "python",
   "name": "npl-2023a"
  },
  "language_info": {
   "codemirror_mode": {
    "name": "ipython",
    "version": 3
   },
   "file_extension": ".py",
   "mimetype": "text/x-python",
   "name": "python",
   "nbconvert_exporter": "python",
   "pygments_lexer": "ipython3",
   "version": "3.9.15"
  }
 },
 "nbformat": 4,
 "nbformat_minor": 5
}
