{
 "cells": [
  {
   "cell_type": "markdown",
   "id": "f406f992-92bd-4b17-9bd3-b99c5c8abaf3",
   "metadata": {},
   "source": [
    "# Postprocessing Model Output\n",
    "\n",
    "Once the CESM model has been run and the output data has been transfered to the Archive Directory the real job of understanding how the simulation ran \n",
    "and what it means from a scientific perspective begins. A wide range of tools exist for postprocessing and analyzing data with techniques and methods that will be \n",
    "covered through the Tutorial. Here are some high level analyses from existing CESM community simulations that have been provided at the CESM2 Experiments, Data and Diagnostics Output Web Page:\n",
    "\n",
    "<a href=\"https://csegweb.cgd.ucar.edu/experiments/public/\"> https://csegweb.cgd.ucar.edu/experiments/public/ </a>\n",
    "\n",
    "The below figure shows the Annual Top of Atmosphere Albedo for the CESM2 Control Simulation in 1850 compared to the CERES-EBAF Satellite Derived Albedo."
   ]
  },
  {
   "cell_type": "markdown",
   "id": "0094416d-9969-41b4-bc2d-c5d81c192b96",
   "metadata": {},
   "source": [
    "![Postprocessing Albedo Image](../../images/basics/CESM2_Postprocessing_ANN_ALBEDO_CERES-EBAF_obsc.png)\n",
    "*<p style=\"text-align: center;\"> Figure: CESM2 Control Simulation in 1850 compared to the CERES-EBAF Satellite Derived Albedo </p>*"
   ]
  },
  {
   "cell_type": "code",
   "execution_count": null,
   "id": "45640edb-eaa4-4c46-9cd3-da3d15b35990",
   "metadata": {},
   "outputs": [],
   "source": []
  }
 ],
 "metadata": {
  "kernelspec": {
   "display_name": "Python 3 (ipykernel)",
   "language": "python",
   "name": "python3"
  },
  "language_info": {
   "codemirror_mode": {
    "name": "ipython",
    "version": 3
   },
   "file_extension": ".py",
   "mimetype": "text/x-python",
   "name": "python",
   "nbconvert_exporter": "python",
   "pygments_lexer": "ipython3",
   "version": "3.9.12"
  }
 },
 "nbformat": 4,
 "nbformat_minor": 5
}
