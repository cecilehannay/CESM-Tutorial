{
 "cells": [
  {
   "cell_type": "markdown",
   "id": "f406f992-92bd-4b17-9bd3-b99c5c8abaf3",
   "metadata": {},
   "source": [
    "# CVDP"
   ]
  },
  {
   "cell_type": "markdown",
   "id": "8f46aef7-947e-498e-90b1-a4ed6b077f6d",
   "metadata": {},
   "source": [
    "The climate variability and diagnostics package (CVDP) was developed by NCAR scientists to document the major modes of climate variability in models and observations.\n",
    "\n",
    "More info here:\n",
    "https://www.cesm.ucar.edu/projects/cvdp\n",
    "\n",
    "If you use CVDP results in oral or written form, please cite the following paper:\n",
    "https://doi.org/10.1002/2014EO490002\n",
    "\n",
    "\n"
   ]
  },
  {
   "cell_type": "markdown",
   "id": "b6f4905b-cd2a-454e-89cf-ccc585c90247",
   "metadata": {
    "tags": []
   },
   "source": [
    "## Learning Goals\n",
    "\n",
    "- Enter learning goals here."
   ]
  },
  {
   "cell_type": "markdown",
   "id": "e73ce5d6-d2b1-4f32-b64f-337a1b02e2d0",
   "metadata": {},
   "source": [
    "_______________\n",
    "\n",
    "## Subsection 1\n",
    "\n",
    "Info here"
   ]
  },
  {
   "cell_type": "markdown",
   "id": "815e0869-0518-4cf9-9417-cd9b08965ca1",
   "metadata": {},
   "source": [
    "_______________\n",
    "\n",
    "## Subsection 2\n",
    "\n",
    "Info here\n"
   ]
  },
  {
   "cell_type": "code",
   "execution_count": null,
   "id": "e961b1bd-a1c8-4e54-bafc-46dcf78454f1",
   "metadata": {},
   "outputs": [],
   "source": []
  }
 ],
 "metadata": {
  "kernelspec": {
   "display_name": "Python 3 (ipykernel)",
   "language": "python",
   "name": "python3"
  },
  "language_info": {
   "codemirror_mode": {
    "name": "ipython",
    "version": 3
   },
   "file_extension": ".py",
   "mimetype": "text/x-python",
   "name": "python",
   "nbconvert_exporter": "python",
   "pygments_lexer": "ipython3",
   "version": "3.9.12"
  }
 },
 "nbformat": 4,
 "nbformat_minor": 5
}
