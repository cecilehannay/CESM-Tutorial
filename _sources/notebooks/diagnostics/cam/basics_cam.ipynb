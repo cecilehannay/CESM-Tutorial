{
 "cells": [
  {
   "cell_type": "markdown",
   "id": "33070195-2d5f-4ee3-b6cb-a658209b1f4d",
   "metadata": {},
   "source": [
    "# Basic Plotting\n",
    "\n",
    "For the atmospheric data, we will look at common variables in the atmospheric diagnostics. Some of the plotting in these examples are based on the <a href=\"https://github.com/NCAR/ADF\">AMWG diagnostic framework (ADF)</a> and some are natively from the `xarray` functionality.\n",
    "\n",
    "\n",
    "let's go over 3 basic plotting examples:\n",
    "\n",
    "Exercise 1: Global lat/lon of surface temperature\n",
    "\n",
    "Exercise 2: Zonal mean of short wave cloud forcing\n",
    "\n",
    "Exercise 3: Temperature zonal mean with vertical levels\n",
    "\n",
    "`xarray` will be used for the data I/O, analysis, and some plotting, `matplotlib` and `cartopy` will aid in plotting, and `numpy` for calculations"
   ]
  },
  {
   "cell_type": "code",
   "execution_count": null,
   "id": "72e6f251-c6ff-4478-adab-783ac1795e34",
   "metadata": {},
   "outputs": [],
   "source": [
    "import os\n",
    "\n",
    "import cartopy.crs as ccrs\n",
    "import cartopy.feature as cfeature\n",
    "import cftime\n",
    "import matplotlib as mpl\n",
    "import matplotlib.path as mpath\n",
    "import matplotlib.pyplot as plt\n",
    "import numpy as np\n",
    "import xarray as xr\n",
    "from matplotlib.gridspec import GridSpec\n",
    "from matplotlib.lines import Line2D\n",
    "from mpl_toolkits.axes_grid1 import make_axes_locatable"
   ]
  },
  {
   "cell_type": "markdown",
   "id": "3d56ba02-c652-4a97-a466-d3633e53aeb1",
   "metadata": {},
   "source": [
    "The first step is to grab an atmosphere (CAM) history file from your CESM model run"
   ]
  },
  {
   "cell_type": "code",
   "execution_count": null,
   "id": "20d4eec8-5332-44a5-bd5c-910048c5d95f",
   "metadata": {},
   "outputs": [],
   "source": [
    "# Set your username here:\n",
    "username = \"PUT_USER_NAME_HERE\"\n",
    "\n",
    "# Here we point to the archive directory from your b.day2.1 simulation\n",
    "monthly_output_path = f\"/glade/scratch/{username}/archive/b.day2.1/atm/hist\"\n",
    "\n",
    "# If you were unable to successfully run the b.day2.1 simulation, then feel free to use\n",
    "# this provided simulation data instead:\n",
    "#monthly_output_path = \"/glade/p/cesm/tutorial/tutorial_2023_archive/b.day2.1/atm/hist\"\n",
    "\n",
    "# Name of history file to plot\n",
    "file_name = \"b.day2.1.cam.h0.0003-07.nc\"\n",
    "\n",
    "files = os.path.join(monthly_output_path, file_name)\n",
    "files"
   ]
  },
  {
   "cell_type": "code",
   "execution_count": null,
   "id": "fa978aa8-bf89-4971-a59b-ae2fafb9e0a5",
   "metadata": {},
   "outputs": [],
   "source": [
    "ds = xr.open_dataset(files)\n",
    "ds"
   ]
  },
  {
   "cell_type": "markdown",
   "id": "39d93758-aedb-42ab-810c-257a37dae487",
   "metadata": {},
   "source": [
    "## Exercise 1: Make a lat-lon plot of TS\n",
    "\n",
    "To highlight plotting the variables from the CESM atmosphere (CAM) file, the first example will plot a simple global lat/lon plot of surface temperature `TS`"
   ]
  },
  {
   "cell_type": "markdown",
   "id": "1e6b83ad",
   "metadata": {},
   "source": [
    "### Grab data from first time stamp\n",
    "\n",
    "NOTE: This dataset has <em>only</em> one time"
   ]
  },
  {
   "cell_type": "code",
   "execution_count": null,
   "id": "feb6d347-cbcb-407c-bb4d-6d89c69fcf32",
   "metadata": {},
   "outputs": [],
   "source": [
    "ts_0 = ds.TS.sel({\"time\": ds.TS.time.values[0]}).squeeze()\n",
    "ts_0"
   ]
  },
  {
   "cell_type": "markdown",
   "id": "cf1a965c",
   "metadata": {},
   "source": [
    "Next is to set up the map. Since we are plotting a global lat/lon, we will use the Plate Carree projection. "
   ]
  },
  {
   "cell_type": "code",
   "execution_count": null,
   "id": "7b183aba-6eae-48ad-9545-f3c918fb99ff",
   "metadata": {},
   "outputs": [],
   "source": [
    "# define the colormap\n",
    "# cmap = plt.cm.get_cmap('jet')\n",
    "cmap = mpl.colormaps[\"jet\"]\n",
    "\n",
    "# set up the figure with a Plate Carree projection\n",
    "fig = plt.figure(figsize=(15, 10))\n",
    "\n",
    "ax = fig.add_subplot(1, 1, 1, projection=ccrs.PlateCarree())\n",
    "\n",
    "# Plot the first timeslice of TS\n",
    "img = ax.pcolormesh(ds.lon, ds.lat, ts_0, cmap=cmap, transform=ccrs.PlateCarree())\n",
    "\n",
    "plt.title(\"Surface Temperature\", fontsize=20)\n",
    "\n",
    "# Set up colorbar\n",
    "plt.colorbar(img, orientation=\"vertical\", fraction=0.0242, pad=0.01)\n",
    "plt.show()"
   ]
  },
  {
   "cell_type": "markdown",
   "id": "20dc7be8",
   "metadata": {},
   "source": [
    "#### Question:\n",
    "\n",
    "What code would you use in the `pcolormesh` function to set the plotting limits?\n",
    "\n",
    "#### Question:\n",
    "\n",
    "How could we change the central longitude?\n",
    "\n",
    "#DROPDOWN ?\n",
    "\n",
    "```python\n",
    "ax = fig.add_subplot(1,1,1, projection=ccrs.PlateCarree(central_longitude=0))\n",
    "```"
   ]
  },
  {
   "cell_type": "markdown",
   "id": "c632aed7",
   "metadata": {},
   "source": [
    "A second quick example is for `xarray`'s built-in plotting which uses the `matplotlib` and `cartopy` in the background. `xarray` makes a basic plot fairly simple."
   ]
  },
  {
   "cell_type": "code",
   "execution_count": null,
   "id": "6f48694b-1eae-4b88-87b3-9aec97ed7ffe",
   "metadata": {},
   "outputs": [],
   "source": [
    "# Xarray native plotting\n",
    "\n",
    "# Set up figure and axis\n",
    "fig, ax = plt.subplots(1, figsize=(20, 10))\n",
    "\n",
    "# Plot the data straight from the xarray dataset\n",
    "ts_0.plot.contourf(cmap=\"jet\", levels=np.arange(220, 321, 5))\n",
    "\n",
    "plt.show()"
   ]
  },
  {
   "cell_type": "markdown",
   "id": "8d12294c-691b-491f-bf88-be4c267a5c73",
   "metadata": {},
   "source": [
    "---"
   ]
  },
  {
   "cell_type": "markdown",
   "id": "42b295a0-4675-4d4e-814f-5aac53b90973",
   "metadata": {},
   "source": [
    "## Exercise 2: Zonal plot of SWCF\n",
    "\n",
    "The second example will plot the short wave cloud forcing `SWCF` zonally."
   ]
  },
  {
   "cell_type": "markdown",
   "id": "765089ca",
   "metadata": {},
   "source": [
    "Grab the variable data and mean over the the lon value"
   ]
  },
  {
   "cell_type": "code",
   "execution_count": null,
   "id": "801cf760-f576-4cea-9dd6-0dadfc1788a1",
   "metadata": {},
   "outputs": [],
   "source": [
    "ds_swcf = ds.SWCF\n",
    "\n",
    "# Get all the dataset dimensions\n",
    "d = ds_swcf.dims\n",
    "\n",
    "# Grab all dimensions to mean the lon values from\n",
    "davgovr = [dim for dim in d if dim not in (\"lev\", \"lat\")]\n",
    "\n",
    "# Make new dataset of zonal mean values\n",
    "ds_swcf_zonal = ds_swcf.mean(dim=davgovr)\n",
    "\n",
    "# print some values of new zonally-averaged SWCF variable\n",
    "ds_swcf_zonal"
   ]
  },
  {
   "cell_type": "code",
   "execution_count": null,
   "id": "b92a7bdd-b2dc-4a2c-a6e9-9b75e361492a",
   "metadata": {},
   "outputs": [],
   "source": [
    "# Create figure and axis\n",
    "fig, ax = plt.subplots(1, figsize=(12, 7))\n",
    "\n",
    "# Set Main title for subplots:\n",
    "plt.title(\"Short Wave Cloud Forcing\", fontsize=20)\n",
    "\n",
    "# Plot value on y-axis and latitude on the x-axis\n",
    "ax.plot(ds_swcf_zonal.lat, ds_swcf_zonal, c=\"#1f77b4\")\n",
    "\n",
    "ax.set_xlim(\n",
    "    [max([ds_swcf_zonal.lat.min(), -90.0]), min([ds_swcf_zonal.lat.max(), 90.0])]\n",
    ")\n",
    "\n",
    "ax.set_xlabel(\"Latitude\")\n",
    "plt.show()"
   ]
  },
  {
   "cell_type": "markdown",
   "id": "a4cd24f4",
   "metadata": {},
   "source": [
    "### Question\n",
    "\n",
    "What code could you add to set legend for plot line?\n",
    "\n",
    "#DROPDOWN ?\n",
    "\n",
    "```python\n",
    "label = ds_swcf.time.values[0].strftime() # -> '0001-02-01 00:00:00'\n",
    "line = Line2D([0], [0], label=label,\n",
    "                        color=\"#1f77b4\")\n",
    "                        \n",
    "fig.legend(handles=[line],bbox_to_anchor=(-0.15, 0.15, 1.05, .102),loc=\"right\",\n",
    "                   borderaxespad=0.0,fontsize=16,frameon=False)\n",
    "```\n",
    "\n",
    "What else could go for the line legend, if anything?\n",
    "#DROPDOWN ?\n",
    "-> suimulation run name, season, etc."
   ]
  },
  {
   "cell_type": "markdown",
   "id": "4d50620e-407d-44ef-bce5-e76c076bcbcd",
   "metadata": {},
   "source": [
    "---"
   ]
  },
  {
   "cell_type": "markdown",
   "id": "49402bdd-648e-4021-af0e-9280067b7d76",
   "metadata": {},
   "source": [
    "## Exercise 3: Plot of zonal T\n",
    "\n",
    "This example will plot the 3D zonal mean of temperature `T` with the pressure as the y-variable and latitude as the x-variable\n",
    "\n",
    "\n",
    "```{warning}\n",
    "QUESTION FOR REVIEWERS: Here are four examples of how to plot the data. I think each is valuable for plotting pressure on the y-axis and changing the y-tick scale (ie log) to get more information out of the data. \n",
    "\n",
    "I've added two different ways of plotting: native xarray and what the ADF uses. \n",
    "\n",
    "Let me know about any feedback on these, I'm sure these could be turned into exercises?\n",
    "\n",
    "```"
   ]
  },
  {
   "cell_type": "code",
   "execution_count": null,
   "id": "619d661b-84c9-4a5f-8366-36d8023f082e",
   "metadata": {},
   "outputs": [],
   "source": [
    "# Remove all dimensions of length one\n",
    "ds_t = ds.T.squeeze()\n",
    "ds_t"
   ]
  },
  {
   "cell_type": "markdown",
   "id": "3eee4a65-9094-41e6-b905-b6623d62bde4",
   "metadata": {},
   "source": [
    "#### Natively via xarray\n",
    "\n",
    " - y-axis is <strong>increasing</strong> with height\n",
    " - y-axis is <strong>not</strong> in log pressure"
   ]
  },
  {
   "cell_type": "code",
   "execution_count": null,
   "id": "5d7c3b5c-96ec-4da6-af39-7c4460827f71",
   "metadata": {},
   "outputs": [],
   "source": [
    "# Average over all dimensions except `lev` and `lat`.\n",
    "d = ds_t.dims\n",
    "davgovr = [dim for dim in d if dim not in (\"lev\", \"lat\")]\n",
    "\n",
    "DS = ds_t.mean(dim=davgovr)\n",
    "DS.transpose(\"lat\", \"lev\", ...)\n",
    "fig, ax = plt.subplots(1, figsize=(20, 10))\n",
    "DS.plot.contourf(ax=ax, y=\"lev\", cmap=\"Spectral_r\")\n",
    "plt.show()"
   ]
  },
  {
   "cell_type": "markdown",
   "id": "9b8a57a1-0e26-4740-8182-bf4da973c911",
   "metadata": {},
   "source": [
    "#### ADF style quick plot\n",
    "\n",
    " - y-axis is <strong>increasing</strong> with height\n",
    " - y-axis is <strong>not</strong> in log pressure"
   ]
  },
  {
   "cell_type": "code",
   "execution_count": null,
   "id": "2440adfe-60ab-4feb-832c-496423057404",
   "metadata": {},
   "outputs": [],
   "source": [
    "# Average over all dimensions except `lev` and `lat`.\n",
    "d = ds_t.dims\n",
    "davgovr = [dim for dim in d if dim not in (\"lev\", \"lat\")]\n",
    "\n",
    "DS = ds_t.mean(dim=davgovr)\n",
    "\n",
    "lev = DS[\"lev\"]\n",
    "lat = DS[\"lat\"]\n",
    "mlev, mlat = np.meshgrid(lev, lat)\n",
    "\n",
    "# Generate zonal plot:\n",
    "fig, ax = plt.subplots(1, figsize=(15, 7))\n",
    "\n",
    "# Create zonal plot with vertical levels\n",
    "img = ax.contourf(mlat, mlev, DS.transpose(\"lat\", \"lev\"), cmap=\"Spectral_r\")\n",
    "\n",
    "# Format axis and ticks\n",
    "ax.set_xlabel(\"Latitude\")\n",
    "fig.colorbar(img, ax=ax, location=\"right\")"
   ]
  },
  {
   "cell_type": "markdown",
   "id": "e866346a-2d31-4df9-955c-b7a2ae00b888",
   "metadata": {},
   "source": [
    "#### Same as above, but:\n",
    "\n",
    " - y-axis is <strong>decreasing</strong> with height\n",
    " - y-axis is <strong>not</strong> in log pressure"
   ]
  },
  {
   "cell_type": "code",
   "execution_count": null,
   "id": "c08d64d9-40d9-4064-9b06-2b8489d916a0",
   "metadata": {},
   "outputs": [],
   "source": [
    "# Average over all dimensions except `lev` and `lat`.\n",
    "d = ds_t.dims\n",
    "davgovr = [dim for dim in d if dim not in (\"lev\", \"lat\")]\n",
    "\n",
    "DS = ds_t.mean(dim=davgovr)\n",
    "\n",
    "# print(DS.lev.min(),DS.lev.max())\n",
    "\n",
    "lev = DS[\"lev\"]\n",
    "lat = DS[\"lat\"]\n",
    "mlev, mlat = np.meshgrid(lev, lat)\n",
    "\n",
    "# Generate zonal plot:\n",
    "fig, ax = plt.subplots(1, figsize=(15, 7))\n",
    "\n",
    "# Create zonal plot with vertical levels\n",
    "img = ax.contourf(mlat, mlev, DS.transpose(\"lat\", \"lev\"), cmap=\"Spectral_r\")\n",
    "\n",
    "# Format axis and ticks\n",
    "plt.gca().invert_yaxis()\n",
    "ax.tick_params(which=\"minor\", length=4, color=\"r\")\n",
    "\n",
    "# Set up colorbar\n",
    "cbar_ax = fig.add_axes([0, 0, 0.1, 0.1])\n",
    "posn = ax.get_position()\n",
    "\n",
    "# Set position and size of colorbar position: [left, bottom, width, height]\n",
    "cbar_ax.set_position([posn.x0 + posn.width + 0.005, posn.y0, 0.02, posn.height])\n",
    "\n",
    "ax.set_xlabel(\"Latitude\")\n",
    "fig.colorbar(img, cax=cbar_ax, orientation=\"vertical\")"
   ]
  },
  {
   "cell_type": "markdown",
   "id": "84fc1ae8-74f3-4c4f-9171-18b5625f2d96",
   "metadata": {},
   "source": [
    "#### Same as above, but:\n",
    "\n",
    " - y-axis is <strong>decreasing</strong> with height\n",
    " - y-axis <strong>is</strong> in log pressure"
   ]
  },
  {
   "cell_type": "code",
   "execution_count": null,
   "id": "50564cf7-948e-4b77-9537-707b7358bf71",
   "metadata": {},
   "outputs": [],
   "source": [
    "# Average over all dimensions except `lev` and `lat`.\n",
    "d = ds_t.dims\n",
    "davgovr = [dim for dim in d if dim not in (\"lev\", \"lat\")]\n",
    "\n",
    "DS = ds_t.mean(dim=davgovr)\n",
    "\n",
    "# print(DS.lev.min(),DS.lev.max())\n",
    "\n",
    "lev = DS[\"lev\"]\n",
    "lat = DS[\"lat\"]\n",
    "mlev, mlat = np.meshgrid(lev, lat)\n",
    "\n",
    "# Generate zonal plot:\n",
    "fig, ax = plt.subplots(1, figsize=(15, 7))\n",
    "\n",
    "# Create zonal plot with vertical levels\n",
    "img = ax.contourf(mlat, mlev, DS.transpose(\"lat\", \"lev\"), cmap=\"Spectral_r\")\n",
    "\n",
    "# Format axis and ticks\n",
    "plt.yscale(\"log\")\n",
    "plt.gca().invert_yaxis()\n",
    "ax.tick_params(which=\"minor\", length=4, color=\"r\")\n",
    "\n",
    "# Set up colorbar\n",
    "cbar_ax = fig.add_axes([0, 0, 0.1, 0.1])\n",
    "posn = ax.get_position()\n",
    "\n",
    "# Set position and size of colorbar position: [left, bottom, width, height]\n",
    "cbar_ax.set_position([posn.x0 + posn.width + 0.005, posn.y0, 0.02, posn.height])\n",
    "\n",
    "ax.set_xlabel(\"Latitude\")\n",
    "fig.colorbar(img, cax=cbar_ax, orientation=\"vertical\")"
   ]
  },
  {
   "cell_type": "code",
   "execution_count": null,
   "id": "235bdaf0-c493-480c-b0a6-a78e83b0c4db",
   "metadata": {},
   "outputs": [],
   "source": []
  }
 ],
 "metadata": {
  "kernelspec": {
   "display_name": "NPL 2023b",
   "language": "python",
   "name": "npl-2023b"
  },
  "language_info": {
   "codemirror_mode": {
    "name": "ipython",
    "version": 3
   },
   "file_extension": ".py",
   "mimetype": "text/x-python",
   "name": "python",
   "nbconvert_exporter": "python",
   "pygments_lexer": "ipython3",
   "version": "3.10.12"
  }
 },
 "nbformat": 4,
 "nbformat_minor": 5
}
