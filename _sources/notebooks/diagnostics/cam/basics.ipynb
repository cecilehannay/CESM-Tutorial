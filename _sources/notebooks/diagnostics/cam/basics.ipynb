{
 "cells": [
  {
   "cell_type": "markdown",
   "id": "33070195-2d5f-4ee3-b6cb-a658209b1f4d",
   "metadata": {},
   "source": [
    "# Basic Plotting"
   ]
  },
  {
   "cell_type": "markdown",
   "id": "3d56ba02-c652-4a97-a466-d3633e53aeb1",
   "metadata": {},
   "source": [
    "Use the file: /glade/scratch/hannay/archive/b1850_high_freq/atm/hist/b1850_high_freq.cam.h0.0001-01.nc"
   ]
  },
  {
   "cell_type": "markdown",
   "id": "98894413-8550-49ba-b5ff-c027900b253a",
   "metadata": {},
   "source": [
    "## Exercise 1: Make a lat-lon plot of TS"
   ]
  },
  {
   "cell_type": "markdown",
   "id": "42b295a0-4675-4d4e-814f-5aac53b90973",
   "metadata": {},
   "source": [
    "## Exercise 2: Zonal plot of SWCF"
   ]
  },
  {
   "cell_type": "markdown",
   "id": "49402bdd-648e-4021-af0e-9280067b7d76",
   "metadata": {},
   "source": [
    "## Exercise 3: Plot of zonal T "
   ]
  }
 ],
 "metadata": {
  "kernelspec": {
   "display_name": "NPL 2023a",
   "language": "python",
   "name": "npl-2023a"
  },
  "language_info": {
   "codemirror_mode": {
    "name": "ipython",
    "version": 3
   },
   "file_extension": ".py",
   "mimetype": "text/x-python",
   "name": "python",
   "nbconvert_exporter": "python",
   "pygments_lexer": "ipython3",
   "version": "3.9.16"
  }
 },
 "nbformat": 4,
 "nbformat_minor": 5
}
