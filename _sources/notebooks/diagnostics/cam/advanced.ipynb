{
 "cells": [
  {
   "cell_type": "markdown",
   "id": "bb50f4e0-22b4-4eff-99ac-01733347aacc",
   "metadata": {},
   "source": [
    "# Advanced Plotting"
   ]
  },
  {
   "cell_type": "markdown",
   "id": "bc842f8d-b0fe-41c2-be03-052eba873e72",
   "metadata": {},
   "source": [
    "This provides some additional examples of more advanced sea ice fields. Here we introduce the concept of the subgridscale ice thickness distribution (ITD). This means we have a fraction of ice in each grid cell that is binned into thickness categories."
   ]
  },
  {
   "cell_type": "code",
   "execution_count": null,
   "id": "504d66c5-830c-43a2-a34a-abe8c62da585",
   "metadata": {},
   "outputs": [],
   "source": [
    "import xarray as xr\n",
    "import numpy as np\n",
    "import matplotlib.pyplot as plt\n",
    "import matplotlib.path as mpath\n",
    "from matplotlib.gridspec import GridSpec\n",
    "import pop_tools\n",
    "import cartopy.crs as ccrs\n",
    "import cartopy.feature as cfeature\n",
    "import os"
   ]
  },
  {
   "cell_type": "markdown",
   "id": "14fbb751-1804-4ff7-ad07-3c292e59e895",
   "metadata": {},
   "source": [
    "For these exercises we will need to import multiple variables, below is an example of one way to do so."
   ]
  },
  {
   "cell_type": "code",
   "execution_count": null,
   "id": "3389a570-582d-4520-8fe7-4bdcd3d400e5",
   "metadata": {},
   "outputs": [],
   "source": [
    "monthly_output_path = \"/glade/campaign/cgd/cesm/CESM2-LE/ice/proc/tseries/month_1\"\n",
    "run_name = \"b.e21.BHISTcmip6.f09_g17.LE2-1001.001\"\n",
    "\n",
    "var_names = ['aice',\n",
    "             'aicen',\n",
    "             'vsnon',\n",
    "             'hs',\n",
    "             'fsens',\n",
    "             'fsens_ai',\n",
    "            ]\n",
    "\n",
    "da_list = []\n",
    "\n",
    "for var_name in var_names:\n",
    "    files = os.path.join(monthly_output_path, var_name,\n",
    "                         run_name + \".cice.h.\" + var_name + \".*\")\n",
    "    ds_in = xr.open_mfdataset(files)\n",
    "    da_list.append(ds_in[var_name])\n",
    "    del ds_in\n",
    "\n",
    "ds = xr.merge(da_list)\n",
    "\n",
    "del da_list"
   ]
  },
  {
   "cell_type": "markdown",
   "id": "fe88ed04-642c-4fe2-87aa-cd4edc1e5b4d",
   "metadata": {},
   "source": [
    "The next step is to read in some grid information for the `gx1v7` dipole grid used in POP and CICE. We will read in three main variables: `tarea`, `TLAT`, and `TLON`. These are the areas of the gridcells along with the latitudes and longitudes of the gridcell centers. Also, we will print the latitude array `TLAT` to see the metadata."
   ]
  },
  {
   "cell_type": "code",
   "execution_count": null,
   "id": "24f47162-9166-46d4-b026-515b6f892c8f",
   "metadata": {},
   "outputs": [],
   "source": [
    "# get pop grid grid cell areas\n",
    "grid = pop_tools.get_grid('POP_gx1v7')\n",
    "\n",
    "# convert tarea to m^2\n",
    "with xr.set_options(keep_attrs=True):\n",
    "    grid['TAREA'] = grid['TAREA']/(1e4)\n",
    "grid['TAREA'].attrs['units'] = 'm^2'"
   ]
  },
  {
   "cell_type": "markdown",
   "id": "785ff8b7-fdd0-4216-a059-038cbfe4e282",
   "metadata": {},
   "source": [
    "We will merge in three main variables: `tarea`, `TLAT`, and `TLON`. These are the areas of the gridcells along with the latitudes and longitudes of the gridcell centers. Note that this overwrites the dataset object from above."
   ]
  },
  {
   "cell_type": "code",
   "execution_count": null,
   "id": "da0d7049-59fc-4bda-90f4-211ed1ae387d",
   "metadata": {},
   "outputs": [],
   "source": [
    "ds = xr.merge([ds.drop(['TLAT', 'TLON', 'ULAT', 'ULON']),\n",
    "               grid[['TLAT', 'TLONG', 'TAREA']].rename_dims({'nlat':'nj','nlon':'ni'})],\n",
    "              compat='identical', combine_attrs='no_conflicts')"
   ]
  },
  {
   "cell_type": "code",
   "execution_count": null,
   "id": "b6c35032-3dd2-43b6-988e-14f03e497c28",
   "metadata": {},
   "outputs": [],
   "source": [
    "ds"
   ]
  },
  {
   "cell_type": "markdown",
   "id": "faf06e07-ee8a-4a61-a487-c0a445622e86",
   "metadata": {},
   "source": [
    "## Example 1: Plot per-category ice area\n",
    "\n",
    "Compare the dataset in this notebook with `aice` in the basics notebook. Notice that in this case we have an additional category dimension `nc`. `aicen` is the per-category ice area fraction. We demonstrate plotting a per-category variable below. We also plot the full sea ice concentration in the final plot."
   ]
  },
  {
   "cell_type": "code",
   "execution_count": null,
   "id": "ffb5f043-03ea-4483-90d2-26409072b9b5",
   "metadata": {},
   "outputs": [],
   "source": [
    "# make circular boundary for polar stereographic circular plots\n",
    "theta = np.linspace(0, 2*np.pi, 100)\n",
    "center, radius = [0.5, 0.5], 0.5\n",
    "verts = np.vstack([np.sin(theta), np.cos(theta)]).T\n",
    "circle = mpath.Path(verts * radius + center)\n",
    "\n",
    "cmap = plt.cm.get_cmap('Blues_r')  \n",
    "\n",
    "# create figure with subplots\n",
    "fig, axs = plt.subplots(3, 2, figsize=(20,30),\n",
    "                       subplot_kw={'projection':ccrs.NorthPolarStereo()})\n",
    "axs = np.ravel(axs)\n",
    "\n",
    "# this creates a subplot for each ITD category\n",
    "for i in ds.nc.values:\n",
    "    ax = axs[i]\n",
    "    ax.set_boundary(circle, transform=ax.transAxes)\n",
    "    ax.add_feature(cfeature.LAND,zorder=100,edgecolor='k')\n",
    "    ax.set_extent([0.005, 360, 90, 55], crs=ccrs.PlateCarree())\n",
    "    this=ax.pcolormesh(ds['TLONG'],\n",
    "                       ds['TLAT'],\n",
    "                       ds['aicen'].sel({'time':'1850-02-01 00:00:00',\n",
    "                                        'nc':i}).squeeze(),\n",
    "                       cmap=cmap,vmax=1,vmin=0,\n",
    "                       transform=ccrs.PlateCarree())\n",
    "    plt.colorbar(this,orientation='vertical',fraction=0.04,pad=0.01)\n",
    "    ax.set_title('Area Fraction Category ' + str(i+1))\n",
    "\n",
    "# gridcell mean aice in the final subplot\n",
    "ax = axs[-1]\n",
    "ax.set_boundary(circle, transform=ax.transAxes)\n",
    "ax.add_feature(cfeature.LAND,zorder=100,edgecolor='k')\n",
    "ax.set_extent([0.005, 360, 90, 55], crs=ccrs.PlateCarree())\n",
    "this=ax.pcolormesh(ds['TLONG'],\n",
    "                   ds['TLAT'],\n",
    "                   ds['aice'].sel({'time':'1850-02-01 00:00:00'}).squeeze(),\n",
    "                   cmap=cmap,vmax=1,vmin=0,\n",
    "                   transform=ccrs.PlateCarree())\n",
    "plt.colorbar(this,orientation='vertical',fraction=0.04,pad=0.01)\n",
    "ax.set_title('Sea Ice Concentration')"
   ]
  },
  {
   "cell_type": "markdown",
   "id": "0d50b7e3-6a20-432f-9c0e-2222b85604ed",
   "metadata": {},
   "source": [
    "## Example 2: Plot per-category snow thickness\n",
    "\n",
    "Internally, the model actually stores the snow **volume** for each category, not the thickness. To get the thickness we need to divide `vsnon` by `aicen` (the per category area.\n",
    "\n",
    "We will also plot the grid cell mean snow thickness. How does this compare with the per-category values?"
   ]
  },
  {
   "cell_type": "code",
   "execution_count": null,
   "id": "ed4b81e5-c6b5-466d-9784-74bd7bbace8a",
   "metadata": {},
   "outputs": [],
   "source": [
    "ds['hsn'] = ds['vsnon'] / ds['aicen']"
   ]
  },
  {
   "cell_type": "code",
   "execution_count": null,
   "id": "889b2691-b6b3-4363-b3fa-e4d96e4309aa",
   "metadata": {},
   "outputs": [],
   "source": [
    "# Max snow depth for colorbars\n",
    "hs_max = 0.5 \n",
    "\n",
    "# make circular boundary for polar stereographic circular plots\n",
    "theta = np.linspace(0, 2*np.pi, 100)\n",
    "center, radius = [0.5, 0.5], 0.5\n",
    "verts = np.vstack([np.sin(theta), np.cos(theta)]).T\n",
    "circle = mpath.Path(verts * radius + center)\n",
    "\n",
    "cmap = plt.cm.get_cmap('Blues_r')  \n",
    "\n",
    "\n",
    "fig, axs = plt.subplots(3, 2, figsize=(20,30),\n",
    "                       subplot_kw={'projection':ccrs.NorthPolarStereo()})\n",
    "axs = np.ravel(axs)\n",
    "\n",
    "for i in ds.nc.values:\n",
    "    ax = axs[i]\n",
    "    ax.set_boundary(circle, transform=ax.transAxes)\n",
    "    ax.add_feature(cfeature.LAND,zorder=100,edgecolor='k')\n",
    "    ax.set_extent([0.005, 360, 90, 55], crs=ccrs.PlateCarree())\n",
    "    this=ax.pcolormesh(ds['TLONG'],\n",
    "                       ds['TLAT'],\n",
    "                       ds['hsn'].sel({'time':'1850-02-01 00:00:00',\n",
    "                                        'nc':i}).squeeze(),\n",
    "                       cmap=cmap,vmax=hs_max,vmin=0,\n",
    "                       transform=ccrs.PlateCarree())\n",
    "    plt.colorbar(this,orientation='vertical',fraction=0.04,pad=0.01)\n",
    "    ax.set_title('Snow Depth (m) Category ' + str(i+1))\n",
    "\n",
    "# gridcell mean snow volume in the final subplot\n",
    "ax = axs[-1]\n",
    "ax.set_boundary(circle, transform=ax.transAxes)\n",
    "ax.add_feature(cfeature.LAND,zorder=100,edgecolor='k')\n",
    "ax.set_extent([0.005, 360, 90, 55], crs=ccrs.PlateCarree())\n",
    "this=ax.pcolormesh(ds['TLONG'],\n",
    "                   ds['TLAT'],\n",
    "                   ds['hs'].sel({'time':'1850-02-01 00:00:00'}).squeeze(),\n",
    "                   cmap=cmap,vmax=hs_max,vmin=0,\n",
    "                   transform=ccrs.PlateCarree())\n",
    "plt.colorbar(this,orientation='vertical',fraction=0.04,pad=0.01)\n",
    "ax.set_title('Average Snow Depth (m)')"
   ]
  },
  {
   "cell_type": "markdown",
   "id": "e85aa3e0-6a08-4592-b616-2dc711b28230",
   "metadata": {},
   "source": [
    "## Example 3: Ice area related tracer\n",
    "\n",
    "The default CICE outputs are averaged over the entire grid cell, including the open water. Thus if a grid cell happened to be half covered in 1-m-thick ice and half open water then `hi` would be 0.5 m. Some tracers are written out just for the ice-covered area of the grid cell. These are indicated by have `_ai` appended to the variable name.\n",
    "\n",
    "Below is an example of this for the sensible heat flux."
   ]
  },
  {
   "cell_type": "code",
   "execution_count": null,
   "id": "41e55cf3-f620-41f9-8b10-2f9d38c03fe4",
   "metadata": {},
   "outputs": [],
   "source": [
    "ds['fsens_diff'] = ds['fsens_ai'] - ds['fsens']"
   ]
  },
  {
   "cell_type": "code",
   "execution_count": null,
   "id": "5055a66c-9826-4e9e-8429-bbd43ced1ab5",
   "metadata": {},
   "outputs": [],
   "source": [
    "# Min and max\n",
    "mins = [-60, -60, -30, 0]\n",
    "maxs = [60, 60, 30, 1]\n",
    "\n",
    "# make circular boundary for polar stereographic circular plots\n",
    "theta = np.linspace(0, 2*np.pi, 100)\n",
    "center, radius = [0.5, 0.5], 0.5\n",
    "verts = np.vstack([np.sin(theta), np.cos(theta)]).T\n",
    "circle = mpath.Path(verts * radius + center)\n",
    "\n",
    "cmap = plt.cm.get_cmap('RdBu')  \n",
    "\n",
    "vars_to_plt = ['fsens_ai', 'fsens', 'fsens_diff', 'aice']\n",
    "\n",
    "fig, axs = plt.subplots(2, 2, figsize=(20,20),\n",
    "                       subplot_kw={'projection':ccrs.NorthPolarStereo()})\n",
    "axs = np.ravel(axs)\n",
    "\n",
    "# set up the plots for sensible heat flux over the sea ice, gridcell mean sensible heat flux,\n",
    "# difference, and the gridcell mean ice concentration aice\n",
    "\n",
    "for i in np.arange(4):\n",
    "    if i == 3:\n",
    "        cmap = plt.cm.get_cmap('Blues_r')\n",
    "    ax = axs[i]\n",
    "    ax.set_boundary(circle, transform=ax.transAxes)\n",
    "    ax.add_feature(cfeature.LAND,zorder=100,edgecolor='k')\n",
    "    ax.set_extent([0.005, 360, 90, 55], crs=ccrs.PlateCarree())\n",
    "    this=ax.pcolormesh(ds['TLONG'],\n",
    "                       ds['TLAT'],\n",
    "                       ds[vars_to_plt[i]].sel({'time':'1850-02-01 00:00:00'}\n",
    "                                             ).squeeze(),\n",
    "                       cmap=cmap,vmax=maxs[i],vmin=mins[i],\n",
    "                       transform=ccrs.PlateCarree())\n",
    "    plt.colorbar(this,orientation='vertical',fraction=0.04,pad=0.01)\n",
    "    ax.set_title(vars_to_plt[i])\n",
    "\n"
   ]
  },
  {
   "cell_type": "markdown",
   "id": "186fccb6-b41c-4fb6-b613-5a6c24a6773b",
   "metadata": {},
   "source": [
    "Where are the differences most pronounced and why?"
   ]
  },
  {
   "cell_type": "code",
   "execution_count": null,
   "id": "244ddc63-c892-4895-a9bf-5a63e395ba12",
   "metadata": {},
   "outputs": [],
   "source": []
  }
 ],
 "metadata": {
  "kernelspec": {
   "display_name": "NPL 2023a",
   "language": "python",
   "name": "npl-2023a"
  },
  "language_info": {
   "codemirror_mode": {
    "name": "ipython",
    "version": 3
   },
   "file_extension": ".py",
   "mimetype": "text/x-python",
   "name": "python",
   "nbconvert_exporter": "python",
   "pygments_lexer": "ipython3",
   "version": "3.9.16"
  }
 },
 "nbformat": 4,
 "nbformat_minor": 5
}
