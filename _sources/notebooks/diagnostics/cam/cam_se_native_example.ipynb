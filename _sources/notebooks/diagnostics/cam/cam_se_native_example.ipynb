{
 "cells": [
  {
   "cell_type": "markdown",
   "metadata": {},
   "source": [
    "# CAM-SE output analysis\n",
    "\n",
    "Examples of simple analysis and plotting that can be done with CAM-SE output on the native cubed-sphere grid."
   ]
  },
  {
   "cell_type": "code",
   "execution_count": 2,
   "metadata": {},
   "outputs": [],
   "source": [
    "from pathlib import Path\n",
    "import xarray as xr\n",
    "import numpy as np\n",
    "import matplotlib.pyplot as plt\n",
    "import cartopy.crs as ccrs"
   ]
  },
  {
   "cell_type": "code",
   "execution_count": 3,
   "metadata": {},
   "outputs": [],
   "source": [
    "def make_map(data, lon, lat,):\n",
    "    \"\"\"This function plots data on a Mollweide projection map. \n",
    "    \n",
    "    The data is transformed to the projection using Cartopy's `transform_points` method.\n",
    "\n",
    "    The plot is made by triangulation of the points, producing output very similar to `pcolormesh`,\n",
    "    but with triangles instead of rectangles used to make the image.\n",
    "    \"\"\"\n",
    "    dataproj = ccrs.PlateCarree() # assumes data is lat/lon\n",
    "    plotproj = ccrs.Mollweide()   # output projection \n",
    "    # set up figure / axes object, set to be global, add coastlines\n",
    "    fig, ax = plt.subplots(figsize=(6,3), subplot_kw={'projection':plotproj})\n",
    "    ax.set_global()\n",
    "    ax.coastlines(linewidth=0.2)\n",
    "    # this figures out the transformation between (lon,lat) and the specified projection\n",
    "    tcoords = plotproj.transform_points(dataproj, lon.values, lat.values) # working with the projection\n",
    "    xi=tcoords[:,0] != np.inf  # there can be bad points set to infinity, but we'll ignore them\n",
    "    # print(f\"{xi.shape = } --- Number of False: {np.count_nonzero(~xi)}\")\n",
    "    assert xi.shape[0] == tcoords.shape[0], f\"Something wrong with shapes should be the same: {xi.shape = }, {tcoords.shape = }\"\n",
    "    tc=tcoords[xi,:]\n",
    "    datai=data.values[xi]  # convert to numpy array, then subset\n",
    "    # Use tripcolor --> triangluates the data to make the plot\n",
    "    # rasterized=True reduces the file size (necessary for high-resolution for reasonable file size)\n",
    "    # keep output as \"img\" to make specifying colorbar easy\n",
    "    img = ax.tripcolor(tc[:,0],tc[:,1], datai, shading='gouraud', rasterized=True)\n",
    "    cbar = fig.colorbar(img, ax=ax, shrink=0.4)\n",
    "    return fig, ax"
   ]
  },
  {
   "cell_type": "markdown",
   "metadata": {},
   "source": [
    "## Input data\n",
    "\n",
    "In the following cell, specify the data source.\n",
    "\n",
    "`location_of_hfiles` is a path object that points to the directory where data files should be.\n",
    "`search_pattern` specifies what pattern to look for inside that directory.\n",
    "\n",
    "**SIMPLIFICATION** If you want to just provide a path to a file, simply specify it by commenting (with `#`) the lines above \"# WE need lat and lon\", and replace with:\n",
    "```\n",
    "fils = \"/path/to/your/data/file.nc\"\n",
    "```\n",
    "\n",
    "## Parameters\n",
    "Specify the name of the variable to be analyzed with `variable_name`.\n",
    "\n",
    "To change the units of the variable, specify `scale_factor` and provide the new units string as `units`. Otherwise, just set `scale_factor` and `units`:\n",
    "\n",
    "```\n",
    "scale_factor = 1\n",
    "units = ds[\"variable_name\"].attrs[\"units\"]\n",
    "```"
   ]
  },
  {
   "cell_type": "code",
   "execution_count": 5,
   "metadata": {},
   "outputs": [],
   "source": [
    "location_of_hfiles = Path(\"/glade/p/cesmdata/cseg/inputdata/cesm2_init/f.cam6_3_107.FLTHIST_v0a.ne30.clm5_1.001/1994-01-01/\")\n",
    "search_pattern = \"f.cam6_3_107.FLTHIST_v0a.ne30.clm5_1.001.cam.h0.1993-12.nc\"\n",
    "\n",
    "fils = sorted(location_of_hfiles.glob(search_pattern))\n",
    "if len(fils) == 1:\n",
    "    ds = xr.open_dataset(fils[0])\n",
    "else:\n",
    "    print(f\"Just so you konw, there are {len(fils)} files about to be loaded.\")\n",
    "    ds = xr.open_mfdataset(fils)\n",
    "\n",
    "# We need lat and lon:\n",
    "lat = ds['lat']\n",
    "lon = ds['lon']\n",
    "\n",
    "# Choose what variable to plot:\n",
    "variable_name = \"PRECT\"\n",
    "\n",
    "# If needed, select scale factor and new units:\n",
    "scale_factor = 86400. * 1000. # m/s -> mm/day\n",
    "units = \"mm/day\"\n",
    "\n",
    "data = scale_factor * ds[variable_name]\n",
    "data.attrs['units'] = units"
   ]
  },
  {
   "cell_type": "code",
   "execution_count": 6,
   "metadata": {},
   "outputs": [],
   "source": [
    "# temporal averaging\n",
    "# simplest case, just average over times:\n",
    "data_avg = data.mean(dim='time')"
   ]
  },
  {
   "cell_type": "code",
   "execution_count": 12,
   "metadata": {},
   "outputs": [
    {
     "ename": "KeyError",
     "evalue": "'area'",
     "output_type": "error",
     "traceback": [
      "\u001b[0;31m---------------------------------------------------------------------------\u001b[0m",
      "\u001b[0;31mKeyError\u001b[0m                                  Traceback (most recent call last)",
      "File \u001b[0;32m/glade/u/apps/opt/conda/envs/npl/lib/python3.8/site-packages/xarray/core/dataset.py:1317\u001b[0m, in \u001b[0;36mDataset._construct_dataarray\u001b[0;34m(self, name)\u001b[0m\n\u001b[1;32m   1316\u001b[0m \u001b[38;5;28;01mtry\u001b[39;00m:\n\u001b[0;32m-> 1317\u001b[0m     variable \u001b[38;5;241m=\u001b[39m \u001b[38;5;28;43mself\u001b[39;49m\u001b[38;5;241;43m.\u001b[39;49m\u001b[43m_variables\u001b[49m\u001b[43m[\u001b[49m\u001b[43mname\u001b[49m\u001b[43m]\u001b[49m\n\u001b[1;32m   1318\u001b[0m \u001b[38;5;28;01mexcept\u001b[39;00m \u001b[38;5;167;01mKeyError\u001b[39;00m:\n",
      "\u001b[0;31mKeyError\u001b[0m: 'area'",
      "\nDuring handling of the above exception, another exception occurred:\n",
      "\u001b[0;31mKeyError\u001b[0m                                  Traceback (most recent call last)",
      "Input \u001b[0;32mIn [12]\u001b[0m, in \u001b[0;36m<cell line: 4>\u001b[0;34m()\u001b[0m\n\u001b[1;32m      1\u001b[0m \u001b[38;5;66;03m#\u001b[39;00m\n\u001b[1;32m      2\u001b[0m \u001b[38;5;66;03m# Global average\u001b[39;00m\n\u001b[1;32m      3\u001b[0m \u001b[38;5;66;03m#\u001b[39;00m\n\u001b[0;32m----> 4\u001b[0m data_global_average \u001b[38;5;241m=\u001b[39m data_avg\u001b[38;5;241m.\u001b[39mweighted(\u001b[43mds\u001b[49m\u001b[43m[\u001b[49m\u001b[38;5;124;43m'\u001b[39;49m\u001b[38;5;124;43marea\u001b[39;49m\u001b[38;5;124;43m'\u001b[39;49m\u001b[43m]\u001b[49m)\u001b[38;5;241m.\u001b[39mmean()\n\u001b[1;32m      5\u001b[0m \u001b[38;5;28mprint\u001b[39m(\u001b[38;5;124mf\u001b[39m\u001b[38;5;124m\"\u001b[39m\u001b[38;5;124mThe area-weighted average of the time-mean data is: \u001b[39m\u001b[38;5;132;01m{\u001b[39;00mdata_global_average\u001b[38;5;241m.\u001b[39mitem()\u001b[38;5;132;01m}\u001b[39;00m\u001b[38;5;124m\"\u001b[39m)\n",
      "File \u001b[0;32m/glade/u/apps/opt/conda/envs/npl/lib/python3.8/site-packages/xarray/core/dataset.py:1410\u001b[0m, in \u001b[0;36mDataset.__getitem__\u001b[0;34m(self, key)\u001b[0m\n\u001b[1;32m   1408\u001b[0m     \u001b[38;5;28;01mreturn\u001b[39;00m \u001b[38;5;28mself\u001b[39m\u001b[38;5;241m.\u001b[39misel(\u001b[38;5;241m*\u001b[39m\u001b[38;5;241m*\u001b[39mkey)\n\u001b[1;32m   1409\u001b[0m \u001b[38;5;28;01mif\u001b[39;00m utils\u001b[38;5;241m.\u001b[39mhashable(key):\n\u001b[0;32m-> 1410\u001b[0m     \u001b[38;5;28;01mreturn\u001b[39;00m \u001b[38;5;28;43mself\u001b[39;49m\u001b[38;5;241;43m.\u001b[39;49m\u001b[43m_construct_dataarray\u001b[49m\u001b[43m(\u001b[49m\u001b[43mkey\u001b[49m\u001b[43m)\u001b[49m\n\u001b[1;32m   1411\u001b[0m \u001b[38;5;28;01mif\u001b[39;00m utils\u001b[38;5;241m.\u001b[39miterable_of_hashable(key):\n\u001b[1;32m   1412\u001b[0m     \u001b[38;5;28;01mreturn\u001b[39;00m \u001b[38;5;28mself\u001b[39m\u001b[38;5;241m.\u001b[39m_copy_listed(key)\n",
      "File \u001b[0;32m/glade/u/apps/opt/conda/envs/npl/lib/python3.8/site-packages/xarray/core/dataset.py:1319\u001b[0m, in \u001b[0;36mDataset._construct_dataarray\u001b[0;34m(self, name)\u001b[0m\n\u001b[1;32m   1317\u001b[0m     variable \u001b[38;5;241m=\u001b[39m \u001b[38;5;28mself\u001b[39m\u001b[38;5;241m.\u001b[39m_variables[name]\n\u001b[1;32m   1318\u001b[0m \u001b[38;5;28;01mexcept\u001b[39;00m \u001b[38;5;167;01mKeyError\u001b[39;00m:\n\u001b[0;32m-> 1319\u001b[0m     _, name, variable \u001b[38;5;241m=\u001b[39m \u001b[43m_get_virtual_variable\u001b[49m\u001b[43m(\u001b[49m\u001b[38;5;28;43mself\u001b[39;49m\u001b[38;5;241;43m.\u001b[39;49m\u001b[43m_variables\u001b[49m\u001b[43m,\u001b[49m\u001b[43m \u001b[49m\u001b[43mname\u001b[49m\u001b[43m,\u001b[49m\u001b[43m \u001b[49m\u001b[38;5;28;43mself\u001b[39;49m\u001b[38;5;241;43m.\u001b[39;49m\u001b[43mdims\u001b[49m\u001b[43m)\u001b[49m\n\u001b[1;32m   1321\u001b[0m needed_dims \u001b[38;5;241m=\u001b[39m \u001b[38;5;28mset\u001b[39m(variable\u001b[38;5;241m.\u001b[39mdims)\n\u001b[1;32m   1323\u001b[0m coords: \u001b[38;5;28mdict\u001b[39m[Hashable, Variable] \u001b[38;5;241m=\u001b[39m {}\n",
      "File \u001b[0;32m/glade/u/apps/opt/conda/envs/npl/lib/python3.8/site-packages/xarray/core/dataset.py:175\u001b[0m, in \u001b[0;36m_get_virtual_variable\u001b[0;34m(variables, key, dim_sizes)\u001b[0m\n\u001b[1;32m    173\u001b[0m split_key \u001b[38;5;241m=\u001b[39m key\u001b[38;5;241m.\u001b[39msplit(\u001b[38;5;124m\"\u001b[39m\u001b[38;5;124m.\u001b[39m\u001b[38;5;124m\"\u001b[39m, \u001b[38;5;241m1\u001b[39m)\n\u001b[1;32m    174\u001b[0m \u001b[38;5;28;01mif\u001b[39;00m \u001b[38;5;28mlen\u001b[39m(split_key) \u001b[38;5;241m!=\u001b[39m \u001b[38;5;241m2\u001b[39m:\n\u001b[0;32m--> 175\u001b[0m     \u001b[38;5;28;01mraise\u001b[39;00m \u001b[38;5;167;01mKeyError\u001b[39;00m(key)\n\u001b[1;32m    177\u001b[0m ref_name, var_name \u001b[38;5;241m=\u001b[39m split_key\n\u001b[1;32m    178\u001b[0m ref_var \u001b[38;5;241m=\u001b[39m variables[ref_name]\n",
      "\u001b[0;31mKeyError\u001b[0m: 'area'"
     ]
    }
   ],
   "source": [
    "#\n",
    "# Global average\n",
    "#\n",
    "data_global_average = data_avg.weighted(ds['area']).mean()\n",
    "print(f\"The area-weighted average of the time-mean data is: {data_global_average.item()}\")"
   ]
  },
  {
   "cell_type": "code",
   "execution_count": 13,
   "metadata": {},
   "outputs": [
    {
     "name": "stdout",
     "output_type": "stream",
     "text": [
      "The number of grid columns inside the specified region is 4544\n"
     ]
    },
    {
     "ename": "KeyError",
     "evalue": "'area'",
     "output_type": "error",
     "traceback": [
      "\u001b[0;31m---------------------------------------------------------------------------\u001b[0m",
      "\u001b[0;31mKeyError\u001b[0m                                  Traceback (most recent call last)",
      "File \u001b[0;32m/glade/u/apps/opt/conda/envs/npl/lib/python3.8/site-packages/xarray/core/dataset.py:1317\u001b[0m, in \u001b[0;36mDataset._construct_dataarray\u001b[0;34m(self, name)\u001b[0m\n\u001b[1;32m   1316\u001b[0m \u001b[38;5;28;01mtry\u001b[39;00m:\n\u001b[0;32m-> 1317\u001b[0m     variable \u001b[38;5;241m=\u001b[39m \u001b[38;5;28;43mself\u001b[39;49m\u001b[38;5;241;43m.\u001b[39;49m\u001b[43m_variables\u001b[49m\u001b[43m[\u001b[49m\u001b[43mname\u001b[49m\u001b[43m]\u001b[49m\n\u001b[1;32m   1318\u001b[0m \u001b[38;5;28;01mexcept\u001b[39;00m \u001b[38;5;167;01mKeyError\u001b[39;00m:\n",
      "\u001b[0;31mKeyError\u001b[0m: 'area'",
      "\nDuring handling of the above exception, another exception occurred:\n",
      "\u001b[0;31mKeyError\u001b[0m                                  Traceback (most recent call last)",
      "Input \u001b[0;32mIn [13]\u001b[0m, in \u001b[0;36m<cell line: 15>\u001b[0;34m()\u001b[0m\n\u001b[1;32m     12\u001b[0m \u001b[38;5;28mprint\u001b[39m(\u001b[38;5;124mf\u001b[39m\u001b[38;5;124m\"\u001b[39m\u001b[38;5;124mThe number of grid columns inside the specified region is \u001b[39m\u001b[38;5;132;01m{\u001b[39;00mregion_inds\u001b[38;5;241m.\u001b[39mshape[\u001b[38;5;241m0\u001b[39m]\u001b[38;5;132;01m}\u001b[39;00m\u001b[38;5;124m\"\u001b[39m)\n\u001b[1;32m     14\u001b[0m \u001b[38;5;66;03m# get the area associated with each selected column. Note the region_inds array needs to be flattened to use in isel.\u001b[39;00m\n\u001b[0;32m---> 15\u001b[0m region_area \u001b[38;5;241m=\u001b[39m \u001b[43mds\u001b[49m\u001b[43m[\u001b[49m\u001b[38;5;124;43m'\u001b[39;49m\u001b[38;5;124;43marea\u001b[39;49m\u001b[38;5;124;43m'\u001b[39;49m\u001b[43m]\u001b[49m\u001b[38;5;241m.\u001b[39misel(ncol\u001b[38;5;241m=\u001b[39mregion_inds\u001b[38;5;241m.\u001b[39mflatten()) \n\u001b[1;32m     16\u001b[0m \u001b[38;5;66;03m# get the data in the region:\u001b[39;00m\n\u001b[1;32m     17\u001b[0m region_data \u001b[38;5;241m=\u001b[39m data_avg\u001b[38;5;241m.\u001b[39misel(ncol\u001b[38;5;241m=\u001b[39mregion_inds\u001b[38;5;241m.\u001b[39mflatten())\n",
      "File \u001b[0;32m/glade/u/apps/opt/conda/envs/npl/lib/python3.8/site-packages/xarray/core/dataset.py:1410\u001b[0m, in \u001b[0;36mDataset.__getitem__\u001b[0;34m(self, key)\u001b[0m\n\u001b[1;32m   1408\u001b[0m     \u001b[38;5;28;01mreturn\u001b[39;00m \u001b[38;5;28mself\u001b[39m\u001b[38;5;241m.\u001b[39misel(\u001b[38;5;241m*\u001b[39m\u001b[38;5;241m*\u001b[39mkey)\n\u001b[1;32m   1409\u001b[0m \u001b[38;5;28;01mif\u001b[39;00m utils\u001b[38;5;241m.\u001b[39mhashable(key):\n\u001b[0;32m-> 1410\u001b[0m     \u001b[38;5;28;01mreturn\u001b[39;00m \u001b[38;5;28;43mself\u001b[39;49m\u001b[38;5;241;43m.\u001b[39;49m\u001b[43m_construct_dataarray\u001b[49m\u001b[43m(\u001b[49m\u001b[43mkey\u001b[49m\u001b[43m)\u001b[49m\n\u001b[1;32m   1411\u001b[0m \u001b[38;5;28;01mif\u001b[39;00m utils\u001b[38;5;241m.\u001b[39miterable_of_hashable(key):\n\u001b[1;32m   1412\u001b[0m     \u001b[38;5;28;01mreturn\u001b[39;00m \u001b[38;5;28mself\u001b[39m\u001b[38;5;241m.\u001b[39m_copy_listed(key)\n",
      "File \u001b[0;32m/glade/u/apps/opt/conda/envs/npl/lib/python3.8/site-packages/xarray/core/dataset.py:1319\u001b[0m, in \u001b[0;36mDataset._construct_dataarray\u001b[0;34m(self, name)\u001b[0m\n\u001b[1;32m   1317\u001b[0m     variable \u001b[38;5;241m=\u001b[39m \u001b[38;5;28mself\u001b[39m\u001b[38;5;241m.\u001b[39m_variables[name]\n\u001b[1;32m   1318\u001b[0m \u001b[38;5;28;01mexcept\u001b[39;00m \u001b[38;5;167;01mKeyError\u001b[39;00m:\n\u001b[0;32m-> 1319\u001b[0m     _, name, variable \u001b[38;5;241m=\u001b[39m \u001b[43m_get_virtual_variable\u001b[49m\u001b[43m(\u001b[49m\u001b[38;5;28;43mself\u001b[39;49m\u001b[38;5;241;43m.\u001b[39;49m\u001b[43m_variables\u001b[49m\u001b[43m,\u001b[49m\u001b[43m \u001b[49m\u001b[43mname\u001b[49m\u001b[43m,\u001b[49m\u001b[43m \u001b[49m\u001b[38;5;28;43mself\u001b[39;49m\u001b[38;5;241;43m.\u001b[39;49m\u001b[43mdims\u001b[49m\u001b[43m)\u001b[49m\n\u001b[1;32m   1321\u001b[0m needed_dims \u001b[38;5;241m=\u001b[39m \u001b[38;5;28mset\u001b[39m(variable\u001b[38;5;241m.\u001b[39mdims)\n\u001b[1;32m   1323\u001b[0m coords: \u001b[38;5;28mdict\u001b[39m[Hashable, Variable] \u001b[38;5;241m=\u001b[39m {}\n",
      "File \u001b[0;32m/glade/u/apps/opt/conda/envs/npl/lib/python3.8/site-packages/xarray/core/dataset.py:175\u001b[0m, in \u001b[0;36m_get_virtual_variable\u001b[0;34m(variables, key, dim_sizes)\u001b[0m\n\u001b[1;32m    173\u001b[0m split_key \u001b[38;5;241m=\u001b[39m key\u001b[38;5;241m.\u001b[39msplit(\u001b[38;5;124m\"\u001b[39m\u001b[38;5;124m.\u001b[39m\u001b[38;5;124m\"\u001b[39m, \u001b[38;5;241m1\u001b[39m)\n\u001b[1;32m    174\u001b[0m \u001b[38;5;28;01mif\u001b[39;00m \u001b[38;5;28mlen\u001b[39m(split_key) \u001b[38;5;241m!=\u001b[39m \u001b[38;5;241m2\u001b[39m:\n\u001b[0;32m--> 175\u001b[0m     \u001b[38;5;28;01mraise\u001b[39;00m \u001b[38;5;167;01mKeyError\u001b[39;00m(key)\n\u001b[1;32m    177\u001b[0m ref_name, var_name \u001b[38;5;241m=\u001b[39m split_key\n\u001b[1;32m    178\u001b[0m ref_var \u001b[38;5;241m=\u001b[39m variables[ref_name]\n",
      "\u001b[0;31mKeyError\u001b[0m: 'area'"
     ]
    }
   ],
   "source": [
    "#\n",
    "# Regional average using a (logical) rectangle\n",
    "#\n",
    "west_lon = 110.0\n",
    "east_lon = 200.0\n",
    "south_lat = -30.0\n",
    "north_lat = 30.0\n",
    "\n",
    "# To reduce to the region, we need to know which indices of ncol dimension are inside the boundary\n",
    "\n",
    "region_inds = np.argwhere(((lat > south_lat)&(lat < north_lat)&(lon>west_lon)&(lon<east_lon)).values)\n",
    "print(f\"The number of grid columns inside the specified region is {region_inds.shape[0]}\")\n",
    "\n",
    "# get the area associated with each selected column. Note the region_inds array needs to be flattened to use in isel.\n",
    "region_area = ds['area'].isel(ncol=region_inds.flatten()) \n",
    "# get the data in the region:\n",
    "region_data = data_avg.isel(ncol=region_inds.flatten())\n",
    "\n",
    "data_region_average = region_data.weighted(region_area).mean()\n",
    "print(f\"The area-weighted average in thee region [{west_lon}E-{east_lon}E, {south_lat}-{north_lat}] is: {data_region_average.item()}\")"
   ]
  },
  {
   "cell_type": "code",
   "execution_count": 14,
   "metadata": {},
   "outputs": [
    {
     "ename": "ValueError",
     "evalue": "x and y arrays must have the same length",
     "output_type": "error",
     "traceback": [
      "\u001b[0;31m---------------------------------------------------------------------------\u001b[0m",
      "\u001b[0;31mValueError\u001b[0m                                Traceback (most recent call last)",
      "Input \u001b[0;32mIn [14]\u001b[0m, in \u001b[0;36m<cell line: 3>\u001b[0;34m()\u001b[0m\n\u001b[1;32m      1\u001b[0m \u001b[38;5;66;03m# plot the map of the time average \u001b[39;00m\n\u001b[1;32m      2\u001b[0m \u001b[38;5;66;03m# using the function defined above.\u001b[39;00m\n\u001b[0;32m----> 3\u001b[0m fig1, ax1 \u001b[38;5;241m=\u001b[39m \u001b[43mmake_map\u001b[49m\u001b[43m(\u001b[49m\u001b[43mdata_avg\u001b[49m\u001b[43m,\u001b[49m\u001b[43m \u001b[49m\u001b[43mlon\u001b[49m\u001b[43m,\u001b[49m\u001b[43m \u001b[49m\u001b[43mlat\u001b[49m\u001b[43m,\u001b[49m\u001b[43m)\u001b[49m\n",
      "Input \u001b[0;32mIn [3]\u001b[0m, in \u001b[0;36mmake_map\u001b[0;34m(data, lon, lat)\u001b[0m\n\u001b[1;32m     14\u001b[0m ax\u001b[38;5;241m.\u001b[39mcoastlines(linewidth\u001b[38;5;241m=\u001b[39m\u001b[38;5;241m0.2\u001b[39m)\n\u001b[1;32m     15\u001b[0m \u001b[38;5;66;03m# this figures out the transformation between (lon,lat) and the specified projection\u001b[39;00m\n\u001b[0;32m---> 16\u001b[0m tcoords \u001b[38;5;241m=\u001b[39m \u001b[43mplotproj\u001b[49m\u001b[38;5;241;43m.\u001b[39;49m\u001b[43mtransform_points\u001b[49m\u001b[43m(\u001b[49m\u001b[43mdataproj\u001b[49m\u001b[43m,\u001b[49m\u001b[43m \u001b[49m\u001b[43mlon\u001b[49m\u001b[38;5;241;43m.\u001b[39;49m\u001b[43mvalues\u001b[49m\u001b[43m,\u001b[49m\u001b[43m \u001b[49m\u001b[43mlat\u001b[49m\u001b[38;5;241;43m.\u001b[39;49m\u001b[43mvalues\u001b[49m\u001b[43m)\u001b[49m \u001b[38;5;66;03m# working with the projection\u001b[39;00m\n\u001b[1;32m     17\u001b[0m xi\u001b[38;5;241m=\u001b[39mtcoords[:,\u001b[38;5;241m0\u001b[39m] \u001b[38;5;241m!=\u001b[39m np\u001b[38;5;241m.\u001b[39minf  \u001b[38;5;66;03m# there can be bad points set to infinity, but we'll ignore them\u001b[39;00m\n\u001b[1;32m     18\u001b[0m \u001b[38;5;66;03m# print(f\"{xi.shape = } --- Number of False: {np.count_nonzero(~xi)}\")\u001b[39;00m\n",
      "File \u001b[0;32m/glade/u/apps/opt/conda/envs/npl/lib/python3.8/site-packages/cartopy/crs.py:383\u001b[0m, in \u001b[0;36mCRS.transform_points\u001b[0;34m(self, src_crs, x, y, z, trap)\u001b[0m\n\u001b[1;32m    380\u001b[0m         x, y \u001b[38;5;241m=\u001b[39m x\u001b[38;5;241m.\u001b[39mflatten(), y\u001b[38;5;241m.\u001b[39mflatten()\n\u001b[1;32m    382\u001b[0m     \u001b[38;5;28;01mif\u001b[39;00m x\u001b[38;5;241m.\u001b[39mshape[\u001b[38;5;241m0\u001b[39m] \u001b[38;5;241m!=\u001b[39m y\u001b[38;5;241m.\u001b[39mshape[\u001b[38;5;241m0\u001b[39m]:\n\u001b[0;32m--> 383\u001b[0m         \u001b[38;5;28;01mraise\u001b[39;00m \u001b[38;5;167;01mValueError\u001b[39;00m(\u001b[38;5;124m'\u001b[39m\u001b[38;5;124mx and y arrays must have the same length\u001b[39m\u001b[38;5;124m'\u001b[39m)\n\u001b[1;32m    384\u001b[0m \u001b[38;5;28;01melse\u001b[39;00m:\n\u001b[1;32m    385\u001b[0m     \u001b[38;5;28;01mif\u001b[39;00m x\u001b[38;5;241m.\u001b[39mndim \u001b[38;5;241m>\u001b[39m \u001b[38;5;241m2\u001b[39m \u001b[38;5;129;01mor\u001b[39;00m y\u001b[38;5;241m.\u001b[39mndim \u001b[38;5;241m>\u001b[39m \u001b[38;5;241m2\u001b[39m \u001b[38;5;129;01mor\u001b[39;00m z\u001b[38;5;241m.\u001b[39mndim \u001b[38;5;241m>\u001b[39m \u001b[38;5;241m2\u001b[39m:\n",
      "\u001b[0;31mValueError\u001b[0m: x and y arrays must have the same length"
     ]
    },
    {
     "data": {
      "image/png": "[encoded data removed]",
      "text/plain": [
       "<Figure size 432x216 with 1 Axes>"
      ]
     },
     "metadata": {
      "needs_background": "light"
     },
     "output_type": "display_data"
    }
   ],
   "source": [
    "# plot the map of the time average \n",
    "# using the function defined above.\n",
    "fig1, ax1 = make_map(data_avg, lon, lat,)"
   ]
  },
  {
   "cell_type": "code",
   "execution_count": null,
   "metadata": {},
   "outputs": [],
   "source": []
  },
  {
   "cell_type": "code",
   "execution_count": null,
   "metadata": {},
   "outputs": [],
   "source": []
  }
 ],
 "metadata": {
  "kernelspec": {
   "display_name": "NPL (conda)",
   "language": "python",
   "name": "npl-conda"
  },
  "language_info": {
   "codemirror_mode": {
    "name": "ipython",
    "version": 3
   },
   "file_extension": ".py",
   "mimetype": "text/x-python",
   "name": "python",
   "nbconvert_exporter": "python",
   "pygments_lexer": "ipython3",
   "version": "3.8.13"
  }
 },
 "nbformat": 4,
 "nbformat_minor": 4
}
