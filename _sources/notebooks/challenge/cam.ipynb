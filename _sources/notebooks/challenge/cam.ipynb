{
 "cells": [
  {
   "cell_type": "markdown",
   "id": "f406f992-92bd-4b17-9bd3-b99c5c8abaf3",
   "metadata": {},
   "source": [
    "# CAM"
   ]
  },
  {
   "cell_type": "markdown",
   "id": "b6f4905b-cd2a-454e-89cf-ccc585c90247",
   "metadata": {
    "tags": []
   },
   "source": [
    "## Learning Goals\n",
    "\n",
    "- Student will learn what a F compset is, the types of forcing available to run one, and how to run one.\n",
    "- Student will learn how to modify datasets using nco operators."
   ]
  },
  {
   "cell_type": "markdown",
   "id": "e73ce5d6-d2b1-4f32-b64f-337a1b02e2d0",
   "metadata": {},
   "source": [
    "## What is a F compset ?\n",
    "\n",
    "The CESM2 components can be combined in numerous ways to carry out various scientific or software experiments. A particular mix of components, along with component-specific configuration and/or namelist settings is called a component set or ``compset``. \n",
    "\n",
    "In the previous chapter, we have run experiments with the ``B`` compset. In this chapter we will run the experiments with the ``F`` compset. \n",
    "The ``F`` compsets use prescribed ocean (observed sea-surface temperature data) and prescribed sea-ice (observed sea-ice thickness and area)\n",
    "\n",
    "- ``F2000climo`` uses climatological forcings from around year 2000\n",
    "- ``F2010climo`` uses climatological forcings from around year 2010\n",
    "- ``FHIST`` use time varying forcing\n",
    "\n",
    "![B compsets versus F compsets](../../images/challenge/Fcompset.png)\n",
    "\n",
    "*<p style=\"text-align: center;\"> Figure: Differences between a F and a B compset. </p>*"
   ]
  },
  {
   "cell_type": "markdown",
   "id": "815e0869-0518-4cf9-9417-cd9b08965ca1",
   "metadata": {},
   "source": [
    "## Challenge Exercises for CAM Overview\n",
    "Start running a control case with the compset ``F2000climo``\n",
    "\n",
    "Then choose one or more exercises to try:\n",
    "- Use historical SSTs/forcings instead of fixed (compset change)\n",
    "- Try running starting 1850 with spun-up pre-industrial model\n",
    "- Increase orographic height over the western US (dataset change)\n",
    "- Modify sea surface temperature in the tropics \n",
    "- Increase the triggering threshold for deep convection over land (code change--simple)\n",
    "- Add a (fake) physics parameterization (code change--advanced)\n",
    "Compare your test exercise(s) to your control\n"
   ]
  },
  {
   "cell_type": "markdown",
   "id": "f01e969b-ab1a-466a-9cf0-5da2a137c35f",
   "metadata": {},
   "source": [
    "_______________\n",
    "\n",
    "\n",
    "\n",
    "### Finding more information about compsets\n",
    "\n",
    "If you want to run a different configuration from what you’ve learned here, it is important to learn how to find and/or modify a compset.\n",
    "\n",
    "Task: Using the tools above and/or web searches below, find a CESM compset with an active atmosphere version cam6.0, that uses historical forcing data including sea surface temperatures. If you find several candidates, look at the components option and/or webpage to decide. Is it scientifically validated? For what resolutions?\n",
    "\n",
    "Tools in /glade/p/cesm/tutorial/cesm2.1_tutorial2022/cime/scripts directory :\n",
    "query_config --compsets\n",
    "\n",
    "Gives a list of all the compsets available, and what components are included. This can show exactly what you ran before, and what is possible. To narrow down your choices:\n",
    "  query_config --compsets | grep -i hist\n",
    "If you want to build your own, you can see all your options, perhaps modify one of the above with changes\u000b",
    "query_config --components\n",
    "\n",
    "More explanation (and some more options) can be found in the docs\u000b",
    "https://www.cesm.ucar.edu/models/cesm2/config/compsets.html\n",
    "https://ncar.github.io/CAM/doc/build/html/users_guide/atmospheric-configurations.html\n"
   ]
  },
  {
   "cell_type": "code",
   "execution_count": null,
   "id": "e961b1bd-a1c8-4e54-bafc-46dcf78454f1",
   "metadata": {},
   "outputs": [],
   "source": []
  }
 ],
 "metadata": {
  "kernelspec": {
   "display_name": "Python 3 (ipykernel)",
   "language": "python",
   "name": "python3"
  },
  "language_info": {
   "codemirror_mode": {
    "name": "ipython",
    "version": 3
   },
   "file_extension": ".py",
   "mimetype": "text/x-python",
   "name": "python",
   "nbconvert_exporter": "python",
   "pygments_lexer": "ipython3",
   "version": "3.9.12"
  }
 },
 "nbformat": 4,
 "nbformat_minor": 5
}
