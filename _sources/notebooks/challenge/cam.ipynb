{
 "cells": [
  {
   "cell_type": "markdown",
   "id": "f406f992-92bd-4b17-9bd3-b99c5c8abaf3",
   "metadata": {},
   "source": [
    "# Challenge Exercises for CAM"
   ]
  },
  {
   "cell_type": "code",
   "execution_count": null,
   "id": "3e02a8c3-88e4-4064-b7bd-71a5d0cf55b0",
   "metadata": {},
   "outputs": [],
   "source": []
  },
  {
   "cell_type": "code",
   "execution_count": null,
   "id": "80713a34-1fa9-4fbd-8a70-c2739b03cf77",
   "metadata": {},
   "outputs": [],
   "source": []
  },
  {
   "cell_type": "markdown",
   "id": "e73ce5d6-d2b1-4f32-b64f-337a1b02e2d0",
   "metadata": {},
   "source": [
    "In this chapter we will run the experiments with the ``F`` compsets. \n",
    "The ``F`` compsets use prescribed ocean (observed sea-surface temperature data) and prescribed sea-ice (observed sea-ice thickness and area)\n",
    "\n",
    "- ``F2000climo`` uses climatological forcings from around year 2000\n",
    "- ``F2010climo`` uses climatological forcings from around year 2010\n",
    "- ``FHIST`` use time varying forcing\n",
    "\n",
    "Start running a control case with the compset ``F2000climo``\n",
    "\n",
    "Then choose one or more exercises to try:\n",
    "- Use historical SSTs/forcings instead of fixed (compset change)\n",
    "- Try running starting 1850 with spun-up pre-industrial model\n",
    "Increase orographic height over the western US (dataset change)\n",
    "- Modify sea surface temperature in the tropics \n",
    "Increase the triggering threshold for deep convection over land (code change--simple)\n",
    "Add a (fake) physics parameterization (code change--advanced)\n",
    "Compare your test exercise to your control\n"
   ]
  }
 ],
 "metadata": {
  "kernelspec": {
   "display_name": "Python 3 (ipykernel)",
   "language": "python",
   "name": "python3"
  },
  "language_info": {
   "codemirror_mode": {
    "name": "ipython",
    "version": 3
   },
   "file_extension": ".py",
   "mimetype": "text/x-python",
   "name": "python",
   "nbconvert_exporter": "python",
   "pygments_lexer": "ipython3",
   "version": "3.9.12"
  }
 },
 "nbformat": 4,
 "nbformat_minor": 5
}
