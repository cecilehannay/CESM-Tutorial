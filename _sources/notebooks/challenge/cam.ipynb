{
 "cells": [
  {
   "cell_type": "markdown",
   "id": "f406f992-92bd-4b17-9bd3-b99c5c8abaf3",
   "metadata": {},
   "source": [
    "# Challenge Exercises for CAM"
   ]
  },
  {
   "cell_type": "markdown",
   "id": "e73ce5d6-d2b1-4f32-b64f-337a1b02e2d0",
   "metadata": {},
   "source": [
    "In this chapter we will run the experiments with the **``F`` compsets**. \n",
    "The ``F`` compsets use prescribed ocean (observed sea-surface temperature data) and prescribed sea-ice (observed sea-ice thickness and area)\n",
    "\n",
    "- ``F2000climo`` uses climatological forcings from around year 2000\n",
    "- ``F2010climo`` uses climatological forcings from around year 2010\n",
    "- ``FHIST`` use time varying forcing\n"
   ]
  },
  {
   "cell_type": "markdown",
   "id": "815e0869-0518-4cf9-9417-cd9b08965ca1",
   "metadata": {},
   "source": [
    "### Choose your exercises\n",
    "Start running a control case with the compset ``F2000climo``\n",
    "\n",
    "Then choose one or more exercises to try:\n",
    "- Use historical SSTs/forcings instead of fixed (compset change)\n",
    "- Try running starting 1850 with spun-up pre-industrial model\n",
    "- Increase orographic height over the western US (dataset change)\n",
    "- Modify sea surface temperature in the tropics \n",
    "- Increase the triggering threshold for deep convection over land (code change--simple)\n",
    "- Add a (fake) physics parameterization (code change--advanced)\n",
    "Compare your test exercise(s) to your control\n"
   ]
  },
  {
   "cell_type": "code",
   "execution_count": null,
   "id": "25431a8a-0ff8-4a5e-abbf-4a395aeb7077",
   "metadata": {},
   "outputs": [],
   "source": []
  }
 ],
 "metadata": {
  "kernelspec": {
   "display_name": "Python 3 (ipykernel)",
   "language": "python",
   "name": "python3"
  },
  "language_info": {
   "codemirror_mode": {
    "name": "ipython",
    "version": 3
   },
   "file_extension": ".py",
   "mimetype": "text/x-python",
   "name": "python",
   "nbconvert_exporter": "python",
   "pygments_lexer": "ipython3",
   "version": "3.9.12"
  }
 },
 "nbformat": 4,
 "nbformat_minor": 5
}
