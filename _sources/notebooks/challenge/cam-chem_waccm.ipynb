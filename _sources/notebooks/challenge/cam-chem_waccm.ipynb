{
 "cells": [
  {
   "cell_type": "markdown",
   "id": "comprehensive-digit",
   "metadata": {},
   "source": [
    "# CAM-chem/WACCM"
   ]
  },
  {
   "cell_type": "markdown",
   "id": "balanced-renaissance",
   "metadata": {
    "tags": []
   },
   "source": [
    "## Learning Goals\n",
    "\n",
    "- Student will learn what different chemistry / WACCM compset exist and how to run one.\n",
    "- Student will learn how to modify chemistry and change output settings.\n",
    "- Student will learn how to change emissions.\n"
   ]
  },
  {
   "cell_type": "markdown",
   "id": "portable-patio",
   "metadata": {},
   "source": [
    "## CAMchem and WACCM component sets\n",
    "\n",
    "The CESM2 components can be combined in numerous ways to carry out various scientific or software experiments. A particular mix of components, along with component-specific configuration and/or namelist settings, is called a component set or ``compset``. \n",
    "\n",
    "WACCM and CAMchem are atmospheric components of CESM, like CAM. They can be run as ``F`` and ``B`` compsets, as well as with nudged meteorology. They can run using various dycores and resolutions.\n",
    "In contrast to CAM, WACCM and CAMchem run with different complexity of chemistry, whereby CAM uses simplified chemistry. CAM and CAMchem use the same vertical resolution and model top.\n",
    "Different chemical mechanisms for CAMchem with more or less complexity have been developed based on the MOZART-TS1 and TS2 (currently most comprehensive) chemical mechanism.\n",
    "WACCM has a top at about 150km and therefore covers the Troposphere, Stratosphere, Mesosphere and Lower-Thermosphere. The most comprehensive WACCM mechanism is therefore called TSMLT chemical mechanism.\n",
    "WACCM can also run with Middle Atmosphere (MA) chemistry (e.g., FWmaHIST, which includes very simplified chemistry in the troposphere, and with Specified Chemistry (e.g., FWscHIST), similar to the CAM chemistry.\n"
    ]
  },
  {
   "cell_type": "markdown",
   "id": "e73ce5d6-d2b1-4f32-b64f-337a1b02e2d0",
   "metadata": {},
   "source": [
   "## CAMchem and WACCM tested F component sets\n",
   "\n",
   "In CESM2.2 only CAMchem F compsets have been tested and no PI-control or transient history simulation has been validated. In contrast, WACCM has been used for CMIP6 simulations.\n",
   "Two different nudging approaches exist using CAMchem and WACCM, both using MERRA2 or GEOS5 meteorological analysis fields. The ``nudged`` approach is the recommended approach that uses meteorological fields (U, V, T) on CESM model levels.\n",
   "The older specified dynamics (SD) approach requires the model to run on the vertical MERRA2 grids.\n",
   "\n",
    "![CAMChem tested F compsets](../../images/challenge/CAMchem_compsets)\n",
    "\n",
    "*<p style=\"text-align: center;\"> Figure: CAMChem tested F compsets. </p>*",
   "\n",
    "![WACCM scientifically supported F compsets](../../images/challenge/WACCM_compsets1)\n",
    "\n",
    "*<p style=\"text-align: center;\"> Figure: WACCM scientifically supported F compsets. </p>*",
    "\n",
    "![WACCM tested F compsets](../../images/challenge/WACCM_compsets2)\n",
    "\n",
    "*<p style=\"text-align: center;\"> Figure: WACCM tested F compsets. </p>*"
   ]
  },
  {
   "cell_type": "markdown",
   "id": "charitable-station",
   "metadata": {},
   "source": [
    "## Challenge Exercises for CAMchem/WACCM Overview\n",
    "Start running one control case and choose between two options:\n",
    "\n",
    "a) Run a CAMchem compset with TS1 chemistry, nudged meteorology and 0.9x1.25 degrees horizontal resolution\n",
    "b) Run a WACCM with TSMLT chemistry, fixed SSTs year 2000 emissions and lower boundary conditions and 0.9x1.25 degrees horizontal resolution\n"
   ]
  },
  {
   "cell_type": "markdown",
   "id": "detected-clothing",
   "metadata": {},
   "source": [
    "_______________\n",
    "\n",
    "\n",
    "\n",
    "### Finding more information about compsets\n",
    "\n",
    "If you want to run a different configuration from what you’ve learned here, it is important to learn how to find and/or modify a compset.\n",
    "\n",
    "Task: Using the tools above and/or web searches below, find a CESM compset with an active atmosphere version cam6.0, that uses historical forcing data including sea surface temperatures. If you find several candidates, look at the components option and/or webpage to decide. Is it scientifically validated? For what resolutions?\n",
    "\n",
    "Tools in /glade/p/cesm/tutorial/cesm2.1_tutorial2022/cime/scripts directory :\n",
    "query_config --compsets\n",
    "\n",
    "Gives a list of all the compsets available, and what components are included. This can show exactly what you ran before, and what is possible. To narrow down your choices:\n",
    "  query_config --compsets | grep -i hist\n",
    "If you want to build your own, you can see all your options, perhaps modify one of the above with changes\u000b",
    "query_config --components\n",
    "\n",
    "More explanation (and some more options) can be found in the docs\u000b",
    "https://www.cesm.ucar.edu/models/cesm2/config/compsets.html\n",
    "https://ncar.github.io/CAM/doc/build/html/users_guide/atmospheric-configurations.html\n"
   ]
  },
  {
   "cell_type": "code",
   "execution_count": null,
   "id": "better-proceeding",
   "metadata": {},
   "outputs": [],
   "source": []
  }
 ],
 "metadata": {
  "kernelspec": {
   "display_name": "Python 3",
   "language": "python",
   "name": "python3"
  },
  "language_info": {
   "codemirror_mode": {
    "name": "ipython",
    "version": 3
   },
   "file_extension": ".py",
   "mimetype": "text/x-python",
   "name": "python",
   "nbconvert_exporter": "python",
   "pygments_lexer": "ipython3",
   "version": "3.9.1"
  }
 },
 "nbformat": 4,
 "nbformat_minor": 5
}
