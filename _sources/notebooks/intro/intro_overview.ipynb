{
 "cells": [
  {
   "cell_type": "markdown",
   "id": "0959db1d-1790-4519-a34e-7026444af537",
   "metadata": {},
   "source": [
    "# Introduction"
   ]
  },
  {
   "cell_type": "markdown",
   "id": "f0015117-d84f-471e-9bc5-ba87dc050baf",
   "metadata": {},
   "source": [
    "Welcome to the world of the **Community Earth System Model (CESM)**. This introduction will discuss the structure of the CESM model, provide information about how to become more involved in the CESM community, and how to get help if required.\n"
   ]
  },
  {
   "cell_type": "code",
   "execution_count": null,
   "id": "a075fc83-3744-4ef2-84f7-a6c3c8f2543a",
   "metadata": {},
   "outputs": [],
   "source": []
  }
 ],
 "metadata": {
  "kernelspec": {
   "display_name": "Python 3 (ipykernel)",
   "language": "python",
   "name": "python3"
  },
  "language_info": {
   "codemirror_mode": {
    "name": "ipython",
    "version": 3
   },
   "file_extension": ".py",
   "mimetype": "text/x-python",
   "name": "python",
   "nbconvert_exporter": "python",
   "pygments_lexer": "ipython3",
   "version": "3.9.12"
  }
 },
 "nbformat": 4,
 "nbformat_minor": 5
}
