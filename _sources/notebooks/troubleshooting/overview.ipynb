{
 "cells": [
  {
   "cell_type": "markdown",
   "id": "f406f992-92bd-4b17-9bd3-b99c5c8abaf3",
   "metadata": {},
   "source": [
    "# Troubleshooting runtime errors\n",
    "\n",
    "There are several places to look for information if a job fails. Start with the STDOUT and STDERR file(s) in $CASEROOT. If you don’t find an obvious error message there, the $RUNDIR/$model.log.$datestamp files will probably give you a hint.\n",
    "\n",
    "First, check cpl.log.$datestamp, which will often tell you when the model failed. Then check the rest of the component log files. See troubleshooting run-time problems for more information.There are several places to look for information if a job fails. Start with the STDOUT and STDERR file(s) in $CASEROOT. \n",
    "\n",
    "To see if a run completed successfully, check the last several lines of the cpl.log file for a string like SUCCESSFUL TERMINATION. A successful job also usually copies the log files to the $CASEROOT/logs directory.\n",
    "\n",
    "Check these things first when a job fails:\n",
    "\n",
    "Did the model time out?\n",
    "\n",
    "Was a disk quota limit hit?\n",
    "\n",
    "Did a machine go down?\n",
    "\n",
    "Did a file system become full?\n",
    "\n",
    "If any of those things happened, take appropriate corrective action (see suggestions below) and resubmit the job.\n",
    "\n",
    "If it is not clear that any of the above caused a case to fail, there are several places to look for error messages.\n",
    "\n",
    "<div class=\"alert alert-info\" style=\"text-align: left;\">\n",
    "\n",
    "The **steps** to modify the **namelists** are:\n",
    "\n",
    "In ``$CASEROOT`` \n",
    "- edit the **``user_nl_xxx``** files.\n",
    "- generate the namelists by running **``./preview_namelists``**. \n",
    "  \n",
    "  \n",
    "This results in the creation of component namelists, the ``*_in`` files (i.e. atm_in, lnd_in, and so on) in ``$CASEROOT/CaseDocs/`` and in ``$RUNDIR``.\n",
    "  \n",
    "</div>\n",
    "\n",
    "\n",
    "\n",
    "\n",
    "The ``*_in`` files **should not be edited**. Any manual changes of the ``*_in`` files will be overwritten when you compile or submit the run. \n",
    "\n",
    "Note that step ``./preview_namelists`` is **optional** as the script *preview_namelists* is also called when you build the model. "
   ]
  },
  {
   "cell_type": "markdown",
   "id": "017b45ad-dcff-42b2-8623-06033b8e11d8",
   "metadata": {},
   "source": [
    "![CESM directories and namelists](../../images/troubleshooting/CESM_directories_and_log_files.png)\n",
    "\n",
    "*<p style=\"text-align: center;\"> Figure: Overview of the CESM directories and the log files. </p>*"
   ]
  },
  {
   "cell_type": "markdown",
   "id": "42e1dd6f-c704-4f69-965a-a015d3d0baed",
   "metadata": {},
   "source": [
    "<div class=\"alert alert-info\" style=\"text-align: center;\">\n",
    "\n",
    "Complete documentation about the namelist variables can be found on the [CESM webpage.](https://www2.cesm.ucar.edu/models/cesm2/settings/current/)\n",
    "\n",
    "</div>"
   ]
  },
  {
   "cell_type": "code",
   "execution_count": null,
   "id": "e4faba08-5532-4fc5-91a3-dcb94f11b138",
   "metadata": {},
   "outputs": [],
   "source": []
  }
 ],
 "metadata": {
  "kernelspec": {
   "display_name": "Python 3 (ipykernel)",
   "language": "python",
   "name": "python3"
  },
  "language_info": {
   "codemirror_mode": {
    "name": "ipython",
    "version": 3
   },
   "file_extension": ".py",
   "mimetype": "text/x-python",
   "name": "python",
   "nbconvert_exporter": "python",
   "pygments_lexer": "ipython3",
   "version": "3.9.12"
  }
 },
 "nbformat": 4,
 "nbformat_minor": 5
}
