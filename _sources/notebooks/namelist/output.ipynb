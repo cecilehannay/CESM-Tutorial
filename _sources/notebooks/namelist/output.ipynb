{
 "cells": [
  {
   "cell_type": "markdown",
   "id": "f406f992-92bd-4b17-9bd3-b99c5c8abaf3",
   "metadata": {},
   "source": [
    "# Customizing Output in CESM\n"
   ]
  },
  {
   "cell_type": "markdown",
   "id": "86fdb024-ef50-4966-aa5c-df00f9cad236",
   "metadata": {},
   "source": [
    "Give an overview of the default output "
   ]
  },
  {
   "cell_type": "code",
   "execution_count": null,
   "id": "b019f05c-58af-4c26-8e22-bf1e87dce706",
   "metadata": {},
   "outputs": [],
   "source": []
  }
 ],
 "metadata": {
  "kernelspec": {
   "display_name": "Python 3 (ipykernel)",
   "language": "python",
   "name": "python3"
  },
  "language_info": {
   "codemirror_mode": {
    "name": "ipython",
    "version": 3
   },
   "file_extension": ".py",
   "mimetype": "text/x-python",
   "name": "python",
   "nbconvert_exporter": "python",
   "pygments_lexer": "ipython3",
   "version": "3.9.12"
  }
 },
 "nbformat": 4,
 "nbformat_minor": 5
}
