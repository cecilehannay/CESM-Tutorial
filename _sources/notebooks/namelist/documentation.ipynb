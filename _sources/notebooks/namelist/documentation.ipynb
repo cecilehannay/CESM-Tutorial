{
 "cells": [
  {
   "cell_type": "markdown",
   "id": "f406f992-92bd-4b17-9bd3-b99c5c8abaf3",
   "metadata": {},
   "source": [
    "# Using Documentation about Namelist Variables\n",
    "\n",
    "Complete documentation about the namelist variables can be found on the [CESM webpage.](https://www2.cesm.ucar.edu/models/cesm2/settings/current/)\n",
    "\n",
    "For instance, if you want to change the output frequency in CAM, go to the website and type the word ``frequency`` in the search box as illustrated in *Figure 1*. "
   ]
  },
  {
   "cell_type": "markdown",
   "id": "017b45ad-dcff-42b2-8623-06033b8e11d8",
   "metadata": {},
   "source": [
    "![Search namelist variables](../../images/namelist/namelist_var_search.png)\n",
    "\n",
    "*<p style=\"text-align: center;\"> Figure 1: Search for a namelist variable. </p>*"
   ]
  },
  {
   "cell_type": "markdown",
   "id": "42e1dd6f-c704-4f69-965a-a015d3d0baed",
   "metadata": {},
   "source": [
    "This will illustrate the attribute of the namelist variable ``nhtfrq`` ![Attribute of a namelist variable](../../images/namelist/nhtfrq.png)\n",
    "\n",
    "*<p style=\"text-align: center;\"> Figure 2: Attibute of a namelist variable. </p>*"
   ]
  },
  {
   "cell_type": "code",
   "execution_count": null,
   "id": "9cc6dc0b-3e74-4485-883f-876e3a2cb709",
   "metadata": {},
   "outputs": [],
   "source": []
  }
 ],
 "metadata": {
  "kernelspec": {
   "display_name": "Python 3 (ipykernel)",
   "language": "python",
   "name": "python3"
  },
  "language_info": {
   "codemirror_mode": {
    "name": "ipython",
    "version": 3
   },
   "file_extension": ".py",
   "mimetype": "text/x-python",
   "name": "python",
   "nbconvert_exporter": "python",
   "pygments_lexer": "ipython3",
   "version": "3.9.12"
  }
 },
 "nbformat": 4,
 "nbformat_minor": 5
}
