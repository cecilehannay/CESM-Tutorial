{
 "cells": [
  {
   "cell_type": "markdown",
   "id": "f406f992-92bd-4b17-9bd3-b99c5c8abaf3",
   "metadata": {},
   "source": [
    "# Exercise Overview \n",
    "\n",
    "## Learning Goals\n",
    "\n",
    "- Student will learn how to do namelist changes.\n",
    "\n",
    "\n",
    "## Exercise overview:\n",
    "\n",
    "Do at last one exercise:\n",
    "- Output high frequency data in CAM.\n",
    "- Change a tuning parameter in CAM.\n"
   ]
  }
 ],
 "metadata": {
  "kernelspec": {
   "display_name": "Python 3 (ipykernel)",
   "language": "python",
   "name": "python3"
  },
  "language_info": {
   "codemirror_mode": {
    "name": "ipython",
    "version": 3
   },
   "file_extension": ".py",
   "mimetype": "text/x-python",
   "name": "python",
   "nbconvert_exporter": "python",
   "pygments_lexer": "ipython3",
   "version": "3.9.12"
  }
 },
 "nbformat": 4,
 "nbformat_minor": 5
}
