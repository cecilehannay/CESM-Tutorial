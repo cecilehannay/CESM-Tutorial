{
 "cells": [
  {
   "cell_type": "markdown",
   "id": "f406f992-92bd-4b17-9bd3-b99c5c8abaf3",
   "metadata": {},
   "source": [
    "# Customizing CAM output\n",
    "\n",
    "In this section, we will cover:\n",
    "- how to change the **output frequency**\n",
    "- how to control the **number of time samples** written to a history file\n",
    "- how to output **extra variables**\n",
    "- how to output **extra history files**\n",
    "\n",
    "This can be achieved with 3 namelist variables:\n",
    "- **``nhtfrq``**: sets the output frequency\n",
    "- **``mfilt``**: maximum number of time samples written to a history file\n",
    "- **``fincl``**: add variables to the history file\n",
    "\n",
    "## Customizing CAM output frequency: nhtfrq\n",
    "The default history file from CAM is a monthly average. \n",
    "We can change the output frequency with the namelist variable **``nhtfrq``**\n",
    "- If **``nhtfrq=0``**, the file will be a **monthly** average\n",
    "- If **``nhtfrq>0``**, frequency is input as number of **timesteps**.\n",
    "- If **``nhtfrq<0``**, frequency is input as number of **hours**.\n",
    "\n",
    "For instance to change the history file from monthly average to daily average, we set the namelist variable:\n",
    "\n",
    "``    nhtfrq = -24    ``\n"
   ]
  },
  {
   "cell_type": "raw",
   "id": "b6f093b2-0acb-429f-8781-eeb2bf08d121",
   "metadata": {},
   "source": [
    "   nhtfrq = -24    "
   ]
  },
  {
   "cell_type": "markdown",
   "id": "42e1dd6f-c704-4f69-965a-a015d3d0baed",
   "metadata": {},
   "source": [
    "\n",
    "```\n",
    "     nhtfrq = -24\n",
    "```\n",
    "\n",
    "\n",
    "## Customizing CAM history files: mfilt\n",
    "To control the number of time samples in the history file, we can use the variable **``mfilt``**\n",
    "\n",
    "For instance, to specify that we want 10 time samples on each history file, we set the namelist variable:\n",
    "\n",
    "    ``mfilt = 10``\n",
    "\n",
    "\n",
    "For instance, if we output daily data for a 1 year run:\n",
    "```\n",
    "    nhtfrq = -24   \n",
    "    mfilt = 365\n",
    "```\n",
    "```\n",
    "    nhtfrq = -24\n",
    "    mfilt = 1\n",
    "```\n",
    "NB: we cannot change mfilt for monthly frequency. \u000b",
    "\tFor monthly frequency, we always have: \n",
    "```mfilt = 1``` \n",
    "\n",
    "## Customizing CAM history files: fincl\n",
    "\n",
    "You can output up to 10 history files: “h0”, “h1”, …, “h9”. \u000b",
    "\u000b",
    "\n",
    "The file “h0” contains the default variables (in the code: “call add_default”). \n",
    "\n",
    "For the files “h1” to “h9”, the user has to specify the variables to output. \n",
    "\n",
    "To control the list of fields in the history files\n",
    "we can use the namelist variables \n",
    "\n",
    "For instance, the line:\n",
    "\tfincl1 = 'PRECT' \n",
    "is used to add the field 'PRECT' to the file “h0”\n"
   ]
  },
  {
   "cell_type": "code",
   "execution_count": null,
   "id": "e4faba08-5532-4fc5-91a3-dcb94f11b138",
   "metadata": {},
   "outputs": [],
   "source": []
  }
 ],
 "metadata": {
  "kernelspec": {
   "display_name": "Python 3 (ipykernel)",
   "language": "python",
   "name": "python3"
  },
  "language_info": {
   "codemirror_mode": {
    "name": "ipython",
    "version": 3
   },
   "file_extension": ".py",
   "mimetype": "text/x-python",
   "name": "python",
   "nbconvert_exporter": "python",
   "pygments_lexer": "ipython3",
   "version": "3.9.12"
  }
 },
 "nbformat": 4,
 "nbformat_minor": 5
}
