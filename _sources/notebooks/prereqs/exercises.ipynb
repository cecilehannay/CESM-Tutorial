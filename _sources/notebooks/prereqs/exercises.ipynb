{
 "cells": [
  {
   "cell_type": "markdown",
   "id": "082bb7b7-5657-4601-8615-4dd2058a4625",
   "metadata": {
    "tags": []
   },
   "source": [
    "# Exercise\n",
    "\n",
    "This exercise is to introduce you to the Cheyenne computing system and set up your environment. Specifically, in this exercise we will:\n",
    "\n",
    "- Step 1. Login to the Cheyenne supercomputer.\n",
    "- Step 2. Examine the Cheyenne glade file system.\n",
    "- Step 3. Set up the Cheyenne user environment.\n",
    "\n"
   ]
  },
  {
   "cell_type": "markdown",
   "id": "d9ff1113-8a6d-42b5-8ca7-d3bef493d7fb",
   "metadata": {},
   "source": [
    "## Step 1: Cheyenne Login"
   ]
  },
  {
   "cell_type": "markdown",
   "id": "f4a25131-701e-4d13-aad7-461d1302b84b",
   "metadata": {},
   "source": [
    "From your tutorial terminal window prompt get online. <br>\n",
    "\n",
    "<div class=\"alert alert-info\">\n",
    "<strong>Login to Cheyenne: </strong><br><br>\n",
    "\n",
    "```\n",
    "ssh –XY [$USER]@cheyenne.ucar.edu\n",
    "```\n",
    "\n",
    "</div>\n",
    "\n",
    "Where `$USER` is replaced with your tutorial username. Your Cheyenne login will be used through out the tutorial. If you have difficulty getting this to work please ask for help. If you are in the in person tutorial there will be helpers available. If you are doing this outside of the tutorial then you can contact the user support from the NCAR Computational and Information Systems Laboratory (CISL)."
   ]
  },
  {
   "cell_type": "markdown",
   "id": "74512322-32da-400c-8aea-ff65658233db",
   "metadata": {},
   "source": [
    "<div class=\"alert alert-info\">\n",
    "\n",
    "[CISL User Support](https://ithelp.ucar.edu/plugins/servlet/desk/site/rc)\n",
    "\n",
    "</div>"
   ]
  },
  {
   "cell_type": "markdown",
   "id": "6250a6b0-e65e-43c1-b36d-ebec14345076",
   "metadata": {},
   "source": [
    "## Step 2: Look Around Cheyenne File Systems"
   ]
  },
  {
   "cell_type": "markdown",
   "id": "ff5b81e1-292a-4bc4-8415-57098366cf80",
   "metadata": {},
   "source": [
    "Now that you are on the Cheyenne login nodes you can start to explore the file system. The following simple exercises will start that process.\n",
    "\n",
    "<div class=\"alert alert-info\">\n",
    "<strong>Show your current directory: </strong><br>\n",
    "\n",
    "```\n",
    "pwd\n",
    "```\n",
    "<br>\n",
    "\n",
    "<strong>List all the directories on the glade file system: </strong><br>\n",
    "\n",
    "```\n",
    "ls /glade\n",
    "```\n",
    "<br>\n",
    "    \n",
    "<strong>List the contents of the Input Data directory: </strong><br>\n",
    "\n",
    "```\n",
    "ls /glade/p/cesmdata/cseg/inputdata/\n",
    "```\n",
    "\n",
    "</div>\n",
    "\n",
    "\n"
   ]
  },
  {
   "cell_type": "markdown",
   "id": "2f67911b-2c64-462e-ba4b-863bb0d9337c",
   "metadata": {},
   "source": [
    "## Step 3: Setup Cheyenne Environment"
   ]
  },
  {
   "cell_type": "markdown",
   "id": "5b2eda56-b787-4361-b085-262ff5be6a6a",
   "metadata": {},
   "source": [
    "One Time Setup: Check your default login environment settings <br>\n",
    "NOTE: All new tutorial logins default to bash    \n",
    "\n",
    "<div class=\"alert alert-info\">\n",
    "<strong>Exercise for tcsh users: You should have a .tcshrc file already present in your home directory. If you do not, please copy over the following\n",
    "file:</strong><br><br>\n",
    " \n",
    "```\n",
    "cp /glade/p/cesm/tutorial/tcshrc ~/.tcshrc\n",
    "```\n",
    "<br>\n",
    "<strong> Then, change to your home directory and source the file: </strong><br><br>\n",
    "\n",
    "```\n",
    "cd; source .tcshrc\n",
    "```\n",
    "\n",
    "<br>\n",
    "<strong> If you have an existing .tcshrc file and do not wish to overwrite it, please copy the contents of the /glade/p/cesm/tutorial/tcshrc file\n",
    "to your .tcshrc file. </strong>\n",
    "    \n",
    "</div>\n",
    "\n",
    "<div class=\"alert alert-info\">\n",
    "<strong>Exercise for bash users: You may have a .profile file already present in your home directory. If you do not, please copy over the following\n",
    "file</strong><br><br>\n",
    " \n",
    "```\n",
    "cp /glade/p/cesm/tutorial/profile ~/.profile\n",
    "```\n",
    "\n",
    "<br>\n",
    "<strong> Then, change to your home directory and source the file: </strong><br><br>\n",
    "\n",
    "```\n",
    "cd; source .profile\n",
    "```\n",
    "\n",
    "<br>\n",
    "<strong> If you have an existing .profile file and do not wish to overwrite it, please copy the contents of the /glade/p/cesm/tutorial/profile file\n",
    "to your .profile file. </strong>\n",
    "    \n",
    "</div>\n",
    "\n",
    "Again if you are having trouble with this step please ask for help."
   ]
  },
  {
   "cell_type": "code",
   "execution_count": null,
   "id": "b984f07f-31a1-4653-9af5-ce9bb67faadd",
   "metadata": {},
   "outputs": [],
   "source": []
  }
 ],
 "metadata": {
  "kernelspec": {
   "display_name": "Python 3 (ipykernel)",
   "language": "python",
   "name": "python3"
  },
  "language_info": {
   "codemirror_mode": {
    "name": "ipython",
    "version": 3
   },
   "file_extension": ".py",
   "mimetype": "text/x-python",
   "name": "python",
   "nbconvert_exporter": "python",
   "pygments_lexer": "ipython3",
   "version": "3.9.12"
  }
 },
 "nbformat": 4,
 "nbformat_minor": 5
}
