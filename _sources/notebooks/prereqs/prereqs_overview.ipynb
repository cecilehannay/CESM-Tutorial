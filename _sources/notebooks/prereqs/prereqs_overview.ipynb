{
 "cells": [
  {
   "cell_type": "markdown",
   "id": "f406f992-92bd-4b17-9bd3-b99c5c8abaf3",
   "metadata": {},
   "source": [
    "# Prerequisites for Success\n"
   ]
  },
  {
   "cell_type": "markdown",
   "id": "4651282a-0c4f-449a-bf36-74af04e7281e",
   "metadata": {},
   "source": [
    "The materials and notebooks in this tutorial are published as a Jupyter book here to allow for searchable online documentation, but to run the actual commands presented you will need to use a terminal window. Therefore, in order to successfully complete this tutorial you will:\n",
    "- Utilize a terminal window\n",
    "- Issue commands at the command line using UNIX\n",
    "- Need to be able to access and run on the Cheyenne and Casper HPC assets\n",
    "- Use JupyterHub for some basic diagnostic plotting\n",
    "\n",
    "The links below provide more information about these topics. If you are not familiar any of the four topics above, then we strongly recommend that you read through these sections."
   ]
  },
  {
   "cell_type": "markdown",
   "id": "24e22d53-7b0b-4fb8-82ad-360e75e64ac0",
   "metadata": {},
   "source": [
    "## Terminal windows"
   ]
  },
  {
   "cell_type": "markdown",
   "id": "14f5fe74-cc59-4ccc-af62-e31650e1372c",
   "metadata": {},
   "source": [
    "For most of these tutorial exercises, we assume that you will use the online documentation in tandem with an open terminal window. The commands described in these materials will need to be entered at the command line in your terminal window.\n",
    "\n",
    "If you are unfamiliar with opening terminal windows, we suggest you use the link below to learn more about terminal windows. "
   ]
  },
  {
   "cell_type": "markdown",
   "id": "01790d14-4535-4e0a-a7da-38ac467717de",
   "metadata": {},
   "source": [
    "<div class=\"alert alert-info\" style=\"text-align: center;\">\n",
    "\n",
    "[Terminals](https://ncar.github.io/CESM-Tutorial/notebooks/resources/terminals.html#terminal-windows)\n",
    "    \n",
    "</div>"
   ]
  },
  {
   "cell_type": "markdown",
   "id": "37406e6f-57c2-4493-86a9-52bc2d5eb3f8",
   "metadata": {},
   "source": [
    "## UNIX"
   ]
  },
  {
   "cell_type": "markdown",
   "id": "6572f442-e01a-4809-a90d-c251ff79f8af",
   "metadata": {},
   "source": [
    "The commands described in these materials will be entered in a UNIX environment. If you are unfamiliar with navigating a UNIX environment, we suggest you use the link below to learn more about UNIX. "
   ]
  },
  {
   "cell_type": "markdown",
   "id": "e664eb92-e98d-4c3d-afbe-ea517b71439b",
   "metadata": {},
   "source": [
    "<div class=\"alert alert-info\" style=\"text-align: center;\">\n",
    "\n",
    "[UNIX](https://ncar.github.io/CESM-Tutorial/notebooks/resources/unix.html#unix)\n",
    "    \n",
    "</div>"
   ]
  },
  {
   "cell_type": "markdown",
   "id": "16324ba6-5c27-41c2-8e62-dc2ccc817527",
   "metadata": {},
   "source": [
    "## NCAR HPC"
   ]
  },
  {
   "cell_type": "markdown",
   "id": "28823b60-6956-417c-a48c-3b88668b0968",
   "metadata": {},
   "source": [
    "### X11"
   ]
  },
  {
   "cell_type": "markdown",
   "id": "3b3e13f6-45e2-4dc8-bd2a-b550ddb11270",
   "metadata": {},
   "source": [
    "X11 forwarding is an SSH protocol that enables users to run graphical applications on a remote server and interact with them using their local display and I/O devices. It is frequently used by CESM developers for securely interacting with NCAR HPC remote machines.\n",
    "\n",
    "When you log in to the NCAR HPC machines, we recommend you use X11 forwarding. You can do this by adding a `-X` or sometimes a `-Y` option when logging into the machines with `SSH`. More information about logging into the NCAR HPC follow."
   ]
  },
  {
   "cell_type": "code",
   "execution_count": null,
   "id": "fe635108-4cee-419d-a4f5-bd970fd54ac1",
   "metadata": {},
   "outputs": [],
   "source": [
    "ssh -X username@cheyenne.ucar.edu \n",
    "OR \n",
    "ssh -X username@casper.ucar.edu"
   ]
  },
  {
   "cell_type": "markdown",
   "id": "510846c7-4018-420e-a899-96e1b9e92902",
   "metadata": {},
   "source": [
    "<div class=\"alert alert-info\" style=\"text-align: center;\">\n",
    "\n",
    "[CISL Documentation on Using X11](https://arc.ucar.edu/knowledge_base/72581213#QuickstartonCheyenne-LogginginonanNCARsystem)\n",
    "    \n",
    "</div>"
   ]
  },
  {
   "cell_type": "markdown",
   "id": "e731c34f-4386-4869-bdb7-a6e479f07a63",
   "metadata": {},
   "source": [
    "### Running on Cheyenne"
   ]
  },
  {
   "cell_type": "markdown",
   "id": "202de099-dc2d-47d2-99fb-b6f1b87d654c",
   "metadata": {},
   "source": [
    "This tutorial material has been designed for use with the Cheyenne high-performance computer system. All of your CESM experiment builds and jobs will be run on Cheyenne.\n",
    "\n",
    "Please see the link below for more information about the Cheyenne system, including a quick start guide with information about logging into Cheyenne from a terminal, setting up your environment, submitting jobs, etc. "
   ]
  },
  {
   "cell_type": "markdown",
   "id": "235c1c69-da82-4cff-95bf-02c1bb2db897",
   "metadata": {},
   "source": [
    "<div class=\"alert alert-info\" style=\"text-align: center;\">\n",
    "\n",
    "[CISL Documentation on Using Cheyenne HPC](https://arc.ucar.edu/knowledge_base/70549542)\n",
    "    \n",
    "</div>"
   ]
  },
  {
   "cell_type": "markdown",
   "id": "c7e2b935-85ea-47f1-b8f0-654d54714484",
   "metadata": {},
   "source": [
    "#### Porting"
   ]
  },
  {
   "cell_type": "markdown",
   "id": "a47bc7ae-4bd8-4e55-87e8-27019a689099",
   "metadata": {},
   "source": [
    "While this tutorial assumes you will use NCAR HPC assets, you may want to run CESM on your own machines you will need to port the code. There is information about how to do this in the 'Resources' section."
   ]
  },
  {
   "cell_type": "markdown",
   "id": "8a831d36-6629-4cd6-a247-2a8293aa2561",
   "metadata": {},
   "source": [
    "### Using Casper"
   ]
  },
  {
   "cell_type": "markdown",
   "id": "2f8ad62c-89c5-49c3-9751-219303bce4c7",
   "metadata": {},
   "source": [
    "The Casper cluster is a system of specialized data analysis and visualization resources. Casper is not used for building or running CESM, but it is used for CESM data analysis. We will use Casper only on the diagnostics section of the lab activities. However, to utilize some of the analysis tools described in the \"Resources\" section you will want to use Casper."
   ]
  },
  {
   "cell_type": "markdown",
   "id": "aee2a810-f356-4c55-a19a-c0a32dfd504b",
   "metadata": {},
   "source": [
    "<div class=\"alert alert-info\" style=\"text-align: center;\">\n",
    "\n",
    "[CISL Documentation on Using Casper Cluster](https://arc.ucar.edu/knowledge_base/70549550)\n",
    "    \n",
    "</div>"
   ]
  },
  {
   "cell_type": "markdown",
   "id": "603c963b-4d65-4cd6-94a3-ea5ae932578e",
   "metadata": {},
   "source": [
    "### Using JupyterHub"
   ]
  },
  {
   "cell_type": "markdown",
   "id": "a9423bae-be8c-4848-916c-926f86645da6",
   "metadata": {},
   "source": [
    "The diagnostics secton of this tutorial will use JupyterHub to run Jupyter Notebooks. You will need to log in to the NCAR JupyterHub system to run the notebooks successfully. To run a Jupyter cell, you can just type in the cell, then run it by pressing **shift+return** when in the cell, or alternatively by selecting the cell then clicking the 'play' button up above.\n",
    "\n",
    "To learn more about JupyterHub, please follow the link below."
   ]
  },
  {
   "cell_type": "markdown",
   "id": "6ae8710f-8dd2-4ed6-893f-d2de5b863b94",
   "metadata": {},
   "source": [
    "<div class=\"alert alert-info\" style=\"text-align: center;\">\n",
    "\n",
    "[CISL Documentation about JupyterHub](https://arc.ucar.edu/knowledge_base/70549913)\n",
    "    \n",
    "</div>"
   ]
  },
  {
   "cell_type": "markdown",
   "id": "144caca2-989b-40a5-b6c0-c8a0b7a470da",
   "metadata": {},
   "source": [
    "## Modules on NCAR HPC"
   ]
  },
  {
   "cell_type": "markdown",
   "id": "52805170-9397-48b3-8bdf-a2c76fb45583",
   "metadata": {},
   "source": [
    "NCAR maintains a number of different programs on the HPC systems that users can load into their environment through the module system.\n",
    "\n",
    "**We will use a few modules throughout this tutorial to visualize data, so you need to be able to check which modules you have loaded and to load necessary modules.** \n",
    "\n",
    "We will provide some basic instructions below, but to learn more about Modules on NCAR HPC, please follow the link below."
   ]
  },
  {
   "cell_type": "markdown",
   "id": "b2aef333-82a9-4f3d-8afa-2f5c3df4ef4c",
   "metadata": {},
   "source": [
    "<div class=\"alert alert-info\" style=\"text-align: center;\">\n",
    "\n",
    "[CISL documentation on modules](https://arc.ucar.edu/knowledge_base/72581272)\n",
    "\n",
    "</div>"
   ]
  },
  {
   "cell_type": "markdown",
   "id": "33d4014c-bc0f-4ab0-aaf3-cf6cf7572f22",
   "metadata": {},
   "source": [
    "### Checking what modules are loaded in your environment\n",
    "\n",
    "To check what modules you have loaded in your environment, use the following at the command line:"
   ]
  },
  {
   "cell_type": "code",
   "execution_count": null,
   "id": "3fe867e0-f0df-4d87-a9d6-169294ec222c",
   "metadata": {},
   "outputs": [],
   "source": [
    "module list"
   ]
  },
  {
   "cell_type": "markdown",
   "id": "2a5ec941-4f4a-4a99-a3a0-6e514c448805",
   "metadata": {},
   "source": [
    "### Checking what modules are available\n",
    "\n",
    "You can see which modules are available on the HPC resources by using the following at the command line. "
   ]
  },
  {
   "cell_type": "code",
   "execution_count": null,
   "id": "b974222c-a270-4075-b9b9-7be7b4550942",
   "metadata": {},
   "outputs": [],
   "source": [
    "module avail"
   ]
  },
  {
   "cell_type": "markdown",
   "id": "0d2cfc8e-2085-4b72-b917-9e98a1586e13",
   "metadata": {},
   "source": [
    "The command returns a list to the terminal window of the modules available to load to your environment."
   ]
  },
  {
   "cell_type": "markdown",
   "id": "ec74810f-c422-468d-b30e-ddb9c41d878f",
   "metadata": {},
   "source": [
    "![Modules](../../images/prereqs/modules.png)\n",
    "\n",
    "*<p style=\"text-align: center;\"> Figure: Some modules available on NCAR HPC resources. D: Default Module. L: Module is loaded. </p>*"
   ]
  },
  {
   "cell_type": "markdown",
   "id": "c523021e-9328-4e0b-8c40-15bcf2ebab75",
   "metadata": {},
   "source": [
    "The modules highlighted in blue are text editors discussed further in the section (LINK).\n",
    "\n",
    "The modules highlighted in red are netCDF tools that will be discussed further in the section (LINK).\n",
    "\n",
    "Note that there are many other analysis software tools available to load into your NCAR HPC environment. These include: idl, julia, matlab, R, python, ncl, etc. While some of these tools are discussed in section (LINK), we do not highlight them all here and encourage you to further explore your environment and needs."
   ]
  },
  {
   "cell_type": "markdown",
   "id": "65848ac8-1cad-47bf-b680-8b129ce4e25d",
   "metadata": {},
   "source": [
    "### Loading a new module to your environment\n",
    "\n",
    "You can load one of the avilable modules (here we show loading ncview) using the following at the command line. "
   ]
  },
  {
   "cell_type": "code",
   "execution_count": null,
   "id": "ad9db6c8-91a9-4c3e-84b4-6e6fb65de213",
   "metadata": {},
   "outputs": [],
   "source": [
    "module load ncview/2.1.7"
   ]
  }
 ],
 "metadata": {
  "kernelspec": {
   "display_name": "Bash",
   "language": "bash",
   "name": "bash"
  },
  "language_info": {
   "codemirror_mode": "shell",
   "file_extension": ".sh",
   "mimetype": "text/x-sh",
   "name": "bash"
  }
 },
 "nbformat": 4,
 "nbformat_minor": 5
}
