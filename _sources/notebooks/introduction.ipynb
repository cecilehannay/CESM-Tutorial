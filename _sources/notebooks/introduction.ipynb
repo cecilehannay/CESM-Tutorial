{
 "cells": [
  {
   "cell_type": "markdown",
   "id": "f406f992-92bd-4b17-9bd3-b99c5c8abaf3",
   "metadata": {},
   "source": [
    "# Using Jupyter Notebooks \n",
    "\n",
    "Throughout this material, you'll need to type commands in cells in Jupyter notebooks, and run them.  This is done simply by clicking on a cell, then pressing **shift-return**, or alternatively clicking the play button up above.  Try this on the cell below, if you like - this notebook uses a **bash** kernel, so this simply runs the Linux 'echo' command to print a message:"
   ]
  },
  {
   "cell_type": "code",
   "execution_count": null,
   "id": "eb1cf590",
   "metadata": {},
   "outputs": [],
   "source": [
    "echo \"Hello CESM!\""
   ]
  },
  {
   "cell_type": "markdown",
   "id": "6ecee555",
   "metadata": {},
   "source": [
    "\n",
    "## Documentation, Hints & Solutions\n",
    "\n",
    "Since the goal of these lessons is to focus on the basics, and CESM is a very complex model, we'll often provide additional information on a topic via links to online documentation.  These links will be found in light blue boxes throughout the material, which you can click on for more information if you wish to go deeper - they are _not_ necessary to progress through the lessons though.  It's more for advanced use, or if you're just really curious about something.  Feel free to try out the link below, if you like:"
   ]
  },
  {
   "cell_type": "markdown",
   "id": "cf8c955d",
   "metadata": {},
   "source": [
    "<div class=\"alert alert-info\" style=\"text-align: center;\">\n",
    "\n",
    "[Additional documentation on CESM 2.1](https://escomp.github.io/CESM/versions/cesm2.1/html/)\n",
    "\n",
    "</div>"
   ]
  },
  {
   "cell_type": "markdown",
   "id": "38d0c477",
   "metadata": {},
   "source": [
    "Another goal is for these lessons to be _interactive_; you'll need to type in commands to complete the exercises.  In some cases, it can help to see a 'hint' as to what to do, so we'll also provide these via light orange boxes that you can click on to show more information.  For example, click on the box below to see the hidden 'hint'."
   ]
  },
  {
   "cell_type": "markdown",
   "id": "0f354415",
   "metadata": {},
   "source": [
    "<div class=\"alert alert-warning\">\n",
    "   \n",
    "<details>   \n",
    "   <summary>\n",
    "        <img src=\"https://freesvg.org/img/bulb_on.png\" width=\"20px\">\n",
    "       <font face=\"Times New Roman\" color='blue' size=\"4\">How do you expand a hint?</font>\n",
    "    </summary>\n",
    "    \n",
    "You just did it by clicking on this box!  Congratulations!</details>\n",
    "</div>"
   ]
  },
  {
   "cell_type": "markdown",
   "id": "531cd6ac",
   "metadata": {},
   "source": [
    "Finally, if you're very stuck, _after_ the entry box, we'll have another clickable cell with a solution; if you're _really_ stuck, feel free to click this to get an answer to the exercise.  Feel free to try the box below as an example."
   ]
  },
  {
   "cell_type": "markdown",
   "id": "17244abb",
   "metadata": {},
   "source": [
    "<div class=\"alert alert-success\">\n",
    "   \n",
    "<details>   \n",
    "   <summary>\n",
    "        <img src=\"https://freesvg.org/img/help-browser.png\" width=\"20px\">\n",
    "       <font face=\"Times New Roman\" color='blue' size=\"4\">Click here for a solution to the exercise</font>\n",
    "    </summary>\n",
    "    \n",
    "If this were a real exercise, we'd have a detailed answer with the commands needed, and why, as well as links to additional information.  But this is just an example.  Great job so far, keep going!</details>\n",
    "</div>"
   ]
  },
  {
   "cell_type": "markdown",
   "id": "792b235c",
   "metadata": {},
   "source": [
    "## Summary\n",
    "\n",
    "In this introduction, we laid out our approach to these lessons, and gave you a little bit of information on how Jupyter notebooks worked, and the style we'll take with documentation, hints, and solutions.  Please go on to the next exercises, and we hope this is a helpful, fun way of learning CESM for you!"
   ]
  },
  {
   "cell_type": "markdown",
   "id": "5041428d",
   "metadata": {},
   "source": [
    "### ?? Should we add a link to the next one here?  Possibly."
   ]
  }
 ],
 "metadata": {
  "kernelspec": {
   "display_name": "Bash",
   "language": "bash",
   "name": "bash"
  },
  "language_info": {
   "codemirror_mode": "shell",
   "file_extension": ".sh",
   "mimetype": "text/x-sh",
   "name": "bash"
  }
 },
 "nbformat": 4,
 "nbformat_minor": 5
}
