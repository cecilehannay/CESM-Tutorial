{
 "cells": [
  {
   "cell_type": "markdown",
   "id": "b2cd974a-dfbb-4937-8ed0-ab87ab60f1ef",
   "metadata": {},
   "source": [
    "# CESM Quickstart Workflow\n",
    "\n",
    "The CESM Model is developed around a Structured Workflow. At it's simplest CESM2 can be run with only four commands required to create a new case, set it up, build it, and then run it. Prior to this the Workspace must be setup which is often a one-time task. The Quickstart guide to CESM2 is shown below. More detailed information on the CESM2 Workflow is documented in the CESM2 Introduction \n",
    "<a href=\"https://escomp.github.io/CESM/release-cesm2/\"> https://escomp.github.io/CESM/release-cesm2/ </a> \n",
    " and CIME <a href=\"https://esmci.github.io/cime/versions/master/html/index.html\"> https://esmci.github.io/cime/versions/master/html/index.html </a> documentation pages. These steps will form the basis of the Workflow of the practical sessions. \n",
    "\n",
    "<div class=\"alert alert-info\" style=\"text-align: left;\">\n",
    "<h1> Workflow Elements: </h1>\n",
    " \n",
    "- One-Time Setup Steps which we will do in Exercise 1.\n",
    "    - **``Download``** the CESM code\n",
    "    - **``Create or Locate ``** an **``Input Data``** Root Directory\n",
    "    - Possibly require **``Porting``** if not on a setup machine\n",
    "- Creating, Running and Reviewing a Case which we will do in Exercise 2.\n",
    "    - **``Create``** a New Case\n",
    "    - **``Invoke``** case.setup\n",
    "    - **``Build``** the Executable with case.build\n",
    "    - **``Run``** the Model with case.submit\n",
    "    - **``Review``** Output Data\n",
    "\n",
    "</div>"
   ]
  },
  {
   "cell_type": "code",
   "execution_count": null,
   "id": "5f04bc50-8b74-4d67-9df0-d52314380468",
   "metadata": {},
   "outputs": [],
   "source": []
  }
 ],
 "metadata": {
  "kernelspec": {
   "display_name": "Python 3 (ipykernel)",
   "language": "python",
   "name": "python3"
  },
  "language_info": {
   "codemirror_mode": {
    "name": "ipython",
    "version": 3
   },
   "file_extension": ".py",
   "mimetype": "text/x-python",
   "name": "python",
   "nbconvert_exporter": "python",
   "pygments_lexer": "ipython3",
   "version": "3.9.12"
  },
  "toc-showcode": false
 },
 "nbformat": 4,
 "nbformat_minor": 5
}
