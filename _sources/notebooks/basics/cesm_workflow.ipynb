{
 "cells": [
  {
   "cell_type": "markdown",
   "metadata": {},
   "source": [
    "# CESM Workflow"
   ]
  },
  {
   "cell_type": "markdown",
   "metadata": {},
   "source": [
    "CESM has been designed to be easy to use. Once you have completed the one-time set up steps, a CESM case can be run with a set of 4 commands."
   ]
  },
  {
   "cell_type": "markdown",
   "metadata": {},
   "source": [
    "<div class=\"alert alert-info\" style=\"text-align: left;\">\n",
    "\n",
    "1) Create a new case using `create_newcase`\n",
    "2) Set up the case by invoking `case.setup`\n",
    "3) Build the executable using `case.build`\n",
    "4) Run your case using `case.submit`\n",
    "  \n",
    "</div>\n"
   ]
  },
  {
   "cell_type": "markdown",
   "metadata": {},
   "source": [
    "The following sections will go into more detail about these 4 commands and also provide information about how to check your job status or create a clone of a previous case."
   ]
  },
  {
   "cell_type": "markdown",
   "metadata": {},
   "source": [
    "## Before you start"
   ]
  },
  {
   "cell_type": "markdown",
   "metadata": {},
   "source": [
    "Every time you log onto the NCAR HPC you want to ensure you have the correct modules loaded. The steps below only need to be done once for this tutorial, but you may need to make changes before you run CESM on NCAR HPC after the tutorial."
   ]
  },
  {
   "cell_type": "markdown",
   "metadata": {},
   "source": [
    "<div class=\"alert alert-info\">\n",
    "<strong>Exercise for bash users:</strong> \n",
    "\n",
    "<strong>NOTE:</strong> All new NCAR HPC accounts default to bash.\n",
    "\n",
    "<br>\n",
    "You may have a .profile file already present in your home directory. To set up your environment for the tutorial, follow the following three steps:<br>\n",
    "\n",
    "1) Move to your home directory:<br>\n",
    "\n",
    "```\n",
    "cd; \n",
    "```\n",
    "<br>\n",
    "\n",
    "2) Copy over the following file:<br>\n",
    " \n",
    "```\n",
    "cp /glade/p/cesm/tutorial/profile ~/.profile\n",
    "```\n",
    "    \n",
    "<br>\n",
    "<strong> NOTE:</strong> If you have an existing .profile file and do not wish to overwrite it, please copy the contents of the /glade/p/cesm/tutorial/profile file to your .profile file using a text editor.\n",
    "\n",
    "3) Source the file:<br>\n",
    "\n",
    "```\n",
    "source .profile\n",
    "```\n",
    "    \n",
    "</div>\n"
   ]
  },
  {
   "cell_type": "markdown",
   "metadata": {},
   "source": [
    "<div class=\"alert alert-info\">\n",
    "<strong>Exercise for tcsh users:</strong> \n",
    "<br>\n",
    "You should have a .tcshrc file already present in your home directory. To set up your environment for the tutorial, follow the following three steps:<br>\n",
    "\n",
    "1) Move to your home directory:<br>\n",
    "\n",
    "```\n",
    "cd; \n",
    "```\n",
    "<br>\n",
    "\n",
    "2) Copy over the following file:<br>\n",
    " \n",
    "```\n",
    "cp /glade/p/cesm/tutorial/tcshrc ~/.tcshrc\n",
    "```\n",
    "    \n",
    "<br>\n",
    "<strong> NOTE:</strong> If you have an existing .tcshrc file and do not wish to overwrite it, please copy the contents of the /glade/p/cesm/tutorial/tcshrc file to your .tcshrc file using a text editor. \n",
    "\n",
    "3) Source the file:<br>\n",
    "\n",
    "```\n",
    "source .tcshrc\n",
    "```\n",
    "    \n",
    "</div>\n"
   ]
  },
  {
   "cell_type": "markdown",
   "metadata": {},
   "source": [
    "**Please ask for help if you are having trouble with this step!**\n",
    "\n",
    "Once you perform this set up at the start of the tutorial you should not have to do it again for the remainder of the tutorial. Everytime you login to NCAR HPC these files will automatically be sourced. However, if you intend to use NCAR HPC after the tutorial note that you. may need to change your `.profile` or `.tcshrc` file to load the correct modules, project numbers, or queues.\n"
   ]
  },
  {
   "cell_type": "code",
   "execution_count": null,
   "metadata": {},
   "outputs": [],
   "source": []
  }
 ],
 "metadata": {
  "kernelspec": {
   "display_name": "Bash",
   "language": "bash",
   "name": "bash"
  },
  "language_info": {
   "codemirror_mode": "shell",
   "file_extension": ".sh",
   "mimetype": "text/x-sh",
   "name": "bash"
  }
 },
 "nbformat": 4,
 "nbformat_minor": 4
}
