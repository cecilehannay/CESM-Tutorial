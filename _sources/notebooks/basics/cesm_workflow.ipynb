{
 "cells": [
  {
   "cell_type": "markdown",
   "metadata": {},
   "source": [
    "# CESM Workflow"
   ]
  },
  {
   "cell_type": "markdown",
   "metadata": {},
   "source": [
    "CESM has been designed to be easy to use. Once you have completed the one-time set up steps, a CESM case can be run with a set of 4 commands."
   ]
  },
  {
   "cell_type": "markdown",
   "metadata": {},
   "source": [
    "<div class=\"alert alert-info\" style=\"text-align: left;\">\n",
    "\n",
    "1) Create a new case using `create_newcase`\n",
    "2) Set up the case by invoking `case.setup`\n",
    "3) Build the executable using `case.build`\n",
    "4) Run your case using `case.submit`\n",
    "  \n",
    "</div>\n"
   ]
  },
  {
   "cell_type": "markdown",
   "metadata": {},
   "source": [
    "The following sections will go into more detail about these 4 commands and also provide information about how to check your job status or create a clone of a previous case."
   ]
  },
  {
   "cell_type": "markdown",
   "metadata": {},
   "source": [
    "## Before you start"
   ]
  },
  {
   "cell_type": "markdown",
   "metadata": {},
   "source": [
    "Everytime you log onto the NCAR HPC you want to ensure you have the correct modules loaded. When you login, check your detault login environment settings.\n",
    "\n",
    "NOTE: All new tutorial logins default to bash."
   ]
  },
  {
   "cell_type": "markdown",
   "metadata": {},
   "source": [
    "<div class=\"alert alert-info\">\n",
    "<strong>Exercise for tcsh users: You should have a .tcshrc file already present in your home directory. If you do not, please copy over the following\n",
    "file:</strong><br><br>\n",
    " \n",
    "```\n",
    "cp /glade/p/cesm/tutorial/tcshrc ~/.tcshrc\n",
    "```\n",
    "<br>\n",
    "<strong> Then, change to your home directory and source the file: </strong><br><br>\n",
    "\n",
    "```\n",
    "cd; source .tcshrc\n",
    "```\n",
    "\n",
    "<br>\n",
    "<strong> If you have an existing .tcshrc file and do not wish to overwrite it, please copy the contents of the /glade/p/cesm/tutorial/tcshrc file\n",
    "to your .tcshrc file. </strong>\n",
    "    \n",
    "</div>\n",
    "\n",
    "<div class=\"alert alert-info\">\n",
    "<strong>Exercise for bash users: You may have a .profile file already present in your home directory. If you do not, please copy over the following\n",
    "file</strong><br><br>\n",
    " \n",
    "```\n",
    "cp /glade/p/cesm/tutorial/profile ~/.profile\n",
    "```\n",
    "\n",
    "<br>\n",
    "<strong> Then, change to your home directory and source the file: </strong><br><br>\n",
    "\n",
    "```\n",
    "cd; source .profile\n",
    "```\n",
    "\n",
    "<br>\n",
    "<strong> If you have an existing .profile file and do not wish to overwrite it, please copy the contents of the /glade/p/cesm/tutorial/profile file\n",
    "to your .profile file. </strong>\n",
    "    \n",
    "</div>\n",
    "\n",
    "Again if you are having trouble with this step please ask for help."
   ]
  },
  {
   "cell_type": "code",
   "execution_count": null,
   "metadata": {},
   "outputs": [],
   "source": []
  }
 ],
 "metadata": {
  "kernelspec": {
   "display_name": "Bash",
   "language": "bash",
   "name": "bash"
  },
  "language_info": {
   "codemirror_mode": "shell",
   "file_extension": ".sh",
   "mimetype": "text/x-sh",
   "name": "bash"
  }
 },
 "nbformat": 4,
 "nbformat_minor": 4
}
