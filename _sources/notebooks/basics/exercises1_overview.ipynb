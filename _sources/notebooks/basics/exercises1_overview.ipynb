{
 "cells": [
  {
   "cell_type": "markdown",
   "id": "8c2d8431-0e66-4597-96bb-858874da9235",
   "metadata": {},
   "source": [
    "# Lab Exercise 1. Overview\n",
    "\n",
    "The first lab exercise is designed to be an introduction to the Cheyenne computing environment as well as to the git and github software \n",
    "development and management tools used to develop, distribute and support the use of CESM2. The lab exercise is estimated to take around \n",
    "half an hour but could take more or less time depending on previous experience with Cheyenne and github. If you do not complete all tasks in \n",
    "the 30 minutes of the first lab exercise then you will have an opportunity to finalize them at the start of Lab Exercise 2.\n",
    "\n",
    "<div class=\"alert alert-info\" style=\"text-align: left;\">\n",
    "<h1> Lab Exercise Outline: </h1>\n",
    "\n",
    "- 1.1 Log into **``Cheyenne``** and exploring the Linux environment\n",
    "- 1.2 Explore the CESM2 **``GitHub``** webpage\n",
    "- 1.3 Download CESM2 to your workspace with **``Git``** commands \n",
    "- 1.4 Explore your CESM2 workspace for **``CESM Code``**\n",
    "- 1.5 **``Additional``** Exercises\n",
    "    \n",
    "</div>"
   ]
  },
  {
   "cell_type": "markdown",
   "id": "89b36bf1-182b-4460-af55-6f05b7a4a086",
   "metadata": {},
   "source": []
  }
 ],
 "metadata": {
  "kernelspec": {
   "display_name": "Python 3 (ipykernel)",
   "language": "python",
   "name": "python3"
  },
  "language_info": {
   "codemirror_mode": {
    "name": "ipython",
    "version": 3
   },
   "file_extension": ".py",
   "mimetype": "text/x-python",
   "name": "python",
   "nbconvert_exporter": "python",
   "pygments_lexer": "ipython3",
   "version": "3.9.12"
  }
 },
 "nbformat": 4,
 "nbformat_minor": 5
}
