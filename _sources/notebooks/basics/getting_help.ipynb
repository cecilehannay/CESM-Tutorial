{
 "cells": [
  {
   "cell_type": "markdown",
   "id": "f406f992-92bd-4b17-9bd3-b99c5c8abaf3",
   "metadata": {},
   "source": [
    "# Getting Help\n",
    "\n",
    "Beyond the sources presented here in the Tutorial there are additional sources of information to help with problem solving, designing modeling experiments, attending meetings, publishing, and communicating your research.\n",
    "\n"
   ]
  },
  {
   "cell_type": "markdown",
   "id": "3dfb2ac3-aeb3-421a-a8ea-636ffe0a61b4",
   "metadata": {},
   "source": [
    "# CESM Discuss\n",
    "\n",
    "The CESM Discuss or Bulletin Board is an excellent location to post questions or to search through previously posted and answered questions in regard to problems encounter while using CESM. \n",
    "\n",
    "<a href=\"https://bb.cgd.ucar.edu/cesm/\"> https://bb.cgd.ucar.edu/cesm/ </a>\n",
    "\n",
    "Register as a forums user by entering your valid information in the registration form:\n",
    "- Subscribe to forums of interest, especially the “Announcements” and “Known Problems”. This is one way that we communicate updates to you!\n",
    "- Join the CESM participants email list at:\n",
    "\n",
    "<a href=\"http://mailman.cgd.ucar.edu/mailman/listinfo/ccsm-participants\"> http://mailman.cgd.ucar.edu/mailman/listinfo/ccsm-participants </a>\n",
    "\n",
    "\n",
    "- Create a github account and opt-in to ”watch” CESM related repositories"
   ]
  },
  {
   "cell_type": "markdown",
   "id": "f5f4bfa4-9482-4e29-8a9b-b4082ae8f452",
   "metadata": {},
   "source": [
    "![Discuss Image](../../images/basics/CESM2_Discuss.png)\n",
    "*<p style=\"text-align: center;\"> Figure: CESM2 Discuss Bulletin Board </p>*"
   ]
  },
  {
   "cell_type": "markdown",
   "id": "1361de36-1349-4be2-8b9f-9cdf8c338ba1",
   "metadata": {},
   "source": [
    "# CESM Events\n",
    "\n",
    "A schedule of CESM Events is maintained on the CESM Website. This includes Community and Working Group Meetings, Tutorials, Seminars, and other related events. The CESM Events page can be found at:\n",
    "\n",
    "<a href=\"https://www.cesm.ucar.edu/events\"> https://www.cesm.ucar.edu/events </a>\n"
   ]
  },
  {
   "cell_type": "markdown",
   "id": "26c0e74e-b579-46eb-a587-70c6316292fb",
   "metadata": {},
   "source": [
    "![CESM Events Image](../../images/basics/CESM2_Events.png)\n",
    "*<p style=\"text-align: center;\"> Figure: CESM2 Events Page </p>*"
   ]
  },
  {
   "cell_type": "code",
   "execution_count": null,
   "id": "4c465d94-6ac6-4ceb-8ffc-aa7b7d8b0c0b",
   "metadata": {},
   "outputs": [],
   "source": []
  }
 ],
 "metadata": {
  "kernelspec": {
   "display_name": "Python 3 (ipykernel)",
   "language": "python",
   "name": "python3"
  },
  "language_info": {
   "codemirror_mode": {
    "name": "ipython",
    "version": 3
   },
   "file_extension": ".py",
   "mimetype": "text/x-python",
   "name": "python",
   "nbconvert_exporter": "python",
   "pygments_lexer": "ipython3",
   "version": "3.9.12"
  }
 },
 "nbformat": 4,
 "nbformat_minor": 5
}
