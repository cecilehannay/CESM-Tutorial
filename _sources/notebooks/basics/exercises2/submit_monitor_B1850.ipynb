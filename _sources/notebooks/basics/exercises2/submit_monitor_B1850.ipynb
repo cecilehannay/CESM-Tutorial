{
 "cells": [
  {
   "cell_type": "markdown",
   "id": "082bb7b7-5657-4601-8615-4dd2058a4625",
   "metadata": {},
   "source": [
    "# Exercise 2.2 Submit and Monitor Case\n"
   ]
  },
  {
   "cell_type": "code",
   "execution_count": null,
   "id": "3daa3d2e-d932-4adf-a55c-69ee7d5a68b1",
   "metadata": {},
   "outputs": [],
   "source": []
  }
 ],
 "metadata": {
  "kernelspec": {
   "display_name": "Python 3 (ipykernel)",
   "language": "python",
   "name": "python3"
  },
  "language_info": {
   "codemirror_mode": {
    "name": "ipython",
    "version": 3
   },
   "file_extension": ".py",
   "mimetype": "text/x-python",
   "name": "python",
   "nbconvert_exporter": "python",
   "pygments_lexer": "ipython3",
   "version": "3.9.12"
  }
 },
 "nbformat": 4,
 "nbformat_minor": 5
}
