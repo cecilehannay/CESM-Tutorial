{
 "cells": [
  {
   "cell_type": "markdown",
   "id": "082bb7b7-5657-4601-8615-4dd2058a4625",
   "metadata": {},
   "source": [
    "# Exercise 2.2 Submit and Monitor Case\n",
    "\n",
    "Having finished building your new case you will now update the run time for the first submission of the case, submit the case, and then monitor the cases progress as it runs on the Cheyenne compute nodes. From the Workflow section you will remember there are multiple ways to monitor the case. The first is with the qstat command, the second is with the build/run directory files, and the last is with the archive directory files. In this exercise we will:\n",
    "\n",
    "- Step 1. Update the XML variables for setting the submission run length.\n",
    "- Step 2. Submit the case with the case.submit script.\n",
    "- Step 3. Monitor the case with the qstat command.\n",
    "- Step 4. Monitor the case by viewing the files in the Run directory.\n",
    "- Step 5. Monitor the case by looking at the contents of the CaseStatus file.\n",
    "- Step 6. Examine the files in the Archive directory.\n",
    "\n",
    "![CESM directories](../../../images/basics/CESM2_Workspaces_Directories.png)\n",
    "*<p style=\"text-align: center;\"> Figure: Directories of the CESM2 Workspace Paths </p>*"
   ]
  },
  {
   "cell_type": "markdown",
   "id": "379508ed-2275-4efe-9161-9fe9281dab2a",
   "metadata": {},
   "source": [
    "# Step 1. Update the run length through the XML variables STOP_OPTION and STOP_N\n",
    "\n",
    "The default values for a new case run length is 5 days. The run length are set by the XML variables STOP_OPTION and STOP_N. As the 5 days is too short to produce a monthly history file we will change these to run for a single month.\n",
    "\n",
    "<div class=\"alert alert-info\">\n",
    "<strong>Exercise: Find the default run length stop option: </strong><br>\n",
    "\n",
    "```\n",
    "./xmlquery STOP_OPTION\n",
    "```\n",
    "<br>\n",
    "\n",
    "<strong>Exercise: Find the run length stop option number: </strong><br>\n",
    "\n",
    "```\n",
    "./xmlquery STOP_N\n",
    "```\n",
    "<br>\n",
    "\n",
    "<div class=\"alert alert-info\">\n",
    "<strong>Exercise: Change the run length stop option to nmonths: </strong><br>\n",
    "\n",
    "```\n",
    "./xmlchange STOP_OPTION=nmonths\n",
    "```\n",
    "<br>\n",
    "\n",
    "<strong>Exercise: Change the run length stop option number to 1: </strong><br>\n",
    "\n",
    "```\n",
    "./xmlchange STOP_N=1\n",
    "```\n",
    "<br>\n",
    "\n",
    "</div>\n"
   ]
  },
  {
   "cell_type": "markdown",
   "id": "902d33a2-9409-4e41-a429-26d2fc921777",
   "metadata": {},
   "source": [
    "# Step 2. Submit the case with case.submit\n",
    "\n",
    "Submit the case with the case.submit scripts.\n",
    "\n",
    "<div class=\"alert alert-info\">\n",
    "<strong>Exercise: Find the default run length stop option: </strong><br>\n",
    "\n",
    "```\n",
    "./case.submit\n",
    "```\n",
    "<br>\n",
    "\n",
    "</div>\n"
   ]
  },
  {
   "cell_type": "markdown",
   "id": "1e5608d9-37b4-4935-aaf1-16dc99137030",
   "metadata": {},
   "source": [
    "# Step 3. Monitor the case with qstat command\n",
    "\n",
    "Use the qstat command to enquire on the status of the submitted jobs.  \n",
    "\n",
    "<div class=\"alert alert-info\">\n",
    "<strong>Exercise: List the status of your batch jobs: </strong><br>\n",
    "\n",
    "```\n",
    "qstat -u $USER\n",
    "```\n",
    "<br>\n",
    "\n",
    "Initially the CESM job will be in Q (queued) status and the Archiver job will be in H (hold) status. Once the job is promoted to run it will change to R (run) status. Keep enquiring regularly until the the CESM job moves to R status. Once the job is in R status we can move to the next step of the exercise. Note it may takes some time between submitting the job and it appearing in the qstat query results. Once the job has completed it will no longer be in the qstat query results so if you wait too long then you may miss it in the run queue.\n",
    "\n",
    "</div>\n"
   ]
  },
  {
   "cell_type": "markdown",
   "id": "8842a184-8a49-45c2-8771-bf59d1b31084",
   "metadata": {},
   "source": [
    "# Step 4. Monitor the Run directory as files are updated and added\n",
    "\n",
    "As the CESM job runs it will create and update files in the Run directory. By tracking those files we can see the status of the run as it goes. CESM and each of the component models write log files as they run. The contents of the log files can be important for working out what is happening in real time and for working out what went wrong if the job fails.\n",
    "\n",
    "<div class=\"alert alert-info\">\n",
    "<strong>Exercise: List the contents of the Run directory: </strong><br>\n",
    "\n",
    "```\n",
    "ls -lt /glade/scratch/$USER/b.day1.0/run\n",
    "```\n",
    "<br>\n",
    "\n",
    "Note the ls -lt option lists the long version of the contents of the directory in time updated order from newest to oldest. \n",
    "    \n",
    "</div>"
   ]
  },
  {
   "cell_type": "markdown",
   "id": "ba55cc38-73d3-4588-b11f-f8a10e36962f",
   "metadata": {},
   "source": [
    "# Step 5. Monitor the Run with the CaseStatus file\n",
    "\n",
    "All activities for the case are recorded in the CaseStatus file. By looking through the file the successful or otherwise outcome of each step of the run can be tracked.\n",
    "\n",
    "<div class=\"alert alert-info\">\n",
    "<strong>Examine the status of the case through the CaseStatus file: </strong><br><br>\n",
    "\n",
    "```\n",
    "more CaseStatus\n",
    "```\n",
    "<br>\n",
    "    \n",
    "To navigate the through the contents of the file with the more tool can use the spacebar to move to the next page and the q key to quit out of the tool.\n",
    "\n",
    "</div>"
   ]
  },
  {
   "cell_type": "markdown",
   "id": "2db062fc-7b16-4dd6-a857-df343b3d3855",
   "metadata": {},
   "source": [
    "# Step 6. Examine the contents of the Archive directory\n",
    "\n",
    "Once the CESM and Archive jobs have completed the history, restart, and log files will be moved to the Archive directory. \n",
    "\n",
    "<div class=\"alert alert-info\">\n",
    "<strong>Exercise: List the contents of the Archive directory: </strong><br>\n",
    "\n",
    "```\n",
    "ls -l /glade/scratch/$USER/archive/b.day1.0\n",
    "```\n",
    "<br>\n",
    "\n",
    "Once the Archive directory has been updated the job is complete. If the RESUBMIT variable was greater than 0 the case would resubmit for the next run length. The directories in the Archive will be examined in the exercise.\n",
    "\n",
    "</div>"
   ]
  },
  {
   "cell_type": "code",
   "execution_count": null,
   "id": "62f9be3d-af04-497b-b748-e879c5e7125b",
   "metadata": {},
   "outputs": [],
   "source": []
  }
 ],
 "metadata": {
  "kernelspec": {
   "display_name": "Python 3 (ipykernel)",
   "language": "python",
   "name": "python3"
  },
  "language_info": {
   "codemirror_mode": {
    "name": "ipython",
    "version": 3
   },
   "file_extension": ".py",
   "mimetype": "text/x-python",
   "name": "python",
   "nbconvert_exporter": "python",
   "pygments_lexer": "ipython3",
   "version": "3.9.12"
  }
 },
 "nbformat": 4,
 "nbformat_minor": 5
}
