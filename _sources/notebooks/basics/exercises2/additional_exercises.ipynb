{
 "cells": [
  {
   "cell_type": "markdown",
   "id": "f406f992-92bd-4b17-9bd3-b99c5c8abaf3",
   "metadata": {},
   "source": [
    "# Exercise 2.5 Additional Exercises\n",
    "\n",
    "Here are the Additional Exercises that were provided in Exercise 1.5. If you did not get a chance before you can now explore the websites on CESM, Components, CIME, and Working Groups from the introductory section. There are three themes to explore:\n",
    "\n",
    "- Part 1. CESM Web Pages.\n",
    "- Part 2. CESM Model Component and CIME Web Pages.\n",
    "- Part 3. CESM Working Group Web Pages. "
   ]
  },
  {
   "cell_type": "markdown",
   "id": "e7a32dd5-8738-4b4d-9690-8ad8d98d8238",
   "metadata": {},
   "source": [
    "# Part 1. Explore CESM Web Pages\n",
    "\n",
    "As listed in the introduction to CESM.\n",
    "\n",
    "<div class=\"alert alert-info\">\n",
    "<strong> Exercise: Explore the Component Links: </strong>\n",
    "\n",
    "- <a href=\"http://www.cesm.ucar.edu\"> **``CESM Project Web Page``** </a>\n",
    "- <a href=\"http://www.cesm.ucar.edu/models/cesm2\"> **``CESM2 Web Page``** </a>\n",
    "\n",
    "</div>"
   ]
  },
  {
   "cell_type": "markdown",
   "id": "8de8e767-7fc4-401d-890d-f83b57d9c56a",
   "metadata": {},
   "source": [
    "# Part 2. Explore Model Component and CIME Web Pages\n",
    "\n",
    "Each model component is detailed from the CESM2 Web Page. \n",
    "The models each have a page containing descriptions and documentation for active or prognostic models.\n",
    "\n",
    "<div class=\"alert alert-info\">\n",
    "<strong> Exercise: Explore the Component Links: </strong>\n",
    "    \n",
    "- <a href=\"https://www.cesm.ucar.edu/models/cesm2/atmosphere\"> **``Atmosphere``** </a>\n",
    "- <a href=\"https://www.cesm.ucar.edu/models/cesm2/land\"> **``Land``** </a>\n",
    "- <a href=\"https://www.cesm.ucar.edu/models/cesm2/land-ice\"> **``Land Ice``** </a>\n",
    "- <a href=\"https://www.cesm.ucar.edu/models/cesm2/ocean\" > **``Ocean``** </a>\n",
    "- <a href=\"https://www.cesm.ucar.edu/models/cesm2/river\" > **``River Runoff``** </a>\n",
    "- <a href=\"https://www.cesm.ucar.edu/models/cesm2/sea-ice\" > **``Sea Ice``** </a>\n",
    "- <a href=\"https://www.cesm.ucar.edu/models/cesm2/wave\" > **``Wave``** </a>\n",
    "- <a href=\"https://esmci.github.io/cime/versions/master/html/index.html\" > **``CIME``** </a>\n",
    "    \n",
    "</div>"
   ]
  },
  {
   "cell_type": "markdown",
   "id": "25821b98-7c25-4477-a694-35411d7ae5df",
   "metadata": {},
   "source": [
    "# Part 3. Explore the CESM Working Group Web Pages\n",
    "\n",
    "Each Working Group has their own Web Page which details of meetings, development efforts, and community projects.\n",
    "\n",
    "<div class=\"alert alert-info\">\n",
    "<strong> Exercise: Explore the Working Group Links: </strong>\n",
    "\n",
    "- <a href=\"https://www.cesm.ucar.edu/working-groups/atmosphere\"> **``Atmosphere Model Working Group (AMWG)``** </a>\n",
    "- <a href=\"https://www.cesm.ucar.edu/working-groups/biogeo\"> **``Biogeochemistry Working Group (BGCWG)``** </a>\n",
    "- <a href=\"https://www.cesm.ucar.edu/working-groups/chemistry\"> **``Chemistry Climate Working Group (CCWG)``** </a>\n",
    "- <a href=\"https://www.cesm.ucar.edu/working-groups/climate\" > **``Climate Variability and Change Working Group (CVCWG)``** </a>\n",
    "- <a href=\"https://www.cesm.ucar.edu/working-groups/earth-system\" > **``Earth System Prediction Working Group (ESPWG)``** </a>\n",
    "- <a href=\"https://www.cesm.ucar.edu/working-groups/land-ice\" > **``Land Ice Working Group (LIWG)``** </a>\n",
    "- <a href=\"https://www.cesm.ucar.edu/working-groups/land\" > **``Land Model Working Group (LMWG)``** </a>\n",
    "- <a href=\"https://www.cesm.ucar.edu/working-groups/ocean\" > **``Ocean Model Working Group (OMWG)``** </a>\n",
    "- <a href=\"https://www.cesm.ucar.edu/working-groups/paleo\" > **``Paleoclimate Working Group (PWG)``** </a>\n",
    "- <a href=\"https://www.cesm.ucar.edu/working-groups/polar\" > **``Polar Climate Working Group (PCWG)``** </a>\n",
    "- <a href=\"https://www.cesm.ucar.edu/working-groups/software\" > **``Software Engineering Working Group (SEWG)``** </a>\n",
    "- <a href=\"https://www.cesm.ucar.edu/working-groups/whole-atmosphere\" > **``Whole Atmosphere Model Working Group (WAWG)``** </a>\n",
    "- <a href=\"https://www.cesm.ucar.edu/working-groups/co-chairs\" > **``Co-Chairs and Terms``** </a>\n",
    "- <a href=\"https://www.cesm.ucar.edu/management/ssc\" > **``Scientific Steering Committee (SSC)``** </a>\n",
    "    \n",
    "</div>"
   ]
  },
  {
   "cell_type": "code",
   "execution_count": null,
   "id": "b7ea60c1-fda8-4541-8873-4496c1694372",
   "metadata": {},
   "outputs": [],
   "source": []
  }
 ],
 "metadata": {
  "kernelspec": {
   "display_name": "Python 3 (ipykernel)",
   "language": "python",
   "name": "python3"
  },
  "language_info": {
   "codemirror_mode": {
    "name": "ipython",
    "version": 3
   },
   "file_extension": ".py",
   "mimetype": "text/x-python",
   "name": "python",
   "nbconvert_exporter": "python",
   "pygments_lexer": "ipython3",
   "version": "3.9.12"
  }
 },
 "nbformat": 4,
 "nbformat_minor": 5
}
