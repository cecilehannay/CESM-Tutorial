{
 "cells": [
  {
   "cell_type": "markdown",
   "id": "082bb7b7-5657-4601-8615-4dd2058a4625",
   "metadata": {
    "tags": []
   },
   "source": [
    "# Exercise 2.6 Clone Case and Examine\n"
   ]
  }
 ],
 "metadata": {
  "kernelspec": {
   "display_name": "Python 3 (ipykernel)",
   "language": "python",
   "name": "python3"
  },
  "language_info": {
   "codemirror_mode": {
    "name": "ipython",
    "version": 3
   },
   "file_extension": ".py",
   "mimetype": "text/x-python",
   "name": "python",
   "nbconvert_exporter": "python",
   "pygments_lexer": "ipython3",
   "version": "3.9.12"
  }
 },
 "nbformat": 4,
 "nbformat_minor": 5
}
