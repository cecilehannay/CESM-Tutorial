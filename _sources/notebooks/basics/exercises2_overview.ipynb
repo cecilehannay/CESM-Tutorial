{
 "cells": [
  {
   "cell_type": "markdown",
   "id": "8c2d8431-0e66-4597-96bb-858874da9235",
   "metadata": {},
   "source": [
    "# Lab Exercise 2. Overview\n",
    "\n",
    "The second lab exercise is designed to utilize all the information presented in the CESM Workflow to the Workspace that you set up Exercise 1. By then end of this exercise you will have created, setup, updated, built, run, and examined the output of a standard B1850 control case across the CESM Workspace shown below.\n",
    "\n",
    "<div class=\"alert alert-info\" style=\"text-align: left;\">\n",
    "<h1> Lab Exercise Outline: </h1>\n",
    "\n",
    "- 2.1 Create, Setup, Update, and Build a B1850 Case.\n",
    "- 2.2 Update the model run length, and then Submit and Monitor the B1850 Case.\n",
    "- 2.3 Examine the history files.\n",
    "- 2.4 Review Questions.\n",
    "- 2.5 Additional Exercises.\n",
    "    \n",
    "</div>"
   ]
  },
  {
   "cell_type": "markdown",
   "id": "89b36bf1-182b-4460-af55-6f05b7a4a086",
   "metadata": {},
   "source": [
    "![Case Submit Image](../../images/basics/CESM2_Case_Submit.png)"
   ]
  },
  {
   "cell_type": "code",
   "execution_count": null,
   "id": "e062147c-f8f3-4a21-877e-b1c5755c6cad",
   "metadata": {},
   "outputs": [],
   "source": []
  }
 ],
 "metadata": {
  "kernelspec": {
   "display_name": "Python 3 (ipykernel)",
   "language": "python",
   "name": "python3"
  },
  "language_info": {
   "codemirror_mode": {
    "name": "ipython",
    "version": 3
   },
   "file_extension": ".py",
   "mimetype": "text/x-python",
   "name": "python",
   "nbconvert_exporter": "python",
   "pygments_lexer": "ipython3",
   "version": "3.9.12"
  }
 },
 "nbformat": 4,
 "nbformat_minor": 5
}
