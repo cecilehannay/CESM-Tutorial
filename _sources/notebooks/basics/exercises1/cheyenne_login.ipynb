{
 "cells": [
  {
   "cell_type": "markdown",
   "id": "082bb7b7-5657-4601-8615-4dd2058a4625",
   "metadata": {
    "tags": []
   },
   "source": [
    "# Exercise 1.1 Cheyenne Login\n",
    "\n",
    "This first exercise is to introduce you to the Cheyenne computing system and set up your environment. Specifically in this exercise we will:\n",
    "\n",
    "- Step 1. Review the basics of using the Unix operating system.\n",
    "- Step 2. Login to the Cheyenne supercomputer.\n",
    "- Step 3. Examine the Cheyenne glade file system.\n",
    "- Step 4. Set up the Cheyenne user environment.\n",
    "\n"
   ]
  },
  {
   "cell_type": "markdown",
   "id": "24d4d29e-0fc7-4148-b8f8-c0871e91003d",
   "metadata": {},
   "source": [
    "# Step 1: Review Unix Basics\n",
    "\n",
    "If you are not familiar with the Linux csh environment, then review the reference material with a list of common commands. <br>\n",
    "\n",
    "<div class=\"alert alert-info\">\n",
    "<strong>Exercise: Explore Unix Basics page at: </strong><br><br>\n",
    "\n",
    "[Info on UNIX](https://ncar.github.io/CESM-Tutorial/notebooks/tools/unix_basics.html) <br>\n",
    "\n",
    "</div>\n",
    "\n"
   ]
  },
  {
   "cell_type": "markdown",
   "id": "f4a25131-701e-4d13-aad7-461d1302b84b",
   "metadata": {},
   "source": [
    "# Step 2: Cheyene Login\n",
    "\n",
    "From your tutorial terminal window prompt get online. <br>\n",
    "\n",
    "<div class=\"alert alert-info\">\n",
    "<strong>Exercise: Login to Cheyenne: </strong><br><br>\n",
    "\n",
    "```\n",
    "ssh –XY [username]@cheyenne.ucar.edu\n",
    "```\n",
    "\n",
    "</div>\n",
    "\n",
    "Where [username] is replaced with your tutorial username. If you have difficulty getting this to work make sure you ask for help as your Cheyenne login will be used through out the tutorial. If you are in the in person tutorial there will be helpers available. If you are doing this outside of the tutorial then you can contact the user support from the NCAR Computational and Information Systems Laboratory (CSIL):\n",
    "\n",
    "[CSIL User Support](https://www2.cisl.ucar.edu/computing-data/user-support)"
   ]
  },
  {
   "cell_type": "markdown",
   "id": "ff5b81e1-292a-4bc4-8415-57098366cf80",
   "metadata": {},
   "source": [
    "# Step 3: Look Around Cheyenne File Systems\n",
    "\n",
    "Now that you are on the Cheyenne login nodes you can start to explore the file system. The following simple exercises will start that process.\n",
    "\n",
    "<div class=\"alert alert-info\">\n",
    "<strong>Exercise: Show your current directory: </strong><br>\n",
    "\n",
    "```\n",
    "pwd\n",
    "```\n",
    "<br>\n",
    "\n",
    "<strong>Exercise: List all the directories on the glade file system: </strong><br>\n",
    "\n",
    "```\n",
    "ls /glade\n",
    "```\n",
    "<br>\n",
    "    \n",
    "<strong>Exercise: List the contents of the Input Data directory: </strong><br>\n",
    "\n",
    "```\n",
    "ls /glade/p/cesmdata/cseg/inputdata/\n",
    "```\n",
    "\n",
    "</div>\n",
    "\n",
    "\n"
   ]
  },
  {
   "cell_type": "markdown",
   "id": "5b2eda56-b787-4361-b085-262ff5be6a6a",
   "metadata": {},
   "source": [
    "# Step 4: Setup Cheyenne Environment\n",
    "\n",
    "One Time Setup: Check your default login environment settings <br>\n",
    "NOTE: All new tutorial logins default to bash    \n",
    "\n",
    "<div class=\"alert alert-info\">\n",
    "<strong>Exercise for tcsh users: You should have a .tcshrc file already present in your home directory. If you do not, please copy over the following\n",
    "file:</strong><br><br>\n",
    " \n",
    "```\n",
    "cp /glade/p/cesm/tutorial/tcshrc ~/.tcshrc\n",
    "```\n",
    "<br>\n",
    "<strong> Then, change to your home directory and source the file: </strong><br><br>\n",
    "\n",
    "```\n",
    "cd; source .tcshrc\n",
    "```\n",
    "\n",
    "<br>\n",
    "<strong> If you have an existing .tcshrc file and do not wish to overwrite it, please copy the contents of the /glade/p/cesm/tutorial/tcshrc file\n",
    "to your .tcshrc file. </strong>\n",
    "    \n",
    "</div>\n",
    "\n",
    "<div class=\"alert alert-info\">\n",
    "<strong>Exercise for bash users: You may have a .profile file already present in your home directory. If you do not, please copy over the following\n",
    "file</strong><br><br>\n",
    " \n",
    "```\n",
    "cp /glade/p/cesm/tutorial/profile ~/.profile\n",
    "```\n",
    "\n",
    "<br>\n",
    "<strong> Then, change to your home directory and source the file: </strong><br><br>\n",
    "\n",
    "```\n",
    "cd; source .profile\n",
    "```\n",
    "\n",
    "<br>\n",
    "<strong> If you have an existing .profile file and do not wish to overwrite it, please copy the contents of the /glade/p/cesm/tutorial/profile file\n",
    "to your .profile file. </strong>\n",
    "    \n",
    "</div>\n",
    "\n",
    "Again if you are having trouble with this step please ask for help."
   ]
  }
 ],
 "metadata": {
  "kernelspec": {
   "display_name": "Python 3 (ipykernel)",
   "language": "python",
   "name": "python3"
  },
  "language_info": {
   "codemirror_mode": {
    "name": "ipython",
    "version": 3
   },
   "file_extension": ".py",
   "mimetype": "text/x-python",
   "name": "python",
   "nbconvert_exporter": "python",
   "pygments_lexer": "ipython3",
   "version": "3.9.12"
  }
 },
 "nbformat": 4,
 "nbformat_minor": 5
}
