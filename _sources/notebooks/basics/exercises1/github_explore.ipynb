{
 "cells": [
  {
   "cell_type": "markdown",
   "id": "082bb7b7-5657-4601-8615-4dd2058a4625",
   "metadata": {},
   "source": [
    "# Exercise 1.2 CESM Github Pages\n",
    "\n",
    "This exercise is to introduce you to the **CESM Github Page**. The CESM project is managed through the GitHub online software development platform. The CESM Project is hosted under the Earth System Community Modeling Portal (ESCOMP) which is managed by the University Corporation for Atmospheric Research (UCAR). The ESCOMP portal and the CESM project are publicly available and do not require a Github account for read and download access. The code and data repositories stored in Github can be accessed from the Cheyenne command line using the git utility as explored in the following exercises. For this exercise we will be performing the following: \n",
    "\n",
    "- Step 1. What is Github?\n",
    "- Step 2. The Earth System Community Modeling Portal (ESCOMP)\n",
    "- Step 3. The CESM Project\n",
    "- Step 4. The CESM2.1.1 Tutorial Branch\n",
    "\n",
    "<br>\n",
    "* Note this is an exploratory exercise only. You will not need to use Github for other activities in this Tutorial. We do however suggest that in your own time you become familar with Github, register as a Github user, and then become an active member of the CESM user and development community to make the most of your experience with CESM. Github, ESCOMP, and the CESM project are vast and you can get lost in this material for hours, days, weeks or even years. Don't go too far off the path in this exercise as there are other Cheyenne and CESM code download tasks that will take your time. You can always come back when you are done.<br>"
   ]
  },
  {
   "cell_type": "markdown",
   "id": "ef2bdafb-8d38-4b27-9b4a-79d90ddfae9b",
   "metadata": {},
   "source": [
    "# Step 1. What is Github?\n",
    "\n",
    "GitHub is an online software development platform. It's used for storing, tracking, and collaborating on software projects. It makes it easy for developers to share code files and collaborate with fellow developers on open-source projects. GitHub also serves as a social networking site where developers can openly network, collaborate, and pitch their work. GitHub allows software developers to create remote, publically available repositories on the cloud for free. A repository, or \"repo\" for short, is a coding project’s files and the revision history for each file. \n",
    "\n",
    "![Github Image](../../../images/basics/CESM2_github_main.png)\n",
    "*<p style=\"text-align: center;\"> Figure: Top Level Github Header </p>*\n",
    "\n",
    "<div class=\"alert alert-info\">\n",
    "<strong>Exercise: Explore Github home page at: </strong><br><br>\n",
    "\n",
    "[Github Link](https://www.github.com) <br>\n",
    "    \n",
    "</div>\n"
   ]
  },
  {
   "cell_type": "markdown",
   "id": "0c7618a7-44d4-48bf-b088-4ea6f7f0d55c",
   "metadata": {},
   "source": [
    "# Step 2. The Earth System Community Modeling Portal (ESCOMP)\n",
    "\n",
    "The ESCOMP github organization is managed by UCAR and NCAR to organize and manage large, community-oriented earth system modeling projects of broad interest. As shown below there are many projects beyond CESM managed under the ESCOMP organization.\n",
    "\n",
    "\n",
    "![ESCOMP Image](../../../images/basics/CESM2_github_ESCOMP.png)\n",
    "*<p style=\"text-align: center;\"> Figure: ESCOMP Github Header </p>*\n",
    "\n",
    "<div class=\"alert alert-info\">\n",
    "<strong>Exercise: Explore the ESCOMP Organization home page on Github at: </strong><br><br>\n",
    "\n",
    "[ESCOMP Link](https://www.github.com/ESCOMP) <br>\n",
    "    \n",
    "</div>\n"
   ]
  },
  {
   "cell_type": "markdown",
   "id": "6ac72763-e47a-483c-b747-b9d368540e69",
   "metadata": {},
   "source": [
    "# Step 3. The CESM Project\n",
    "\n",
    "The CESM Project has been hosted on Github since CESM2.0 under the ESCOMP organization. The CESM Project contains all development and release code for all versions of CESM since then. The component models that make up CESM are also hosted under the ESCOMP organization as shown above for the Community Terrestrial System Model (CTSM) and Community Atmosphere Model (CAM). Future developments as well as documentation and management of the CESM Project can all be accessed through Github.\n",
    "\n",
    "![CESM Project Image](../../../images/basics/CESM2_github_CESM.png)\n",
    "*<p style=\"text-align: center;\"> Figure: CESM Project Github Header </p>*\n",
    "\n",
    "<div class=\"alert alert-info\">\n",
    "<strong>Exercise: Explore the CESM Project home page on Github at: </strong><br><br>\n",
    "\n",
    "[CESM Project Link](https://www.github.com/ESCOMP/CESM) <br>\n",
    "\n",
    "</div>\n"
   ]
  },
  {
   "cell_type": "markdown",
   "id": "b5b7ef36-1dc2-44dc-89fe-c5f51d30d8d0",
   "metadata": {},
   "source": [
    "# Step 4. The CESM2.1.1 Tutorial Branch Tag\n",
    "\n",
    "Within the CESM Project there are many branches and tags. Branches are develop pathways with tags being points in the development pathway that represent a version of the model whether released or not. The version of the CESM code we are using in the Tutorial is the CESM2.1.1_tutorial tag. The different branches and tags can be found from the branches/tag drop down list on the CESM Project page as shown below. The CESM2.1.1_tutorial tag can also be directly accessed through the Github URL. The tutorial tag URL will be used in the next exercise with git to download the code to your workspace on Cheyenne.\n",
    "\n",
    "![CESM Tutorial Branch Tag Image](../../../images/basics/CESM2_github_CESM_2.1.1_tutorial.png)\n",
    "*<p style=\"text-align: center;\"> Figure: CESM Tutorial Branch Tag Github Header </p>*\n",
    "\n",
    "<div class=\"alert alert-info\">\n",
    "<strong>Exercise: Explore the CESM2.1.1_tutorial tag page on Github at: </strong><br><br>\n",
    "\n",
    "[CESM Tutorial Branch Tag Link](https://www.github.com/ESCOMP/CESM/tree/cesm2.1.1_tutorial) <br>\n",
    "\n",
    "</div>\n"
   ]
  }
 ],
 "metadata": {
  "kernelspec": {
   "display_name": "Python 3 (ipykernel)",
   "language": "python",
   "name": "python3"
  },
  "language_info": {
   "codemirror_mode": {
    "name": "ipython",
    "version": 3
   },
   "file_extension": ".py",
   "mimetype": "text/x-python",
   "name": "python",
   "nbconvert_exporter": "python",
   "pygments_lexer": "ipython3",
   "version": "3.9.12"
  }
 },
 "nbformat": 4,
 "nbformat_minor": 5
}
