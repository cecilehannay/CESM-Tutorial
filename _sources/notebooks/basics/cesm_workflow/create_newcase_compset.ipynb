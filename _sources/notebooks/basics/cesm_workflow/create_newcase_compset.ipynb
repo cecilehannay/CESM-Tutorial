{
 "cells": [
  {
   "cell_type": "markdown",
   "id": "f406f992-92bd-4b17-9bd3-b99c5c8abaf3",
   "metadata": {},
   "source": [
    "# Create New Case: Compset\n"
   ]
  },
  {
   "cell_type": "markdown",
   "id": "0b70dff0-dc62-4435-86f8-02c6b8552cac",
   "metadata": {},
   "source": [
    "![Create New Case Compset Image](../../../images/basics/CESM2_Create_Newcase_Compset.png)"
   ]
  },
  {
   "cell_type": "markdown",
   "id": "f9dac1fe-df62-4560-adf5-2779d9ed8f2d",
   "metadata": {},
   "source": [
    "# CESM2 Supported Compsets\n",
    "\n",
    "<strong> Link for CESM2 Supported Compsets: </strong>\n",
    "<br>\n",
    "[http://www.cesm.ucar.edu/models/cesm2/config/compsets.html](http://www.cesm.ucar.edu/models/cesm2/config/compsets.html)\n",
    "\n",
    "<div class=\"alert alert-info\">\n",
    "<strong>Cime Tool for listing configurations: </strong><br><br>\n",
    "\n",
    "```\n",
    "CIMEROOT/scripts/query_config --compsets\n",
    "```\n",
    "<br>\n",
    "    \n",
    "<strong>Output: </strong><br><br>\n",
    "\n",
    "```\n",
    "Active component: allactive\n",
    "       --------------------------------------\n",
    "       Compset Alias: Compset Long Name \n",
    "       --------------------------------------\n",
    "   B1850                : 1850_CAM60_CLM50%BGC-CROP_CICE_POP2%ECO%ABIO-DIC_MOSART_CISM2%NOEVOLVE_WW3_BGC%BDRD\n",
    "   B1850cmip6           : 1850_CAM60_CLM50%BGC-CROP-CMIP6DECK_CICE%CMIP6_POP2%ECO%ABIO-DIC_MOSART_CISM2%NOEVOLVE_WW3_BGC%BDRD\n",
    "   BMH6kcmip6           : midH_CAM60_CLM50%BGC_CICE_POP2%ECO%ABIO-DIC_MOSART_CISM2%NOEVOLVE_WW3_BGC%BDRD\n",
    "   BLIG127kcmip6        : 127ka_CAM60_CLM50%BGC_CICE%CMIP6_POP2%ECO%ABIO-DIC_MOSART_CISM2%NOEVOLVE_WW3_BGC%BDRD\n",
    "   BCO2x4cmip6          : 1850_CAM60%4xCO2_CLM50%BGC-CROP-CMIP6DECK_CICE%CMIP6_POP2%ECO%ABIO-DIC_MOSART_CISM2%NOEVOLVE_WW3_BGC%BDRD\n",
    "   B1PCTcmip6           : 1850_CAM60%1PCT_CLM50%BGC-CROP-CMIP6DECK_CICE%CMIP6_POP2%ECO%ABIO-DIC_MOSART_CISM2%NOEVOLVE_WW3_BGC%BDRD\n",
    "   BW1850               : 1850_CAM60%WCTS_CLM50%BGC-CROP_CICE_POP2%ECO%NDEP_MOSART_CISM2%NOEVOLVE_WW3\n",
    "   BW1850cmip6          : 1850_CAM60%WCTS_CLM50%BGC-CROP-CMIP6WACCMDECK_CICE%CMIP6_POP2%ECO%NDEP_MOSART_CISM2%NOEVOLVE_WW3\n",
    "   BWsc1850             : 1850_CAM60%WCSC_CLM50%BGC-CROP_CICE_POP2%ECO_MOSART_CISM2%NOEVOLVE_WW3\n",
    "   BWsc1850smyle        : 1850_CAM60%WCSC%SMYLE_CLM50%BGC-CROP_CICE_POP2%ECO%ABIO-DIC_MOSART_CISM2%NOEVOLVE_WW3_BGC%BDRD\n",
    "   BWscHIST             : HIST_CAM60%WCSC_CLM50%BGC-CROP_CICE_POP2%ECO_MOSART_CISM2%NOEVOLVE_WW3\n",
    "   BWCO2x4cmip6         : 1850_CAM60%WCTS%4xCO2_CLM50%BGC-CROP-CMIP6WACCMDECK_CICE%CMIP6_POP2%ECO%NDEP_MOSART_CISM2%NOEVOLVE_WW3\n",
    "   BW1PCTcmip6          : 1850_CAM60%WCTS%1PCT_CLM50%BGC-CROP-CMIP6WACCMDECK_CICE%CMIP6_POP2%ECO%NDEP_MOSART_CISM2%NOEVOLVE_WW3\n",
    "   BWmaCO2x4cmip6       : 1850_CAM60%WCCM%4xCO2_CLM50%BGC-CROP-CMIP6WACCMDECK_CICE%CMIP6_POP2%ECO%NDEP_MOSART_CISM2%NOEVOLVE_WW3\n",
    "   BWma1PCTcmip6        : 1850_CAM60%WCCM%1PCT_CLM50%BGC-CROP-CMIP6WACCMDECK_CICE%CMIP6_POP2%ECO%NDEP_MOSART_CISM2%NOEVOLVE_WW3\n",
    "   BWSSP126cmip6        : SSP126_CAM60%WCTS_CLM50%BGC-CROP-CMIP6WACCMDECK_CICE%CMIP6_POP2%ECO%NDEP_MOSART_CISM2%NOEVOLVE_WW3\n",
    "   BWSSP245cmip6        : SSP245_CAM60%WCTS_CLM50%BGC-CROP-CMIP6WACCMDECK_CICE%CMIP6_POP2%ECO%NDEP_MOSART_CISM2%NOEVOLVE_WW3\n",
    "   BWSSP370cmip6        : SSP370_CAM60%WCTS_CLM50%BGC-CROP-CMIP6WACCMDECK_CICE%CMIP6_POP2%ECO%NDEP_MOSART_CISM2%NOEVOLVE_WW3\n",
    "   BWSSP585cmip6        : SSP585_CAM60%WCTS_CLM50%BGC-CROP-CMIP6WACCMDECK_CICE%CMIP6_POP2%ECO%NDEP_MOSART_CISM2%NOEVOLVE_WW3\n",
    "   BWSSP534oscmip6      : SSP534_CAM60%WCTS_CLM50%BGC-CROP-CMIP6WACCMDECK_CICE%CMIP6_POP2%ECO%NDEP_MOSART_CISM2%NOEVOLVE_WW3\n",
    "   BWSSP126             : SSP126_CAM60%WCTS_CLM50%BGC-CROP_CICE_POP2%ECO%NDEP_MOSART_CISM2%NOEVOLVE_WW3\n",
    "   BWSSP245             : SSP245_CAM60%WCTS_CLM50%BGC-CROP_CICE_POP2%ECO%NDEP_MOSART_CISM2%NOEVOLVE_WW3\n",
    "   BWSSP370             : SSP370_CAM60%WCTS_CLM50%BGC-CROP_CICE_POP2%ECO%NDEP_MOSART_CISM2%NOEVOLVE_WW3\n",
    "   BWSSP585             : SSP585_CAM60%WCTS_CLM50%BGC-CROP_CICE_POP2%ECO%NDEP_MOSART_CISM2%NOEVOLVE_WW3\n",
    "   BWSSP534os           : SSP534_CAM60%WCTS_CLM50%BGC-CROP_CICE_POP2%ECO%NDEP_MOSART_CISM2%NOEVOLVE_WW3\n",
    "   BWHIST               : HIST_CAM60%WCTS_CLM50%BGC-CROP_CICE_POP2%ECO%NDEP_MOSART_CISM2%NOEVOLVE_WW3\n",
    "   BWSSP585extcmip6     : SSP585EXT_CAM60%WCTS_CLM50%BGC-CROP-CMIP6WACCMDECK_CICE%CMIP6_POP2%ECO%NDEP_MOSART_CISM2%NOEVOLVE_WW3\n",
    "   BWSSP534osextcmip6   : SSP534EXT_CAM60%WCTS_CLM50%BGC-CROP-CMIP6WACCMDECK_CICE%CMIP6_POP2%ECO%NDEP_MOSART_CISM2%NOEVOLVE_WW3\n",
    "   BWHISTcmip6          : HIST_CAM60%WCTS_CLM50%BGC-CROP-CMIP6WACCMDECK_CICE%CMIP6_POP2%ECO%NDEP_MOSART_CISM2%NOEVOLVE_WW3\n",
    "   BWma1850             : 1850_CAM60%WCCM_CLM50%BGC-CROP_CICE_POP2%ECO%NDEP_MOSART_CISM2%NOEVOLVE_WW3\n",
    "   BWmaHIST             : HIST_CAM60%WCCM_CLM50%BGC-CROP_CICE_POP2%ECO%NDEP_MOSART_CISM2%NOEVOLVE_WW3\n",
    "   BHIST                : HIST_CAM60_CLM50%BGC-CROP_CICE_POP2%ECO%ABIO-DIC_MOSART_CISM2%NOEVOLVE_WW3_BGC%BDRD\n",
    "   BHISTcmip6           : HIST_CAM60_CLM50%BGC-CROP-CMIP6DECK_CICE%CMIP6_POP2%ECO%ABIO-DIC_MOSART_CISM2%NOEVOLVE_WW3_BGC%BDRD\n",
    "   BHISTsmbb            : HIST_CAM60%SMBB_CLM50%BGC-CROP-CMIP6DECK_CICE%CMIP6_POP2%ECO%ABIO-DIC_MOSART_CISM2%NOEVOLVE_WW3_BGC%BDRD\n",
    "   BSSP370smbb          : SSP370_CAM60%SMBB_CLM50%BGC-CROP-CMIP6DECK_CICE%CMIP6_POP2%ECO%ABIO-DIC_MOSART_CISM2%NOEVOLVE_WW3_BGC%BDRD\n",
    "   BSSP370smbbext       : SSP370EXT_CAM60%SMBB_CLM50%BGC-CROP-CMIP6DECK_CICE%CMIP6_POP2%ECO%ABIO-DIC_MOSART_CISM2%NOEVOLVE_WW3_BGC%BDRD\n",
    "   BSSP245smbb          : SSP245_CAM60%SMBB_CLM50%BGC-CROP-CMIP6DECK_CICE%CMIP6_POP2%ECO%ABIO-DIC_MOSART_CISM2%NOEVOLVE_WW3_BGC%BDRD\n",
    "   BC5L45BGC            : 2000_CAM50_CLM45%BGC_CICE_POP2_MOSART_SGLC_SWAV\n",
    "   B1850L45BGCR         : 1850_CAM60_CLM45%BGC_CICE_POP2_RTM_SGLC_SWAV\n",
    "   B1850C5L45BGC        : 1850_CAM50_CLM45%BGC_CICE_POP2_MOSART_SGLC_SWAV\n",
    "   BSSP585              : SSP585_CAM60_CLM50%BGC-CROP_CICE_POP2%ECO%ABIO-DIC_MOSART_CISM2%NOEVOLVE_WW3_BGC%BDRD\n",
    "   BSSP126              : SSP126_CAM60_CLM50%BGC-CROP_CICE_POP2%ECO%ABIO-DIC_MOSART_CISM2%NOEVOLVE_WW3_BGC%BDRD\n",
    "   BSSP245              : SSP245_CAM60_CLM50%BGC-CROP_CICE_POP2%ECO%ABIO-DIC_MOSART_CISM2%NOEVOLVE_WW3_BGC%BDRD\n",
    "   BSSP370              : SSP370_CAM60_CLM50%BGC-CROP_CICE_POP2%ECO%ABIO-DIC_MOSART_CISM2%NOEVOLVE_WW3_BGC%BDRD\n",
    "   BSSP585cmip6         : SSP585_CAM60_CLM50%BGC-CROP-CMIP6DECK_CICE%CMIP6_POP2%ECO%ABIO-DIC_MOSART_CISM2%NOEVOLVE_WW3_BGC%BDRD\n",
    "\n",
    "...\n",
    "```\n",
    "</div>\n",
    "\n"
   ]
  },
  {
   "cell_type": "markdown",
   "id": "46311d4f-5cc7-42a6-a0e9-ab13ad8ab154",
   "metadata": {},
   "source": [
    "# Take-away points\n",
    "\n",
    "- Compsets are defined by different model components and cime.\n",
    "- Some compsets are scientifically supported and/or tested while some are only defined.\n",
    "- Compsets determine which grid is required."
   ]
  },
  {
   "cell_type": "code",
   "execution_count": null,
   "id": "4197b0f9-fc74-4390-9905-8035f94972c5",
   "metadata": {},
   "outputs": [],
   "source": []
  }
 ],
 "metadata": {
  "kernelspec": {
   "display_name": "Python 3 (ipykernel)",
   "language": "python",
   "name": "python3"
  },
  "language_info": {
   "codemirror_mode": {
    "name": "ipython",
    "version": 3
   },
   "file_extension": ".py",
   "mimetype": "text/x-python",
   "name": "python",
   "nbconvert_exporter": "python",
   "pygments_lexer": "ipython3",
   "version": "3.9.12"
  }
 },
 "nbformat": 4,
 "nbformat_minor": 5
}
