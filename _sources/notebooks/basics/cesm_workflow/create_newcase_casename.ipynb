{
 "cells": [
  {
   "cell_type": "markdown",
   "id": "f406f992-92bd-4b17-9bd3-b99c5c8abaf3",
   "metadata": {},
   "source": [
    "# Create New Case: Case Name\n"
   ]
  },
  {
   "cell_type": "markdown",
   "id": "0b70dff0-dc62-4435-86f8-02c6b8552cac",
   "metadata": {},
   "source": [
    "![Create New Case Command Image](../../../images/basics/CESM2_Create_Newcase_Casename.png)"
   ]
  },
  {
   "cell_type": "markdown",
   "id": "26328d91-c692-4a04-9904-fa455c5377fb",
   "metadata": {},
   "source": [
    "![CESM directories](../../../images/basics/CESM2_Workspaces_Directories.png)\n",
    "*<p style=\"text-align: center;\"> Figure: Directories of the CESM2 Workspace Paths </p>*"
   ]
  }
 ],
 "metadata": {
  "kernelspec": {
   "display_name": "Python 3 (ipykernel)",
   "language": "python",
   "name": "python3"
  },
  "language_info": {
   "codemirror_mode": {
    "name": "ipython",
    "version": 3
   },
   "file_extension": ".py",
   "mimetype": "text/x-python",
   "name": "python",
   "nbconvert_exporter": "python",
   "pygments_lexer": "ipython3",
   "version": "3.9.12"
  }
 },
 "nbformat": 4,
 "nbformat_minor": 5
}
