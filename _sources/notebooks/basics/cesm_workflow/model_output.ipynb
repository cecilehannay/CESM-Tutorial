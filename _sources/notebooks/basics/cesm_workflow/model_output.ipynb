{
 "cells": [
  {
   "cell_type": "markdown",
   "id": "683d9e77-d700-4f75-b3f0-eb813657351b",
   "metadata": {
    "tags": []
   },
   "source": [
    "# Model Output\n",
    "\n"
   ]
  },
  {
   "cell_type": "markdown",
   "id": "d8e6525b-31d9-450d-a3b9-e3b435fc231a",
   "metadata": {},
   "source": [
    "If the model run is successful, the CESM netcdf output history files are automatically moved to a short term archive by `case.st_archive`. If a model run was unsuccessful the output remains in the Run Directory.\n",
    "\n",
    "- The path `/glade/scratch/$USER/archive/CASE/` is your workspace `DOUT_S_ROOT`, as described in the [workspaces section](https://ncar.github.io/CESM-Tutorial/notebooks/basics/cesm_workspaces.html#workspace-overview). \n",
    "\n",
    "Note that, like RUNDIR, the short term archive directory is in the NCAR HPC scratch space. This space is scrubbed and files deleted after a number of days. Thus, it is a good idea to move your model output files from the short term archive to a more permanent location as soon as you are able."
   ]
  },
  {
   "cell_type": "markdown",
   "id": "d62c7e4b-86e0-40ec-8dfa-5744c3884bc0",
   "metadata": {},
   "source": [
    "![Case Submit Image](../../../images/basics/Short_term_archive.png)"
   ]
  },
  {
   "cell_type": "code",
   "execution_count": null,
   "id": "c2463ac2-7ada-48bd-8662-9e4115f7e8f5",
   "metadata": {},
   "outputs": [],
   "source": []
  }
 ],
 "metadata": {
  "kernelspec": {
   "display_name": "Python 3 (ipykernel)",
   "language": "python",
   "name": "python3"
  },
  "language_info": {
   "codemirror_mode": {
    "name": "ipython",
    "version": 3
   },
   "file_extension": ".py",
   "mimetype": "text/x-python",
   "name": "python",
   "nbconvert_exporter": "python",
   "pygments_lexer": "ipython3",
   "version": "3.9.12"
  }
 },
 "nbformat": 4,
 "nbformat_minor": 5
}
