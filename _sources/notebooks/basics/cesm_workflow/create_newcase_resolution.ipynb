{
 "cells": [
  {
   "cell_type": "markdown",
   "id": "f406f992-92bd-4b17-9bd3-b99c5c8abaf3",
   "metadata": {},
   "source": [
    "# Create New Case: Resolution\n"
   ]
  },
  {
   "cell_type": "markdown",
   "id": "0b70dff0-dc62-4435-86f8-02c6b8552cac",
   "metadata": {},
   "source": [
    "![Create New Case Resolution Image](../../../images/basics/CESM2_Create_Newcase_Resolution.png)"
   ]
  },
  {
   "cell_type": "markdown",
   "id": "f9dac1fe-df62-4560-adf5-2779d9ed8f2d",
   "metadata": {},
   "source": [
    "# CESM2 Supported Grid Definitions\n",
    "\n",
    "<strong> Link for CESM Supported Grids: </strong>\n",
    "<br>\n",
    "[http://www.cesm.ucar.edu/models/cesm2/config/grids.html](http://www.cesm.ucar.edu/models/cesm2/config/grids.html)\n",
    "\n",
    "<div class=\"alert alert-info\">\n",
    "<strong>Cime Tool for listing configurations: </strong><br><br>\n",
    "\n",
    "```\n",
    "CIMEROOT/scripts/query_config --grids --long\n",
    "```\n",
    "<br>\n",
    "<strong>Output: </strong><br><br>\n",
    "\n",
    "```\n",
    "    =========================================\n",
    "    GRID naming convention\n",
    "    =========================================\n",
    "    The notation for the grid longname is\n",
    "        a%name_l%name_oi%name_r%name_m%mask_g%name_w%name\n",
    "    where\n",
    "        a% => atm, l% => lnd, oi% => ocn/ice, r% => river, m% => mask, g% => glc, w% => wav\n",
    "\n",
    "    Supported out of the box grid configurations are given via alias specification in\n",
    "    the file \"config_grids.xml\". Each grid alias can also be associated  with the\n",
    "    following optional attributes\n",
    "\n",
    "    compset       (Regular expression for compset matches that are required for this grid)\n",
    "    not_compset   (Regular expression for compset matches that are not permitted this grid)\n",
    "\n",
    "    Using the alias and the optional \"compset\" and \"not_compset\" attributes a grid longname is created\n",
    "    Note that the mask is for information only - and is not an attribute of the grid\n",
    "    By default, if the mask is not specified below, it will be set to the ocnice grid\n",
    "    And if there is no ocnice grid (such as for single column, the mask is null since it does not mean anything)\n",
    "   \n",
    "     -------------------------------------------------------------\n",
    "            default component grids:\n",
    "\n",
    "     component         compset       value \n",
    "     -------------------------------------------------------------\n",
    "     atm      SATM              null      \n",
    "     lnd      SLND              null      \n",
    "     ocnice   SOCN              null      \n",
    "     rof      SROF              null      \n",
    "     rof      DWAV              rx1       \n",
    "     rof      RTM               r05       \n",
    "     rof      MOSART            r05       \n",
    "     rof      DROF              rx1       \n",
    "     rof      DROF%CPLHIST      r05       \n",
    "     rof      XROF              r05       \n",
    "     glc      SGLC              null      \n",
    "     glc      CISM1             gland5UM  \n",
    "     glc      CISM2             gland4    \n",
    "     glc      XGLC              gland4    \n",
    "     wav      SWAV              null      \n",
    "     wav      DWAV              ww3a      \n",
    "     wav      WW3               ww3a      \n",
    "     wav      XWAV              ww3a      \n",
    "     -------------------------------------------------------------\n",
    "\n",
    "     alias: g16_g16 (only for compsets that are DATM.+DROF )\n",
    "       non-default grids are: atm:gx1v6  lnd:gx1v6  ocnice:gx1v6  \n",
    "    \n",
    "       gx1v6 is displaced Greenland pole v6 1-deg grid: with domain file(s): \n",
    "       $DIN_LOC_ROOT/share/domains/domain.ocn.gx1v6.090206.nc (only for grid match: atm|lnd)\n",
    "       $DIN_LOC_ROOT/share/domains/domain.ocn.gx1v6.090206.nc (only for grid match: ocnice) \n",
    "\n",
    "     alias: g17_g17 (only for compsets that are DATM.+DROF )\n",
    "       non-default grids are: atm:gx1v7  lnd:gx1v7  ocnice:gx1v7  \n",
    "    \n",
    "       gx1v7 is displaced Greenland pole 1-deg grid with Caspian as a land feature: with domain file(s): \n",
    "       $DIN_LOC_ROOT/share/domains/domain.ocn.gx1v7.151008.nc (only for grid match: atm|lnd)\n",
    "       $DIN_LOC_ROOT/share/domains/domain.ocn.gx1v7.151008.nc (only for grid match: ocnice) \n",
    "\n",
    "...\n",
    "```\n",
    "</div>\n",
    "\n"
   ]
  },
  {
   "cell_type": "code",
   "execution_count": null,
   "id": "05dd8657-3cad-434a-a3d3-0a98013619ac",
   "metadata": {},
   "outputs": [],
   "source": []
  }
 ],
 "metadata": {
  "kernelspec": {
   "display_name": "Python 3 (ipykernel)",
   "language": "python",
   "name": "python3"
  },
  "language_info": {
   "codemirror_mode": {
    "name": "ipython",
    "version": 3
   },
   "file_extension": ".py",
   "mimetype": "text/x-python",
   "name": "python",
   "nbconvert_exporter": "python",
   "pygments_lexer": "ipython3",
   "version": "3.9.12"
  }
 },
 "nbformat": 4,
 "nbformat_minor": 5
}
