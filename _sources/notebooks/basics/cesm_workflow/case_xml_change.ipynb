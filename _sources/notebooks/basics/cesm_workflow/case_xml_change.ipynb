{
 "cells": [
  {
   "cell_type": "markdown",
   "id": "f9dac1fe-df62-4560-adf5-2779d9ed8f2d",
   "metadata": {},
   "source": [
    "# Case: xmlquery and xmlchange\n",
    "\n",
    "While the values in XML files can be modified directly with an editor, CESM provides tools for querying and changing values. The xmlquery and xmlchange tools ensure that the values found and updated are valid for the files they belong to and that any changes made are recorded in the CaseStatus file in the CASE Directory."
   ]
  },
  {
   "cell_type": "markdown",
   "id": "17650491-7131-4fbe-92c2-97b6ead3f74f",
   "metadata": {},
   "source": [
    "# Some useful variables in the xml files\n",
    "\n",
    "The length of the run is set in env_run.xml file with the variables: <br> \n",
    "<strong> STOP_N </strong><br>\n",
    "<strong> STOP_OPTION </strong> <br>\n",
    "<br>\n",
    "By default, the model is set to run for 5 days: <br>\n",
    "<strong> STOP_N = 5 </strong><br>\n",
    "<strong> STOP_OPTION = ndays </strong><br>\n",
    "\n",
    "<div class=\"alert alert-info\">\n",
    "<strong>You can query the values of these variables with the command xmlquery: </strong><br><br>\n",
    "\n",
    "```\n",
    "./xmlquery STOP_OPTION,STOP_N \n",
    "```\n",
    "<br>\n",
    "    \n",
    "<strong> If you want to increase the run length from 5 days to 1 month, you can use the xmlchange command: </strong><br>\n",
    "\n",
    "```\n",
    "./xmlchange STOP_OPTION=nmonths,STOP_N=1 \n",
    "```\n",
    "\n",
    "</div>\n"
   ]
  },
  {
   "cell_type": "markdown",
   "id": "f00e8ca7-ece2-4c8d-a683-efd7f8691267",
   "metadata": {},
   "source": [
    "# Other useful variables in the env_run.xml\n",
    "\n",
    "<strong> CONTINUE_RUN </strong><br>\n",
    "- set to FALSE if it is the first segment of your run <br>\n",
    "- set to TRUE if you are restarting/continuing a run <br>\n",
    "<br>\n",
    "\n",
    "<strong> RESUBMIT </strong><br>\n",
    "- If RESUBMIT is greater than 0, then case will automatically resubmit. "
   ]
  },
  {
   "cell_type": "markdown",
   "id": "9e3f2620-9716-4db6-a11e-e214e0c81ad8",
   "metadata": {},
   "source": [
    "# Using xmlchange\n",
    "\n",
    "<div class=\"alert alert-info\">\n",
    "<strong>Modifying a variable in an xml file with the xmlchange script: </strong><br><br>\n",
    "\n",
    "```\n",
    "./xmlchange --help\n",
    "```\n",
    "    \n",
    "<br>\n",
    "    \n",
    "<strong>Output: </strong><br>\n",
    "\n",
    "```\n",
    "usage: xmlchange [-h] [-d] [-v] [-s] [--caseroot CASEROOT] [--append]\n",
    "                 [--subgroup SUBGROUP] [--id ID] [--val VAL] [--file FILE]\n",
    "                 [--delimiter DELIMITER] [--dryrun] [--noecho] [-f]\n",
    "                 [-loglevel LOGLEVEL]\n",
    "                 [listofsettings]\n",
    "\n",
    "Allows changing variables in env_*xml files via a command-line interface.\n",
    "\n",
    "This provides two main benefits over editing the xml files by hand:\n",
    "  - Settings are checked immediately for validity\n",
    "  - Settings are echoed to the CaseStatus file, providing a \"paper trail\" of\n",
    "    changes made by the user.\n",
    "\n",
    "Examples:\n",
    "\n",
    "   To set a single variable:\n",
    "      ./xmlchange REST_N=4\n",
    "\n",
    "   To set multiple variables at once:\n",
    "      ./xmlchange REST_OPTION=ndays,REST_N=4\n",
    "\n",
    "   Alternative syntax (no longer recommended, but supported for backwards\n",
    "   compatibility; only works for a single variable at a time):\n",
    "      ./xmlchange --id REST_N --val 4\n",
    "\n",
    "   Several xml variables that have settings for each component have somewhat special treatment.\n",
    "   The variables that this currently applies to are:\n",
    "    NTASKS, NTHRDS, ROOTPE, PIO_TYPENAME, PIO_STRIDE, PIO_NUMTASKS\n",
    "   For example, to set the number of tasks for all components to 16, use:\n",
    "      ./xmlchange NTASKS=16\n",
    "   To set just the number of tasks for the atm component, use:\n",
    "      ./xmlchange NTASKS_ATM=16\n",
    "\n",
    "   The CIME case xml variables are grouped together in xml elements <group></group>.\n",
    "   This is done to associate together xml variables with common features.\n",
    "   Most variables are only associated with one group. However, in env_batch.xml,\n",
    "   there are also xml variables that are associated with each potential batch job.\n",
    "   For these variables, the '--subgroup' option may be used to specify a particular\n",
    "   group for which the variable's value will be adjusted.\n",
    "   \n",
    "...\n",
    "\n",
    "```\n",
    "    \n",
    "</div>\n",
    "\n",
    "Note: argument --subgroup applies change to XML variable in XML element named group"
   ]
  },
  {
   "cell_type": "markdown",
   "id": "2eee92ba-a07f-466e-9030-d79f9f513fc7",
   "metadata": {},
   "source": [
    "# CESM2 Component Settings\n",
    "\n",
    "<strong> Link to CESM2 Supported Component Settings: </strong>\n",
    "<br>\n",
    "[http://www.cesm.ucar.edu/models/cesm2/component_settings](http://www.cesm.ucar.edu/models/cesm2/component_settings)\n",
    "\n"
   ]
  },
  {
   "cell_type": "markdown",
   "id": "4bf6f9ae-a864-416a-bdcf-ff1691d6870b",
   "metadata": {},
   "source": [
    "# Take-away points\n",
    "- Every component defines its own XML settings in the CASEROOT env_*.xml files\n",
    "- xmlquery can locate xml variables across the xml files in the CASEROOT Directory\n",
    "- xmlchange can ensure only valid values are provided for xml variables\n",
    "- xmlchange logs all changes in the CaseStatus file"
   ]
  },
  {
   "cell_type": "code",
   "execution_count": null,
   "id": "bd8dde99-986c-4c3f-a6df-978c2e9adb12",
   "metadata": {},
   "outputs": [],
   "source": []
  }
 ],
 "metadata": {
  "kernelspec": {
   "display_name": "Python 3 (ipykernel)",
   "language": "python",
   "name": "python3"
  },
  "language_info": {
   "codemirror_mode": {
    "name": "ipython",
    "version": 3
   },
   "file_extension": ".py",
   "mimetype": "text/x-python",
   "name": "python",
   "nbconvert_exporter": "python",
   "pygments_lexer": "ipython3",
   "version": "3.9.12"
  }
 },
 "nbformat": 4,
 "nbformat_minor": 5
}
