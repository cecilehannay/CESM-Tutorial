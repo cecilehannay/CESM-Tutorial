{
 "cells": [
  {
   "cell_type": "markdown",
   "id": "f9dac1fe-df62-4560-adf5-2779d9ed8f2d",
   "metadata": {},
   "source": [
    "# Create New Case: Output\n",
    "\n",
    "<div class=\"alert alert-info\">\n",
    "<strong>Result of running create_newcase in CIMEROOT/scripts: </strong><br><br>\n",
    "\n",
    "```\n",
    "./create_newcase --case ~/cases/b.day1.0 --res f19_g17 --compset B1850\n",
    "```\n",
    "<br>\n",
    "    \n",
    "<strong>Output: </strong><br>\n",
    "\n",
    "```\n",
    "Compset longname is 1850_CAM60_CLM50%BGC-CROP_CICE_POP2%ECO%ABIO-DIC_MOSART_CISM2%NOEVOLVE_WW3_BGC%BDRD\n",
    "Compset specification file is /glade/work/lawrence/code/cesm2.1.1/cime/../cime_config/config_compsets.xml\n",
    "Compset forcing is 1850\n",
    "Com forcing is Biogeochemistry intercomponent  with diagnostic CO2\n",
    "ATM component is CAM cam6 physics:\n",
    "LND component is clm5.0:BGC (vert. resol. CN and methane) with prognostic crop:\n",
    "ICE component is Sea ICE (cice) model version 5\n",
    "OCN component is POP2 EcosystemAbiotic DIC/DIC14\n",
    "ROF component is MOSART: MOdel for Scale Adaptive River Transport\n",
    "GLC component is cism2 (default, higher-order, can run in parallel):cism ice evolution turned off (this is the standard configuration unless you're explicitly interested in ice evolution):\n",
    "WAV component is Wave Watch\n",
    "ESP component is \n",
    "Pes     specification file is /glade/work/lawrence/code/cesm2.1.1/cime/../cime_config/config_pes.xml\n",
    "Compset specific settings: name is RUN_STARTDATE and value is 0001-01-01\n",
    "Compset specific settings: name is RUN_REFDATE and value is 0301-01-01\n",
    "Compset specific settings: name is RUN_TYPE and value is hybrid\n",
    "Compset specific settings: name is RUN_REFCASE and value is b.e20.B1850.f19_g17.release_cesm2_1_0.020\n",
    "Compset specific settings: name is CLM_NAMELIST_OPTS and value is use_init_interp=.true.\n",
    "Machine is cheyenne\n",
    "Pes setting: grid match    is a%1.9x2.5.+l%1.9x2.5.+oi%gx1 \n",
    "Pes setting: machine match is cheyenne \n",
    "Pes setting: compset_match is CAM.+CLM.+CICE.+POP.+ \n",
    "Pes setting: grid          is a%1.9x2.5_l%1.9x2.5_oi%gx1v7_r%r05_g%gland4_w%ww3a_m%gx1v7 \n",
    "Pes setting: compset       is 1850_CAM60_CLM50%BGC-CROP_CICE_POP2%ECO%ABIO-DIC_MOSART_CISM2%NOEVOLVE_WW3_BGC%BDRD \n",
    "Pes setting: tasks       is {'NTASKS_ATM': 288, 'NTASKS_ICE': 108, 'NTASKS_CPL': 288, 'NTASKS_LND': 144, 'NTASKS_WAV': 36, 'NTASKS_ROF': 40, 'NTASKS_OCN': 288, 'NTASKS_GLC': 36} \n",
    "Pes setting: threads     is {'NTHRDS_ICE': 1, 'NTHRDS_ATM': 1, 'NTHRDS_ROF': 1, 'NTHRDS_LND': 1, 'NTHRDS_WAV': 1, 'NTHRDS_OCN': 1, 'NTHRDS_CPL': 1, 'NTHRDS_GLC': 1} \n",
    "Pes setting: rootpe      is {'ROOTPE_OCN': 288, 'ROOTPE_LND': 0, 'ROOTPE_ATM': 0, 'ROOTPE_ICE': 144, 'ROOTPE_WAV': 252, 'ROOTPE_CPL': 0, 'ROOTPE_ROF': 0, 'ROOTPE_GLC': 0} \n",
    "Pes setting: pstrid      is {} \n",
    "Pes other settings: {}\n",
    "Pes comments: about 12ypd expected\n",
    " Compset is: 1850_CAM60_CLM50%BGC-CROP_CICE_POP2%ECO%ABIO-DIC_MOSART_CISM2%NOEVOLVE_WW3_BGC%BDRD \n",
    " Grid is: a%1.9x2.5_l%1.9x2.5_oi%gx1v7_r%r05_g%gland4_w%ww3a_m%gx1v7 \n",
    " Components in compset are: ['cam', 'clm', 'cice', 'pop', 'mosart', 'cism', 'ww3', 'sesp', 'drv', 'dart'] \n",
    "\n",
    "This is a CESM scientifically supported compset at this resolution.\n",
    "\n",
    "Using project from .cesm_proj: P93300641\n",
    "No charge_account info available, using value from PROJECT\n",
    "Using project from .cime/config: P93300641\n",
    "cesm model version found: cesm2.1_tutorial2022\n",
    "Batch_system_type is pbs\n",
    "job is case.run USER_REQUESTED_WALLTIME None USER_REQUESTED_QUEUE None WALLTIME_FORMAT %H:%M:%S\n",
    "job is case.st_archive USER_REQUESTED_WALLTIME None USER_REQUESTED_QUEUE None WALLTIME_FORMAT %H:%M:%S\n",
    " Creating Case directory /glade/u/home/lawrence/cases/b.day1.0\n",
    "\n",
    "```\n",
    "</div>\n",
    "\n"
   ]
  },
  {
   "cell_type": "markdown",
   "id": "2eee92ba-a07f-466e-9030-d79f9f513fc7",
   "metadata": {},
   "source": [
    "# Take-away Points\n",
    "\n",
    "- Success! The casename b.day1.0 has the CASEROOT directory of /glade/u/home/lawrence/cases/b.day1.0\n",
    "- Resolution: a%1.9x2.5_l%1.9x2.5_oi%gx1v7_r%r05_g%gland4_w%ww3a_m%gx1v7\n",
    "- Compset: 1850_CAM60_CLM50%BGC-CROP_CICE_POP2%ECO%ABIO-DIC_MOSART_CISM2%NOEVOLVE_WW3_BGC%BDRD\n",
    "- Components: 'cam', 'clm', 'cice', 'pop', 'mosart', 'cism', 'ww3', 'sesp', 'drv', 'dart'\n",
    "- Pes comments: about 12ypd expected"
   ]
  }
 ],
 "metadata": {
  "kernelspec": {
   "display_name": "Python 3 (ipykernel)",
   "language": "python",
   "name": "python3"
  },
  "language_info": {
   "codemirror_mode": {
    "name": "ipython",
    "version": 3
   },
   "file_extension": ".py",
   "mimetype": "text/x-python",
   "name": "python",
   "nbconvert_exporter": "python",
   "pygments_lexer": "ipython3",
   "version": "3.9.12"
  }
 },
 "nbformat": 4,
 "nbformat_minor": 5
}
