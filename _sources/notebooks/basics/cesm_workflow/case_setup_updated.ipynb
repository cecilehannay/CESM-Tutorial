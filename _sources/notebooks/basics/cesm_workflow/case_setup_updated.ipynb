{
 "cells": [
  {
   "cell_type": "markdown",
   "id": "f9dac1fe-df62-4560-adf5-2779d9ed8f2d",
   "metadata": {},
   "source": [
    "# Case: case.setup updated files\n",
    "\n"
   ]
  },
  {
   "cell_type": "markdown",
   "id": "d62c7e4b-86e0-40ec-8dfa-5744c3884bc0",
   "metadata": {},
   "source": [
    "![Case Setup Updated Image](../../../images/basics/CESM2_Case_Setup_Updated.png)"
   ]
  },
  {
   "cell_type": "code",
   "execution_count": null,
   "id": "c2463ac2-7ada-48bd-8662-9e4115f7e8f5",
   "metadata": {},
   "outputs": [],
   "source": []
  }
 ],
 "metadata": {
  "kernelspec": {
   "display_name": "Python 3 (ipykernel)",
   "language": "python",
   "name": "python3"
  },
  "language_info": {
   "codemirror_mode": {
    "name": "ipython",
    "version": 3
   },
   "file_extension": ".py",
   "mimetype": "text/x-python",
   "name": "python",
   "nbconvert_exporter": "python",
   "pygments_lexer": "ipython3",
   "version": "3.9.12"
  }
 },
 "nbformat": 4,
 "nbformat_minor": 5
}
