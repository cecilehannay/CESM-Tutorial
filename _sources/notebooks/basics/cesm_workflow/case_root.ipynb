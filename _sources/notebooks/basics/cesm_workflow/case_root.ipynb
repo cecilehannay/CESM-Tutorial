{
 "cells": [
  {
   "cell_type": "markdown",
   "id": "f9dac1fe-df62-4560-adf5-2779d9ed8f2d",
   "metadata": {},
   "source": [
    "# Case: CASEROOT and Directory\n",
    "\n"
   ]
  },
  {
   "cell_type": "markdown",
   "id": "2eee92ba-a07f-466e-9030-d79f9f513fc7",
   "metadata": {},
   "source": [
    "![Case Root Image](../../../images/basics/CESM2_Case_Root.png)"
   ]
  },
  {
   "cell_type": "code",
   "execution_count": null,
   "id": "1a9e31df-e2a9-4f12-8db3-f9ad97592faf",
   "metadata": {},
   "outputs": [],
   "source": []
  }
 ],
 "metadata": {
  "kernelspec": {
   "display_name": "Python 3 (ipykernel)",
   "language": "python",
   "name": "python3"
  },
  "language_info": {
   "codemirror_mode": {
    "name": "ipython",
    "version": 3
   },
   "file_extension": ".py",
   "mimetype": "text/x-python",
   "name": "python",
   "nbconvert_exporter": "python",
   "pygments_lexer": "ipython3",
   "version": "3.9.12"
  }
 },
 "nbformat": 4,
 "nbformat_minor": 5
}
