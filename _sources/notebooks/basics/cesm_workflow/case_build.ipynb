{
 "cells": [
  {
   "cell_type": "markdown",
   "id": "f9dac1fe-df62-4560-adf5-2779d9ed8f2d",
   "metadata": {},
   "source": [
    "# Case: case.build\n",
    "\n"
   ]
  },
  {
   "cell_type": "markdown",
   "id": "d62c7e4b-86e0-40ec-8dfa-5744c3884bc0",
   "metadata": {},
   "source": [
    "![Case Build Image](../../../images/basics/CESM2_Case_Build.png)"
   ]
  },
  {
   "cell_type": "markdown",
   "id": "603ec48e-9f64-41a5-a878-fc90bf580422",
   "metadata": {},
   "source": [
    "# Case Build: Output\n",
    "\n",
    "<div class=\"alert alert-info\">\n",
    "<strong>Result of running case.build: </strong><br><br>\n",
    "\n",
    "```\n",
    "qcmd -- ./case.build\n",
    "```\n",
    "<br>\n",
    "    \n",
    "<strong>Output: </strong><br>\n",
    "\n",
    "```\n",
    "Building case in directory /glade/u/home/lawrence/cases/b.day1.0\n",
    "sharedlib_only is False\n",
    "model_only is False\n",
    "Setting resource.RLIMIT_STACK to -1 from (-1, -1)\n",
    "Generating component namelists as part of build\n",
    " - Prestaging REFCASE (/glade/p/cesmdata/cseg/inputdata/cesm2_init/b.e20.B1850.f19_g17.release_cesm2_1_0.020/0301-01-01) to /glade/scratch/lawrence/b.day1.0/run\n",
    "Copy rpointer /glade/p/cesmdata/cseg/inputdata/cesm2_init/b.e20.B1850.f19_g17.release_cesm2_1_0.020/0301-01-01/rpointer.ocn.restart\n",
    "Copy rpointer /glade/p/cesmdata/cseg/inputdata/cesm2_init/b.e20.B1850.f19_g17.release_cesm2_1_0.020/0301-01-01/rpointer.ice\n",
    "Copy rpointer /glade/p/cesmdata/cseg/inputdata/cesm2_init/b.e20.B1850.f19_g17.release_cesm2_1_0.020/0301-01-01/rpointer.lnd\n",
    "Copy rpointer /glade/p/cesmdata/cseg/inputdata/cesm2_init/b.e20.B1850.f19_g17.release_cesm2_1_0.020/0301-01-01/rpointer.rof\n",
    "Copy rpointer /glade/p/cesmdata/cseg/inputdata/cesm2_init/b.e20.B1850.f19_g17.release_cesm2_1_0.020/0301-01-01/rpointer.atm\n",
    "Copy rpointer /glade/p/cesmdata/cseg/inputdata/cesm2_init/b.e20.B1850.f19_g17.release_cesm2_1_0.020/0301-01-01/rpointer.ocn.tavg.5\n",
    "Copy rpointer /glade/p/cesmdata/cseg/inputdata/cesm2_init/b.e20.B1850.f19_g17.release_cesm2_1_0.020/0301-01-01/rpointer.glc\n",
    "Copy rpointer /glade/p/cesmdata/cseg/inputdata/cesm2_init/b.e20.B1850.f19_g17.release_cesm2_1_0.020/0301-01-01/rpointer.ocn.ovf\n",
    "Copy rpointer /glade/p/cesmdata/cseg/inputdata/cesm2_init/b.e20.B1850.f19_g17.release_cesm2_1_0.020/0301-01-01/rpointer.drv\n",
    "Creating component namelists\n",
    "   Calling /glade/work/lawrence/code/cesm2.1.1/components/cam//cime_config/buildnml\n",
    "     ...calling cam buildcpp to set build time options\n",
    "CAM namelist copy: file1 /glade/u/home/lawrence/cases/b.day1.0/Buildconf/camconf/atm_in file2 /glade/scratch/lawrence/b.day1.0/run/atm_in \n",
    "   Calling /glade/work/lawrence/code/cesm2.1.1/components/clm//cime_config/buildnml\n",
    "   Calling /glade/work/lawrence/code/cesm2.1.1/components/cice//cime_config/buildnml\n",
    "     ...buildnml calling cice buildcpp to set build time options\n",
    "   Calling /glade/work/lawrence/code/cesm2.1.1/components/pop//cime_config/buildnml\n",
    "     ... buildnml: calling pop buildcpp to set build time options\n",
    "   Calling /glade/work/lawrence/code/cesm2.1.1/components/mosart//cime_config/buildnml\n",
    "   Running /glade/work/lawrence/code/cesm2.1.1/components/cism//cime_config/buildnml \n",
    "   Calling /glade/work/lawrence/code/cesm2.1.1/components/ww3//cime_config/buildnml\n",
    "   Calling /glade/work/lawrence/code/cesm2.1.1/cime/src/components/stub_comps/sesp/cime_config/buildnml\n",
    "   Calling /glade/work/lawrence/code/cesm2.1.1/cime/src/drivers/mct/cime_config/buildnml\n",
    "Finished creating component namelists\n",
    "Building gptl with output to file /glade/scratch/lawrence/b.day1.0/bld/gptl.bldlog.230604-210323\n",
    "   Calling /glade/work/lawrence/code/cesm2.1.1/cime/src/build_scripts/buildlib.gptl\n",
    "Building mct with output to file /glade/scratch/lawrence/b.day1.0/bld/mct.bldlog.230604-210323\n",
    "   Calling /glade/work/lawrence/code/cesm2.1.1/cime/src/build_scripts/buildlib.mct\n",
    "Building pio with output to file /glade/scratch/lawrence/b.day1.0/bld/pio.bldlog.230604-210323\n",
    "   Calling /glade/work/lawrence/code/cesm2.1.1/cime/src/build_scripts/buildlib.pio\n",
    "Component pio build complete with 2 warnings\n",
    "Building csm_share with output to file /glade/scratch/lawrence/b.day1.0/bld/csm_share.bldlog.230604-210323\n",
    "   Calling /glade/work/lawrence/code/cesm2.1.1/cime/src/build_scripts/buildlib.csm_share\n",
    "Component csm_share build complete with 20 warnings\n",
    "         - Building clm4_5/clm5_0 Library \n",
    "Building lnd with output to /glade/scratch/lawrence/b.day1.0/bld/lnd.bldlog.230604-210323\n",
    "Component lnd build complete with 6 warnings\n",
    "clm built in 192.005673 seconds\n",
    "Building atm with output to /glade/scratch/lawrence/b.day1.0/bld/atm.bldlog.230604-210323\n",
    "Building ice with output to /glade/scratch/lawrence/b.day1.0/bld/ice.bldlog.230604-210323\n",
    "Building ocn with output to /glade/scratch/lawrence/b.day1.0/bld/ocn.bldlog.230604-210323\n",
    "Building rof with output to /glade/scratch/lawrence/b.day1.0/bld/rof.bldlog.230604-210323\n",
    "Building glc with output to /glade/scratch/lawrence/b.day1.0/bld/glc.bldlog.230604-210323\n",
    "Building wav with output to /glade/scratch/lawrence/b.day1.0/bld/wav.bldlog.230604-210323\n",
    "Building esp with output to /glade/scratch/lawrence/b.day1.0/bld/esp.bldlog.230604-210323\n",
    "sesp built in 6.550780 seconds\n",
    "mosart built in 134.204042 seconds\n",
    "ww built in 138.574013 seconds\n",
    "Component ice build complete with 1 warnings\n",
    "Component ocn build complete with 11 warnings\n",
    "cice built in 433.050327 seconds\n",
    "pop built in 433.050846 seconds\n",
    "Component glc build complete with 3 warnings\n",
    "cism built in 465.060580 seconds\n",
    "Component atm build complete with 14 warnings\n",
    "cam built in 571.486847 seconds\n",
    "Building cesm with output to /glade/scratch/lawrence/b.day1.0/bld/cesm.bldlog.230604-210323 \n",
    "Time spent not building: 13.730840 sec\n",
    "Time spent building: 1073.152414 sec\n",
    "MODEL BUILD HAS FINISHED SUCCESSFULLY\n",
    "\n",
    "```\n"
   ]
  },
  {
   "cell_type": "markdown",
   "id": "c8eb663e-74e9-4dba-9bd1-d8c895b90c12",
   "metadata": {},
   "source": [
    "# Take-away points\n",
    "\n",
    "- Namelist creation.\n",
    "- Individual Component Model Build.\n",
    "- Final CESM Build\n",
    "- MODEL BUILD SUCCESS!!"
   ]
  },
  {
   "cell_type": "code",
   "execution_count": null,
   "id": "c2463ac2-7ada-48bd-8662-9e4115f7e8f5",
   "metadata": {},
   "outputs": [],
   "source": []
  }
 ],
 "metadata": {
  "kernelspec": {
   "display_name": "Python 3 (ipykernel)",
   "language": "python",
   "name": "python3"
  },
  "language_info": {
   "codemirror_mode": {
    "name": "ipython",
    "version": 3
   },
   "file_extension": ".py",
   "mimetype": "text/x-python",
   "name": "python",
   "nbconvert_exporter": "python",
   "pygments_lexer": "ipython3",
   "version": "3.9.12"
  }
 },
 "nbformat": 4,
 "nbformat_minor": 5
}
