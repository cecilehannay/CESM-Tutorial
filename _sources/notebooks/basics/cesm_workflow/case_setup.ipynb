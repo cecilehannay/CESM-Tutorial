{
 "cells": [
  {
   "cell_type": "markdown",
   "id": "f9dac1fe-df62-4560-adf5-2779d9ed8f2d",
   "metadata": {},
   "source": [
    "# Case: case.setup\n",
    "\n"
   ]
  },
  {
   "cell_type": "markdown",
   "id": "d62c7e4b-86e0-40ec-8dfa-5744c3884bc0",
   "metadata": {},
   "source": [
    "![Case Setup Image](../../../images/basics/CESM2_Case_Setup.png)"
   ]
  },
  {
   "cell_type": "markdown",
   "id": "603ec48e-9f64-41a5-a878-fc90bf580422",
   "metadata": {},
   "source": [
    "# CESM2 Namelist files and settings\n",
    "\n",
    "<strong> This link is broken!! </strong>\n",
    "<br>\n",
    "[http://www.cesm.ucar.edu/models/cesm2/component_settings](http://www.cesm.ucar.edu/models/cesm2/component_settings)\n"
   ]
  },
  {
   "cell_type": "markdown",
   "id": "c8eb663e-74e9-4dba-9bd1-d8c895b90c12",
   "metadata": {},
   "source": [
    "# Take-away points\n",
    "\n",
    "- Every component defines its own namelist file in the RUNDIR by combining the default component namelist with the CASEROOT user_nl_[comp] file.\n",
    "- The CASEROOT preview_namelist script can be used to check user defined namelist settings in the user_nl_[comp] files.\n",
    "- Namelist vs XML settings? Namelists are all run-time component specific options. XML settings can apply to any part of the workflow, and any part of the model."
   ]
  },
  {
   "cell_type": "code",
   "execution_count": null,
   "id": "c2463ac2-7ada-48bd-8662-9e4115f7e8f5",
   "metadata": {},
   "outputs": [],
   "source": []
  }
 ],
 "metadata": {
  "kernelspec": {
   "display_name": "Python 3 (ipykernel)",
   "language": "python",
   "name": "python3"
  },
  "language_info": {
   "codemirror_mode": {
    "name": "ipython",
    "version": 3
   },
   "file_extension": ".py",
   "mimetype": "text/x-python",
   "name": "python",
   "nbconvert_exporter": "python",
   "pygments_lexer": "ipython3",
   "version": "3.9.12"
  }
 },
 "nbformat": 4,
 "nbformat_minor": 5
}
