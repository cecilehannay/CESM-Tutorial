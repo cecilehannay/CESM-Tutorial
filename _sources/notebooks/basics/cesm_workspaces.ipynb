{
 "cells": [
  {
   "cell_type": "markdown",
   "id": "f406f992-92bd-4b17-9bd3-b99c5c8abaf3",
   "metadata": {},
   "source": [
    "# CESM Workspaces\n",
    "\n",
    "The CESM model consists of five main directory tree areas that make up the **CESM Workspace**. Utilizing the CESM model requires knowledge of the locations of the different parts of the model. The individual directories represent different elements including the source code, your experiment cases, the area where the model runs, the location of input data, and the location where the output data from the model will be archived for later use. One of the key elements of the Tutorial will be learning where each of these workspace elements are located and how to setup, build, run and analyze the output of model simulations. <br><br>\n",
    "\n",
    "Note on Terminology <br>\n",
    "**Paths** are the directions to the location of different pieces of your workspace <br>\n",
    "**Roots** are saved paths that point to each piece"
   ]
  },
  {
   "cell_type": "markdown",
   "id": "2d5cb190-82bf-41a3-9054-dbf82ce9a84a",
   "metadata": {},
   "source": [
    "# Workspace Overview\n",
    "\n",
    "![CESM directories and namelists](../../images/basics/CESM2_Workspaces.png)\n",
    "*<p style=\"text-align: center;\"> Figure: Overview of the CESM2 Workspace Paths </p>*\n"
   ]
  },
  {
   "cell_type": "markdown",
   "id": "2293113e-47e4-4abe-aa7d-6206fb7f107f",
   "metadata": {},
   "source": [
    "# Workspace Detail\n",
    "\n",
    "![CESM directories and namelists](../../images/basics/CESM2_Workspaces_Detail.png)\n",
    "*<p style=\"text-align: center;\"> Figure: Detailed view of the CESM2 Workspace Paths </p>*"
   ]
  },
  {
   "cell_type": "code",
   "execution_count": null,
   "id": "c0722c0d-86b8-4b6a-bce7-092dd7f0d642",
   "metadata": {},
   "outputs": [],
   "source": []
  }
 ],
 "metadata": {
  "kernelspec": {
   "display_name": "Python 3 (ipykernel)",
   "language": "python",
   "name": "python3"
  },
  "language_info": {
   "codemirror_mode": {
    "name": "ipython",
    "version": 3
   },
   "file_extension": ".py",
   "mimetype": "text/x-python",
   "name": "python",
   "nbconvert_exporter": "python",
   "pygments_lexer": "ipython3",
   "version": "3.9.12"
  }
 },
 "nbformat": 4,
 "nbformat_minor": 5
}
