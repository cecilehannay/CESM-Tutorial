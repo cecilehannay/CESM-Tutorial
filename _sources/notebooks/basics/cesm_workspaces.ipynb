{
 "cells": [
  {
   "cell_type": "markdown",
   "id": "f406f992-92bd-4b17-9bd3-b99c5c8abaf3",
   "metadata": {},
   "source": [
    "# Workspaces"
   ]
  },
  {
   "cell_type": "markdown",
   "id": "15d62f62-74a4-4936-8283-4d0226dcedab",
   "metadata": {},
   "source": [
    "The CESM model consists of five main directory tree areas that make up the **CESM Workspace**. Utilizing the CESM model requires knowledge of the locations of the different parts of the model. The individual directories represent different elements including the source code, your experiment cases, the area where the model runs, the location of input data, and the location where the output data from the model will be archived for later use. One of the key elements of the Tutorial will be learning where each of these workspace elements are located and how to setup, build, run and analyze the output of model simulations. <br><br>\n",
    "\n",
    "Note on Terminology <br>\n",
    "**Paths** are the directions to the location of different pieces of your workspace <br>\n",
    "**Roots** are saved paths that point to each piece"
   ]
  },
  {
   "cell_type": "markdown",
   "id": "2d5cb190-82bf-41a3-9054-dbf82ce9a84a",
   "metadata": {},
   "source": [
    "## Workspace Overview\n",
    "\n",
    "![CESM directories and namelists](../../../images/basics/CESM2_Workspaces.png)\n",
    "*<p style=\"text-align: center;\"> Figure: Overview of the CESM2 Workspace Paths </p>*\n"
   ]
  },
  {
   "cell_type": "markdown",
   "id": "19acc3aa-fb98-44af-966f-16ca49710135",
   "metadata": {},
   "source": [
    "## Create Code Workspace Location\n"
   ]
  },
  {
   "cell_type": "markdown",
   "id": "1c6bda59-5302-4454-88bb-dfe5c4bd3209",
   "metadata": {},
   "source": [
    "We will now set up your `Source Code` Workspace Location (#1 on the figure, above) on the Cheyenne glade file system. In all exercises in this tutorial `$USER` is a placeholder and you should use your NCAR HPC login name when completing the exercise.\n"
   ]
  },
  {
   "cell_type": "markdown",
   "id": "b281cda4-e1c0-458b-98df-a1cf34c45a72",
   "metadata": {},
   "source": [
    "<div class=\"alert alert-info\">\n",
    "\n",
    "```\n",
    "cd /glade/work/$USER\n",
    "mkdir code\n",
    "```\n",
    "   \n",
    "</div>"
   ]
  },
  {
   "cell_type": "markdown",
   "id": "76f14c71-ffae-4d67-b496-d6b075d4652d",
   "metadata": {},
   "source": [
    "## Create Cases Workspace Location\n"
   ]
  },
  {
   "cell_type": "markdown",
   "id": "667ca15d-2ef7-40b1-be89-3abac566d472",
   "metadata": {},
   "source": [
    "We will now set up your `Case` Workspace Location (#2 on the figure, above) on the Cheyenne glade file system. Before you can start working with CESM and completing runs, make a directory where all the cases from this tutorial will be located."
   ]
  },
  {
   "cell_type": "markdown",
   "id": "37b8b7c6-9152-47d8-af76-7814006a5718",
   "metadata": {},
   "source": [
    "<div class=\"alert alert-info\">\n",
    "\n",
    "```\n",
    "cd /glade/work/$USER\n",
    "mkdir cases\n",
    "```\n",
    "   \n",
    "</div>\n"
   ]
  },
  {
   "cell_type": "markdown",
   "id": "3a779263-cb21-443e-a3d8-0bd4a0e267e8",
   "metadata": {},
   "source": [
    "## Build, Run, and Archive Workspaces\n"
   ]
  },
  {
   "cell_type": "markdown",
   "id": "4e972986-5267-43a8-917b-1e36c7117323",
   "metadata": {},
   "source": [
    "We will not directly set up your `Build/Run` Workspace Location (#3 on the figure, above) or the `Data Archive` Workspace Location (#4 on the figure, above). These directories will be automatically created when you create a CESM case."
   ]
  },
  {
   "cell_type": "code",
   "execution_count": null,
   "id": "c284c743-ffe2-4c4e-b6f6-04e3805bff32",
   "metadata": {},
   "outputs": [],
   "source": []
  }
 ],
 "metadata": {
  "kernelspec": {
   "display_name": "Python 3 (ipykernel)",
   "language": "python",
   "name": "python3"
  },
  "language_info": {
   "codemirror_mode": {
    "name": "ipython",
    "version": 3
   },
   "file_extension": ".py",
   "mimetype": "text/x-python",
   "name": "python",
   "nbconvert_exporter": "python",
   "pygments_lexer": "ipython3",
   "version": "3.9.12"
  }
 },
 "nbformat": 4,
 "nbformat_minor": 5
}
