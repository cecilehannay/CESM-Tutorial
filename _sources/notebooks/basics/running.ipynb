{
 "cells": [
  {
   "cell_type": "markdown",
   "metadata": {},
   "source": [
    "# Your first CESM run\n",
    "\n",
    "This is a very quick introduction to running the climate model CESM. It will guide you through the basics of running CESM. <br>\n",
    "Today, we will run a simulation. Tomorrow, we will look at the data you produced. \n",
    "\n",
    "*** "
   ]
  },
  {
   "cell_type": "markdown",
   "metadata": {
    "tags": []
   },
   "source": [
    "## 1. Creating a CESM case\n",
    "\n",
    "CESM experiments start with creating a **case** with a specific configuration of CESM (**compset**) and at a particular **resolution**. \n",
    "\n",
    "For instance, here is the command to create a CESM case called **case0** with <br>\n",
    "<ul>\n",
    "    <li>compset:    B1850</li>\n",
    "    <li>resolution: f19_g17</li>\n",
    "</ul>"
   ]
  },
  {
   "cell_type": "markdown",
   "metadata": {},
   "source": [
    "![image](images/running_image.png)"
   ]
  },
  {
   "cell_type": "markdown",
   "metadata": {},
   "source": [
    "### Exercise 1\n",
    "\n",
    "Create and run a B1850 case at f19_g17 resolution, calling your case 'case01':"
   ]
  },
  {
   "cell_type": "code",
   "execution_count": null,
   "metadata": {
    "tags": []
   },
   "outputs": [],
   "source": []
  },
  {
   "cell_type": "markdown",
   "metadata": {},
   "source": [
    "<div class=\"alert alert-success\">\n",
    "   \n",
    "<details>   \n",
    "   <summary>\n",
    "        <img src=\"https://freesvg.org/img/help-browser.png\" width=\"20px\">\n",
    "       <font face=\"Times New Roman\" color='blue' size=\"4\">Solution to Exercise 1</font>\n",
    "    </summary>\n",
    "\n",
    "create_newcase --case case01 --compset B1850 --res f19_g17 \n",
    "    \n",
    "</details>\n",
    "</div>"
   ]
  },
  {
   "cell_type": "markdown",
   "metadata": {},
   "source": [
    "\n",
    "Great!  You've created the default version of your case. Let's wait for everyone before going to step 2.\n",
    "<br><br>\n",
    "\n",
    "***"
   ]
  },
  {
   "cell_type": "markdown",
   "metadata": {
    "tags": []
   },
   "source": [
    "<h2> 2. Setting up the case</h2>\n",
    "\n",
    "The next step in running CESM is to **setup** the case. This is done by going into the case you just created and running `./case.setup`.   \n",
    "\n",
    "The command `./case.setup` sets up files that control the model's behavior.  \n"
   ]
  },
  {
   "cell_type": "markdown",
   "metadata": {
    "tags": []
   },
   "source": [
    "### Exercise 2\n",
    "\n",
    "Customize the cell below with your own case name. Then run the cell. This sets up the case. "
   ]
  },
  {
   "cell_type": "code",
   "execution_count": null,
   "metadata": {},
   "outputs": [],
   "source": [
    "cd case0\n",
    "./case.setup"
   ]
  },
  {
   "cell_type": "markdown",
   "metadata": {
    "tags": []
   },
   "source": [
    "<br>Great!  You've now used the `case.setup` command to set up your case.  Let's wait for everyone before going to step 3.<br><br>\n",
    "\n",
    "***"
   ]
  },
  {
   "cell_type": "markdown",
   "metadata": {},
   "source": [
    "## 3. Compiling the case\n",
    "\n",
    "  "
   ]
  },
  {
   "cell_type": "markdown",
   "metadata": {},
   "source": [
    "(need to fill in a lot more!)"
   ]
  },
  {
   "cell_type": "markdown",
   "metadata": {
    "tags": []
   },
   "source": [
    "### Exercise 3 \n",
    "\n",
    "Run the cell below. This compiles the case. Be aware that this can take a few minutes."
   ]
  },
  {
   "cell_type": "code",
   "execution_count": null,
   "metadata": {},
   "outputs": [],
   "source": [
    "qcmd -- ./case.build "
   ]
  },
  {
   "cell_type": "markdown",
   "metadata": {
    "tags": []
   },
   "source": [
    "<br><br>\n",
    "Again, this will take a few minutes.  You'll know this is complete when you see the line:\n",
    "\n",
    ">&nbsp;MODEL BUILD HAS FINISHED SUCCESSFULLY\n",
    "\n",
    "If you see that, fantastic!  You've built your first CESM case!  Let's wait for everyone before going to step 4.<br><br>\n",
    "\n",
    "\n",
    "***"
   ]
  },
  {
   "cell_type": "markdown",
   "metadata": {
    "tags": []
   },
   "source": [
    "## 4. Running your case\n",
    "\n",
    "Running a case is also simple - we just issue the `case.submit` command.  This will start by checking that we have all of the necessary input data for our run, and downloading whatever is missing, and then it will perform the actual simulation - which we've configured to run for one month.\n"
   ]
  },
  {
   "cell_type": "markdown",
   "metadata": {},
   "source": [
    "### Exercise 6\n",
    "\n",
    "Submit your simulation. Run the cell below.  "
   ]
  },
  {
   "cell_type": "code",
   "execution_count": null,
   "metadata": {
    "tags": []
   },
   "outputs": [],
   "source": [
    "./case.submit"
   ]
  },
  {
   "cell_type": "markdown",
   "metadata": {},
   "source": [
    "Well done. You are now running your first CESM simulation. We will look at the results of your simulation shortly. "
   ]
  },
  {
   "cell_type": "code",
   "execution_count": null,
   "metadata": {},
   "outputs": [],
   "source": []
  }
 ],
 "metadata": {
  "kernelspec": {
   "display_name": "Bash",
   "language": "bash",
   "name": "bash"
  },
  "language_info": {
   "codemirror_mode": "shell",
   "file_extension": ".sh",
   "mimetype": "text/x-sh",
   "name": "bash"
  }
 },
 "nbformat": 4,
 "nbformat_minor": 4
}
