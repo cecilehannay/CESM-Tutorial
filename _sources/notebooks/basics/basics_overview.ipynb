{
 "cells": [
  {
   "cell_type": "markdown",
   "id": "b2cd974a-dfbb-4937-8ed0-ab87ab60f1ef",
   "metadata": {},
   "source": [
    "# Basics"
   ]
  },
  {
   "cell_type": "markdown",
   "id": "9db9d54e-ef78-44ef-a003-4ddd8a416317",
   "metadata": {},
   "source": [
    "The CESM Model is developed around a Structured Workflow. Before running, the Workspace must be setup, which is often a one-time task. After set up, at it's simplest CESM can be run with only four commands. This section will cover these steps so that you can complete your first CESM run."
   ]
  },
  {
   "cell_type": "markdown",
   "id": "acfe09a5-e3ee-457a-a328-bde665cfe761",
   "metadata": {},
   "source": [
    "<div class=\"alert alert-info\" style=\"text-align: left;\">\n",
    "<h2> Workflow Elements: </h2>\n",
    " \n",
    "- One-Time Setup Steps\n",
    "    - **``Download``** the CESM code\n",
    "    - **``Create or Locate ``** an **``Input Data``** Root Directory\n",
    "    - Possibly require **``Porting``** if not on a setup machine\n",
    "- Creating, Running and Reviewing a Case\n",
    "    - **``Create``** a New Case\n",
    "    - **``Invoke``** case.setup\n",
    "    - **``Build``** the Executable with case.build\n",
    "    - **``Run``** the Model with case.submit\n",
    "    - **``Review``** Output Data\n",
    "\n",
    "</div>"
   ]
  },
  {
   "cell_type": "markdown",
   "id": "1371c35b-532d-4ccd-aec3-6651da1bf792",
   "metadata": {},
   "source": [
    "More detailed information on the CESM2 Workflow is documented in the following links:"
   ]
  },
  {
   "cell_type": "markdown",
   "id": "d3d38c25-4e18-42ef-81f4-f6e322af5693",
   "metadata": {},
   "source": [
    "<div class=\"alert alert-info\" style=\"text-align: center;\">\n",
    "\n",
    "[CESM2 release](https://escomp.github.io/CESM/release-cesm2/)\n",
    "    \n",
    "[CIME](https://esmci.github.io/cime/versions/master/html/index.html)\n",
    "\n",
    "</div>"
   ]
  },
  {
   "cell_type": "code",
   "execution_count": null,
   "id": "076c2c5e-8765-44db-891e-b9ee1cdaa1ee",
   "metadata": {},
   "outputs": [],
   "source": []
  }
 ],
 "metadata": {
  "kernelspec": {
   "display_name": "Python 3 (ipykernel)",
   "language": "python",
   "name": "python3"
  },
  "language_info": {
   "codemirror_mode": {
    "name": "ipython",
    "version": 3
   },
   "file_extension": ".py",
   "mimetype": "text/x-python",
   "name": "python",
   "nbconvert_exporter": "python",
   "pygments_lexer": "ipython3",
   "version": "3.9.12"
  },
  "toc-showcode": false
 },
 "nbformat": 4,
 "nbformat_minor": 5
}
