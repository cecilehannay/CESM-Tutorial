{
 "cells": [
  {
   "cell_type": "markdown",
   "id": "0959db1d-1790-4519-a34e-7026444af537",
   "metadata": {},
   "source": [
    "# Namelist Modifications"
   ]
  },
  {
   "cell_type": "markdown",
   "id": "285a23b4-2906-4422-a8a8-987546de6f0c",
   "metadata": {},
   "source": [
    "There are a number of ways that the model can be modified via namelist settings. This is what we cover in this chapter:\n",
    "- The section *Overview* describe the steps to modify the namelists and give a visual of the directories and files to modify.\n",
    "- The section *Documentation* \"Complete documentation about the namelist variables can be found on the CESM webpage.\n"
   ]
  },
  {
   "cell_type": "code",
   "execution_count": null,
   "id": "f7cf2d79-da13-416d-8345-385bc1977b79",
   "metadata": {},
   "outputs": [],
   "source": []
  }
 ],
 "metadata": {
  "kernelspec": {
   "display_name": "Python 3 (ipykernel)",
   "language": "python",
   "name": "python3"
  },
  "language_info": {
   "codemirror_mode": {
    "name": "ipython",
    "version": 3
   },
   "file_extension": ".py",
   "mimetype": "text/x-python",
   "name": "python",
   "nbconvert_exporter": "python",
   "pygments_lexer": "ipython3",
   "version": "3.9.12"
  }
 },
 "nbformat": 4,
 "nbformat_minor": 5
}
